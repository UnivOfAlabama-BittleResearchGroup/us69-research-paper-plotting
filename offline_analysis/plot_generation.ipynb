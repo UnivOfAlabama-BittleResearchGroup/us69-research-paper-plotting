{
 "cells": [
  {
   "cell_type": "markdown",
   "metadata": {},
   "source": [
    "# Emissions Plot Generation"
   ]
  },
  {
   "cell_type": "code",
   "execution_count": 1,
   "metadata": {
    "pycharm": {
     "is_executing": true
    }
   },
   "outputs": [],
   "source": [
    "import sys\n",
    "sys.path.append(\"../\")"
   ]
  },
  {
   "cell_type": "code",
   "execution_count": 11,
   "metadata": {
    "pycharm": {
     "is_executing": true
    }
   },
   "outputs": [],
   "source": [
    "from plots import trace_visualisation, pdf, line_plots\n",
    "import pandas as pd\n",
    "import definitions\n",
    "import os\n",
    "import datetime\n",
    "from functions import mp_funcs\n",
    "from functions import func\n",
    "import plotly.io as pio\n",
    "import pickle\n",
    "from plotly import offline\n",
    "# offline.init_notebook_mode()\n",
    "pio.renderers.default = 'browser'"
   ]
  },
  {
   "cell_type": "markdown",
   "metadata": {
    "pycharm": {
     "name": "#%% md\n"
    }
   },
   "source": [
    "## Get the Data Name and Locations"
   ]
  },
  {
   "cell_type": "code",
   "execution_count": 12,
   "metadata": {
    "collapsed": false,
    "jupyter": {
     "outputs_hidden": false
    },
    "pycharm": {
     "name": "#%%\n"
    }
   },
   "outputs": [],
   "source": [
    "DATA_FOLDER = '2020-06-24_09_03_03-Full-Analysis'\n",
    "DATA_DIR_FULL_PATH = os.path.join(definitions.DATA_DIR, DATA_FOLDER)\n",
    "\n",
    "RAW_DATA_FILE = 'data.csv'\n",
    "RAW_DATA_SUMMARY = 'data_summary.csv'"
   ]
  },
  {
   "cell_type": "markdown",
   "metadata": {
    "pycharm": {
     "name": "#%% md\n"
    }
   },
   "source": [
    "## Read in the Data"
   ]
  },
  {
   "cell_type": "code",
   "execution_count": 4,
   "metadata": {
    "collapsed": false,
    "jupyter": {
     "outputs_hidden": false
    },
    "pycharm": {
     "name": "#%% Read in the Data\n"
    }
   },
   "outputs": [
    {
     "name": "stderr",
     "output_type": "stream",
     "text": [
      "c:\\users\\spraychamber\\us69-research-paper-plotting\\venv\\lib\\site-packages\\numpy\\lib\\arraysetops.py:569: FutureWarning:\n",
      "\n",
      "elementwise comparison failed; returning scalar instead, but in the future will perform elementwise comparison\n",
      "\n"
     ]
    }
   ],
   "source": [
    "raw_data_df = pd.read_csv(os.path.join(DATA_DIR_FULL_PATH, RAW_DATA_FILE), low_memory=False, index_col=0)\n",
    "summary_df = pd.read_csv(os.path.join(DATA_DIR_FULL_PATH, RAW_DATA_SUMMARY), header=[0, 1], index_col=0)\n",
    "raw_data_df.loc[:, 'timestep_time'] = pd.to_datetime(raw_data_df.loc[:, 'timestep_time'])"
   ]
  },
  {
   "cell_type": "markdown",
   "metadata": {},
   "source": [
    "## Convert the Timestep_Time to a timestep if not already"
   ]
  },
  {
   "cell_type": "code",
   "execution_count": 5,
   "metadata": {
    "collapsed": false,
    "jupyter": {
     "outputs_hidden": false
    },
    "pycharm": {
     "name": "#%%\n"
    }
   },
   "outputs": [],
   "source": [
    "if raw_data_df['timestep_time'].dtype.name == 'float64':\n",
    "    \"\"\" These don't work on Windows \"\"\"\n",
    "    # print(\"Calling mp apply\")\n",
    "    # raw_data_df.loc[:, 'timestep_time'] = mp_funcs.apply_by_multiprocessing(raw_data_df['timestep_time'], func)\n",
    "    # raw_data_df.loc[:, 'timestep_time'] = pd.to_datetime(raw_data_df.loc[:, 'timestep_time'])\n",
    "    raw_data_df['timestep_time'] = raw_data_df['timestep_time'].apply(func=func)\n",
    "    raw_data_df.loc[:, 'timestep_time'] = pd.to_datetime(raw_data_df.loc[:, 'timestep_time'])\n",
    "    print(\"Saving to .csv\")\n",
    "    raw_data_df.to_csv(os.path.join(DATA_DIR_FULL_PATH, RAW_DATA_FILE))"
   ]
  },
  {
   "cell_type": "markdown",
   "metadata": {},
   "source": [
    "## Calculate the Most Representative Vehicles"
   ]
  },
  {
   "cell_type": "markdown",
   "metadata": {},
   "source": [
    "### The parameters for consideration"
   ]
  },
  {
   "cell_type": "code",
   "execution_count": 6,
   "metadata": {
    "collapsed": false,
    "jupyter": {
     "outputs_hidden": false
    },
    "pycharm": {
     "name": "#%%\n"
    }
   },
   "outputs": [],
   "source": [
    "columns = [('distance', 'total'),\n",
    "           #('norm_time', 'total'),\n",
    "           #('vehicle_fuel', 'total'),\n",
    "           # ('vehicle_fuel', 'average_per_step'),\n",
    "           ('vehicle_fuel', 'per_100km'),\n",
    "           # ('vehicle_fuel', 'mpg'),\n",
    "           #('vehicle_CO2', 'total'),\n",
    "           # ('vehicle_CO2', 'average_per_step'),\n",
    "           #('vehicle_CO2', 'per_100km'),\n",
    "           #('vehicle_CO', 'total'),\n",
    "           # ('vehicle_CO', 'average_per_step'),\n",
    "           #('vehicle_CO', 'per_100km'),\n",
    "           #('vehicle_HC', 'total'),\n",
    "           # ('vehicle_HC', 'average_per_step'),\n",
    "           #('vehicle_HC', 'per_100km'),\n",
    "           #('vehicle_NOx', 'total'),\n",
    "           # ('vehicle_NOx', 'average_per_step'),\n",
    "           #('vehicle_NOx', 'per_100km'),\n",
    "           #('vehicle_PMx', 'total'),\n",
    "           # ('vehicle_PMx', 'average_per_step'),\n",
    "           #('vehicle_PMx', 'per_100km'),\n",
    "           # ('vehicle_electricity', 'total'),\n",
    "           # ('vehicle_electricity', 'average_per_step'),\n",
    "           # ('vehicle_electricity', 'per_100km')\n",
    "           ]"
   ]
  },
  {
   "cell_type": "markdown",
   "metadata": {},
   "source": [
    "### The Calculation"
   ]
  },
  {
   "cell_type": "code",
   "execution_count": 7,
   "metadata": {
    "collapsed": false,
    "jupyter": {
     "outputs_hidden": false
    },
    "pycharm": {
     "name": "#%%\n"
    }
   },
   "outputs": [
    {
     "name": "stdout",
     "output_type": "stream",
     "text": [
      "The best fit vehicle is: 45480_20\n",
      "The best fit vehicle to the 95% is: 37920_117\n",
      "The best fit vehicle to the 5% is: 26520_337\n"
     ]
    }
   ],
   "source": [
    "summary_df.loc['Total_std'] = summary_df.iloc[2:].std()\n",
    "z_score_df_min = pd.DataFrame(index=summary_df.index, columns=columns)\n",
    "z_score_plus_std = z_score_df_min.copy()\n",
    "z_score_minus_std = z_score_df_min.copy()\n",
    "\n",
    "dev = 1.96\n",
    "\n",
    "# Calculate the standard deviation and z score for each parameter. get abs(add z score) and get the min\n",
    "for col in columns:\n",
    "    z_score_df_min[col].iloc[2:] = abs(summary_df[col].iloc[2:] - summary_df.loc['Total_average', col]) / summary_df.loc['Total_std', col]\n",
    "    z_score_plus_std[col].iloc[2:] = abs(summary_df[col].iloc[2:] - (summary_df.loc['Total_average', col] + dev * summary_df.loc['Total_std', col])) / summary_df.loc['Total_std', col]\n",
    "    z_score_minus_std[col].iloc[2:] = abs(summary_df[col].iloc[2:] - (summary_df.loc['Total_average', col] - dev * summary_df.loc['Total_std', col])) / summary_df.loc['Total_std', col]\n",
    "    \n",
    "z_score_df_min['diff_sum'] = z_score_df_min.sum(axis=1)\n",
    "best_fit_vehicle = z_score_df_min['diff_sum'].iloc[2:].idxmin()\n",
    "## Pick a vehicle from the 5th and 95th percentile and look at actual low and high\n",
    "print('The best fit vehicle is: {0}'.format(best_fit_vehicle))\n",
    "\n",
    "z_score_plus_std['diff_sum'] = z_score_plus_std.sum(axis=1)\n",
    "best_fit_vehicle_plus_std = z_score_plus_std['diff_sum'].iloc[2:].idxmin()\n",
    "## Pick a vehicle from the 5th and 95th percentile and look at actual low and high\n",
    "print('The best fit vehicle to the 95% is: {0}'.format(best_fit_vehicle_plus_std))\n",
    "\n",
    "z_score_minus_std['diff_sum'] = z_score_minus_std.sum(axis=1)\n",
    "best_fit_vehicle_minus_std = z_score_minus_std['diff_sum'].iloc[2:].idxmin()\n",
    "## Pick a vehicle from the 5th and 95th percentile and look at actual low and high\n",
    "print('The best fit vehicle to the 5% is: {0}'.format(best_fit_vehicle_minus_std))"
   ]
  },
  {
   "cell_type": "code",
   "execution_count": 9,
   "metadata": {},
   "outputs": [
    {
     "data": {
      "text/html": [
       "<div>\n",
       "<style scoped>\n",
       "    .dataframe tbody tr th:only-of-type {\n",
       "        vertical-align: middle;\n",
       "    }\n",
       "\n",
       "    .dataframe tbody tr th {\n",
       "        vertical-align: top;\n",
       "    }\n",
       "\n",
       "    .dataframe thead tr th {\n",
       "        text-align: left;\n",
       "    }\n",
       "</style>\n",
       "<table border=\"1\" class=\"dataframe\">\n",
       "  <thead>\n",
       "    <tr>\n",
       "      <th></th>\n",
       "      <th>distance</th>\n",
       "      <th>norm_time</th>\n",
       "      <th colspan=\"4\" halign=\"left\">vehicle_fuel</th>\n",
       "      <th colspan=\"3\" halign=\"left\">vehicle_CO2</th>\n",
       "      <th>vehicle_CO</th>\n",
       "      <th>...</th>\n",
       "      <th>vehicle_HC</th>\n",
       "      <th colspan=\"3\" halign=\"left\">vehicle_NOx</th>\n",
       "      <th colspan=\"3\" halign=\"left\">vehicle_PMx</th>\n",
       "      <th colspan=\"3\" halign=\"left\">vehicle_electricity</th>\n",
       "    </tr>\n",
       "    <tr>\n",
       "      <th></th>\n",
       "      <th>total</th>\n",
       "      <th>total</th>\n",
       "      <th>total</th>\n",
       "      <th>average_per_step</th>\n",
       "      <th>per_100km</th>\n",
       "      <th>mpg</th>\n",
       "      <th>total</th>\n",
       "      <th>average_per_step</th>\n",
       "      <th>per_100km</th>\n",
       "      <th>total</th>\n",
       "      <th>...</th>\n",
       "      <th>per_100km</th>\n",
       "      <th>total</th>\n",
       "      <th>average_per_step</th>\n",
       "      <th>per_100km</th>\n",
       "      <th>total</th>\n",
       "      <th>average_per_step</th>\n",
       "      <th>per_100km</th>\n",
       "      <th>total</th>\n",
       "      <th>average_per_step</th>\n",
       "      <th>per_100km</th>\n",
       "    </tr>\n",
       "  </thead>\n",
       "  <tbody>\n",
       "    <tr>\n",
       "      <th>Total_average</th>\n",
       "      <td>0.489416</td>\n",
       "      <td>59.216997</td>\n",
       "      <td>0.024354</td>\n",
       "      <td>0.000463</td>\n",
       "      <td>11.704768</td>\n",
       "      <td>20.095661</td>\n",
       "      <td>209.732707</td>\n",
       "      <td>3.976702</td>\n",
       "      <td>26628.121162</td>\n",
       "      <td>4.443071</td>\n",
       "      <td>...</td>\n",
       "      <td>3.413676</td>\n",
       "      <td>0.090633</td>\n",
       "      <td>0.001762</td>\n",
       "      <td>11.506943</td>\n",
       "      <td>0.008643</td>\n",
       "      <td>0.000171</td>\n",
       "      <td>1.097310</td>\n",
       "      <td>0.0</td>\n",
       "      <td>0.0</td>\n",
       "      <td>0.0</td>\n",
       "    </tr>\n",
       "    <tr>\n",
       "      <th>45480_20</th>\n",
       "      <td>0.489677</td>\n",
       "      <td>50.000000</td>\n",
       "      <td>0.024328</td>\n",
       "      <td>0.000477</td>\n",
       "      <td>11.685703</td>\n",
       "      <td>20.128447</td>\n",
       "      <td>206.931980</td>\n",
       "      <td>4.057490</td>\n",
       "      <td>99399.272784</td>\n",
       "      <td>6.046240</td>\n",
       "      <td>...</td>\n",
       "      <td>16.629633</td>\n",
       "      <td>0.100940</td>\n",
       "      <td>0.001979</td>\n",
       "      <td>48.486283</td>\n",
       "      <td>0.012210</td>\n",
       "      <td>0.000239</td>\n",
       "      <td>5.865044</td>\n",
       "      <td>0.0</td>\n",
       "      <td>0.0</td>\n",
       "      <td>0.0</td>\n",
       "    </tr>\n",
       "    <tr>\n",
       "      <th>37920_117</th>\n",
       "      <td>0.769233</td>\n",
       "      <td>125.000000</td>\n",
       "      <td>0.066524</td>\n",
       "      <td>0.000528</td>\n",
       "      <td>20.341548</td>\n",
       "      <td>11.563282</td>\n",
       "      <td>558.183060</td>\n",
       "      <td>4.430024</td>\n",
       "      <td>170680.401701</td>\n",
       "      <td>21.487810</td>\n",
       "      <td>...</td>\n",
       "      <td>34.354219</td>\n",
       "      <td>0.270010</td>\n",
       "      <td>0.002143</td>\n",
       "      <td>82.563264</td>\n",
       "      <td>0.033120</td>\n",
       "      <td>0.000263</td>\n",
       "      <td>10.127385</td>\n",
       "      <td>0.0</td>\n",
       "      <td>0.0</td>\n",
       "      <td>0.0</td>\n",
       "    </tr>\n",
       "    <tr>\n",
       "      <th>26520_337</th>\n",
       "      <td>0.243483</td>\n",
       "      <td>18.000000</td>\n",
       "      <td>0.003289</td>\n",
       "      <td>0.000173</td>\n",
       "      <td>3.177260</td>\n",
       "      <td>74.030777</td>\n",
       "      <td>28.980480</td>\n",
       "      <td>1.525288</td>\n",
       "      <td>27996.403848</td>\n",
       "      <td>0.183080</td>\n",
       "      <td>...</td>\n",
       "      <td>1.874124</td>\n",
       "      <td>0.012130</td>\n",
       "      <td>0.000638</td>\n",
       "      <td>11.718107</td>\n",
       "      <td>0.000910</td>\n",
       "      <td>0.000048</td>\n",
       "      <td>0.879100</td>\n",
       "      <td>0.0</td>\n",
       "      <td>0.0</td>\n",
       "      <td>0.0</td>\n",
       "    </tr>\n",
       "  </tbody>\n",
       "</table>\n",
       "<p>4 rows × 24 columns</p>\n",
       "</div>"
      ],
      "text/plain": [
       "               distance   norm_time vehicle_fuel                              \\\n",
       "                  total       total        total average_per_step  per_100km   \n",
       "Total_average  0.489416   59.216997     0.024354         0.000463  11.704768   \n",
       "45480_20       0.489677   50.000000     0.024328         0.000477  11.685703   \n",
       "37920_117      0.769233  125.000000     0.066524         0.000528  20.341548   \n",
       "26520_337      0.243483   18.000000     0.003289         0.000173   3.177260   \n",
       "\n",
       "                         vehicle_CO2                                  \\\n",
       "                     mpg       total average_per_step      per_100km   \n",
       "Total_average  20.095661  209.732707         3.976702   26628.121162   \n",
       "45480_20       20.128447  206.931980         4.057490   99399.272784   \n",
       "37920_117      11.563282  558.183060         4.430024  170680.401701   \n",
       "26520_337      74.030777   28.980480         1.525288   27996.403848   \n",
       "\n",
       "              vehicle_CO  ... vehicle_HC vehicle_NOx                   \\\n",
       "                   total  ...  per_100km       total average_per_step   \n",
       "Total_average   4.443071  ...   3.413676    0.090633         0.001762   \n",
       "45480_20        6.046240  ...  16.629633    0.100940         0.001979   \n",
       "37920_117      21.487810  ...  34.354219    0.270010         0.002143   \n",
       "26520_337       0.183080  ...   1.874124    0.012130         0.000638   \n",
       "\n",
       "                         vehicle_PMx                              \\\n",
       "               per_100km       total average_per_step  per_100km   \n",
       "Total_average  11.506943    0.008643         0.000171   1.097310   \n",
       "45480_20       48.486283    0.012210         0.000239   5.865044   \n",
       "37920_117      82.563264    0.033120         0.000263  10.127385   \n",
       "26520_337      11.718107    0.000910         0.000048   0.879100   \n",
       "\n",
       "              vehicle_electricity                             \n",
       "                            total average_per_step per_100km  \n",
       "Total_average                 0.0              0.0       0.0  \n",
       "45480_20                      0.0              0.0       0.0  \n",
       "37920_117                     0.0              0.0       0.0  \n",
       "26520_337                     0.0              0.0       0.0  \n",
       "\n",
       "[4 rows x 24 columns]"
      ]
     },
     "execution_count": 9,
     "metadata": {},
     "output_type": "execute_result"
    }
   ],
   "source": [
    "excel_out = summary_df.loc[['Total_average', best_fit_vehicle, best_fit_vehicle_plus_std, best_fit_vehicle_minus_std]]\n",
    "excel_out"
   ]
  },
  {
   "cell_type": "markdown",
   "metadata": {},
   "source": [
    "## Plot the Most Representative Vehicles"
   ]
  },
  {
   "cell_type": "markdown",
   "metadata": {},
   "source": [
    "### Most Average Vehicle"
   ]
  },
  {
   "cell_type": "code",
   "execution_count": 13,
   "metadata": {
    "collapsed": false,
    "jupyter": {
     "outputs_hidden": false
    },
    "pycharm": {
     "name": "#%%\n"
    }
   },
   "outputs": [],
   "source": [
    "plot_vehicle = best_fit_vehicle\n",
    "\n",
    "trace_visualisation.sampled_emissions_df = raw_data_df\n",
    "trace_visualisation.trace_visual(plot_vehicle).show()\n",
    "\n",
    "trace_no_map = trace_visualisation.trace_no_map(plot_vehicle, plot_columns=['vehicle_fuel', 'vehicle_CO2', 'vehicle_NOx'],\n",
    "                                 axis_names=[\"Vehicle Speed [mph]\", 'Vehicle Fuel [gal/s]', 'Vehicle CO_2 [g/s]',\n",
    "                                             'Vehicle NOx [g/s]'])\n",
    "trace_no_map.show()\n",
    "# pio.write_json(trace_no_map, os.path.join(definitions.ROOT, 'raw_plots', 'trace_no_map.plotly'))"
   ]
  },
  {
   "cell_type": "markdown",
   "metadata": {},
   "source": [
    "### 5% Vehicle"
   ]
  },
  {
   "cell_type": "code",
   "execution_count": 51,
   "metadata": {},
   "outputs": [],
   "source": [
    "plot_vehicle = best_fit_vehicle_minus_std\n",
    "\n",
    "trace_visualisation.sampled_emissions_df = raw_data_df\n",
    "trace_visualisation.trace_visual(plot_vehicle).show()\n",
    "\n",
    "trace_no_map = trace_visualisation.trace_no_map(plot_vehicle, plot_columns=['vehicle_fuel', 'vehicle_CO2', 'vehicle_NOx'],\n",
    "                                 axis_names=[\"Vehicle Speed [mph]\", 'Vehicle Fuel [gal/s]', 'Vehicle CO_2 [g/s]',\n",
    "                                             'Vehicle NOx [g/s]'])\n",
    "trace_no_map.show()"
   ]
  },
  {
   "cell_type": "markdown",
   "metadata": {},
   "source": [
    "### 95% Vehicle"
   ]
  },
  {
   "cell_type": "code",
   "execution_count": 52,
   "metadata": {},
   "outputs": [],
   "source": [
    "plot_vehicle = best_fit_vehicle_plus_std\n",
    "\n",
    "trace_visualisation.sampled_emissions_df = raw_data_df\n",
    "trace_visualisation.trace_visual(plot_vehicle).show()\n",
    "\n",
    "trace_no_map = trace_visualisation.trace_no_map(plot_vehicle, plot_columns=['vehicle_fuel', 'vehicle_CO2', 'vehicle_NOx'],\n",
    "                                 axis_names=[\"Vehicle Speed [mph]\", 'Vehicle Fuel [gal/s]', 'Vehicle CO_2 [g/s]',\n",
    "                                             'Vehicle NOx [g/s]'])\n",
    "trace_no_map.show()"
   ]
  },
  {
   "cell_type": "markdown",
   "metadata": {},
   "source": [
    "## Plot Outlier Vehicles "
   ]
  },
  {
   "cell_type": "code",
   "execution_count": 8,
   "metadata": {},
   "outputs": [],
   "source": [
    "fig = pio.read_json(os.path.join(definitions.ROOT, 'raw_plots', 'trace_no_map.plotly'))\n",
    "fig.show()"
   ]
  },
  {
   "cell_type": "code",
   "execution_count": 12,
   "metadata": {
    "collapsed": false,
    "jupyter": {
     "outputs_hidden": false
    },
    "pycharm": {
     "name": "#%%\n"
    }
   },
   "outputs": [],
   "source": [
    "pdf.simple_pdf(summary_df[('vehicle_fuel', 'per_100km')].iloc[2:], labels=\"l/100km\", xaxis_label=\"l/100km\").show()"
   ]
  },
  {
   "cell_type": "code",
   "execution_count": 30,
   "metadata": {
    "pycharm": {
     "name": "#%%\nraw"
    }
   },
   "outputs": [],
   "source": [
    "raw_data_df['vehicle_count'] = int(1)\n",
    "\n",
    "groupyby_obj = raw_data_df.groupby(['timestep_time'])\n",
    "index = groupyby_obj.sum().index\n",
    "\n",
    "sum_data_df = pd.DataFrame(index=index)\n",
    "sum_data_df['timestep_time'] = index"
   ]
  },
  {
   "cell_type": "code",
   "execution_count": 31,
   "metadata": {
    "collapsed": false,
    "jupyter": {
     "outputs_hidden": false
    },
    "pycharm": {
     "name": "#%%\n"
    }
   },
   "outputs": [],
   "source": [
    "sum_columns = ['vehicle_CO', 'vehicle_CO2', 'vehicle_HC', 'vehicle_NOx', 'vehicle_PMx',\n",
    "               'vehicle_electricity', 'vehicle_fuel', 'vehicle_pos', 'vehicle_count', 'vehicle_waiting']\n",
    "\n",
    "mean_columns = ['vehicle_speed']\n",
    "\n",
    "sum_data_df[sum_columns] = groupyby_obj.sum().loc[:, sum_columns]\n",
    "sum_data_df[mean_columns] = groupyby_obj.mean().loc[:, mean_columns]\n",
    "\n"
   ]
  },
  {
   "cell_type": "code",
   "execution_count": 34,
   "metadata": {
    "collapsed": false,
    "jupyter": {
     "outputs_hidden": false
    },
    "pycharm": {
     "name": "#%%\n"
    }
   },
   "outputs": [],
   "source": [
    "line_plots.DF = sum_data_df\n",
    "line_plots.line_plot(time_column='timestep_time', plot_columns='vehicle_count', time_range=None).show()\n",
    "line_plots.line_plot(time_column='timestep_time', plot_columns='vehicle_speed', time_range=None).show()"
   ]
  },
  {
   "cell_type": "code",
   "execution_count": 18,
   "metadata": {
    "collapsed": false,
    "jupyter": {
     "outputs_hidden": false
    },
    "pycharm": {
     "name": "#%%\n"
    }
   },
   "outputs": [],
   "source": [
    "binned_emissions_dict = pickle.load(open(os.path.join(definitions.DATA_DIR, 'emissions_dict.pkl'), 'rb'))"
   ]
  },
  {
   "cell_type": "code",
   "execution_count": 19,
   "metadata": {
    "collapsed": false,
    "jupyter": {
     "outputs_hidden": false
    },
    "pycharm": {
     "name": "#%%\n"
    }
   },
   "outputs": [],
   "source": [
    "from plots import emissions_heatmap\n",
    "from functions import emissions\n",
    "\n",
    "time_range = pd.to_datetime('2020-02-13T10:00:00')\n",
    "\n",
    "fig = emissions_heatmap.single_time_interval(binned_emissions_dict, time_range=time_range, )\n",
    "fig.show()"
   ]
  },
  {
   "cell_type": "code",
   "execution_count": 11,
   "metadata": {
    "collapsed": false,
    "jupyter": {
     "outputs_hidden": false
    },
    "pycharm": {
     "name": "#%%\n"
    }
   },
   "outputs": [],
   "source": [
    "from functions.emissions import get_time_based_emissions_distribution\n",
    "\n",
    "time_interval = [['2020-02-13 06:00:00', '2020-02-13 09:00:00'], ['2020-02-13 11:00:00', '2020-02-13 14:00:00'],\n",
    "                 ['2020-02-13 16:00:00', '2020-02-13 19:00:00']]\n",
    "\n",
    "plot_column = ('vehicle_fuel', 'mpg')\n",
    "\n",
    "interval_distribution = get_time_based_emissions_distribution(emissions_df=raw_data_df, summary_df=summary_df,\n",
    "                                                              interval=time_interval, bin_column=plot_column,\n",
    "                                                              return_data=True)\n",
    "\n",
    "# interval_distribution = pickle.load(open(os.path.join(definitions.DATA_DIR, 'interval_distribution.pkl'), 'rb'))\n",
    "# %%\n",
    "dist_list = [list(item[1]) for item in interval_distribution]\n",
    "label_list = [str(item[0][0]) + ' - ' + str(item[0][1]) for item in interval_distribution]\n",
    "\n",
    "pdf_fig = pdf.simple_pdf(pd_series=dist_list, labels=label_list, xaxis_label=\"Vehicle Total Time [s]\")\n",
    "pdf_fig.show()\n",
    "\n",
    "# with open(os.path.join(\"images\", \"-\".join(plot_column)), 'wb') as img:\n",
    "#     img.write(pdf_fig.to_image(format='png', height=1080, width=1920))"
   ]
  }
 ],
 "metadata": {
  "kernelspec": {
   "display_name": "US69-plotting",
   "language": "python",
   "name": "us69-plotting"
  },
  "language_info": {
   "codemirror_mode": {
    "name": "ipython",
    "version": 3
   },
   "file_extension": ".py",
   "mimetype": "text/x-python",
   "name": "python",
   "nbconvert_exporter": "python",
   "pygments_lexer": "ipython3",
   "version": "3.7.8"
  }
 },
 "nbformat": 4,
 "nbformat_minor": 4
}
