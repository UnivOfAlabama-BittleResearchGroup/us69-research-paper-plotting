{
 "cells": [
  {
   "cell_type": "markdown",
   "metadata": {},
   "source": [
    "# Emissions Plot Generation"
   ]
  },
  {
   "cell_type": "code",
   "execution_count": 1,
   "metadata": {
    "pycharm": {
     "is_executing": true
    }
   },
   "outputs": [],
   "source": [
    "import sys\n",
    "sys.path.append(\"../\")"
   ]
  },
  {
   "cell_type": "code",
   "execution_count": 2,
   "metadata": {
    "pycharm": {
     "is_executing": true
    }
   },
   "outputs": [],
   "source": [
    "from plots import trace_visualisation, pdf, line_plots\n",
    "import pandas as pd\n",
    "import definitions\n",
    "import os\n",
    "import datetime\n",
    "from functions import mp_funcs\n",
    "from functions import func\n",
    "import plotly.io as pio\n",
    "import pickle"
   ]
  },
  {
   "cell_type": "markdown",
   "metadata": {
    "pycharm": {
     "name": "#%% md\n"
    }
   },
   "source": [
    "## Get the Data Name and Locations"
   ]
  },
  {
   "cell_type": "code",
   "execution_count": 3,
   "metadata": {
    "collapsed": false,
    "jupyter": {
     "outputs_hidden": false
    },
    "pycharm": {
     "name": "#%%\n"
    }
   },
   "outputs": [],
   "source": [
    "DATA_FOLDER = '2020-06-24_09_03_03-Full-Analysis'\n",
    "DATA_DIR_FULL_PATH = os.path.join(definitions.DATA_DIR, DATA_FOLDER)\n",
    "\n",
    "RAW_DATA_FILE = 'data.csv'\n",
    "RAW_DATA_SUMMARY = 'data_summary.csv'"
   ]
  },
  {
   "cell_type": "markdown",
   "metadata": {
    "pycharm": {
     "name": "#%% md\n"
    }
   },
   "source": [
    "## Read in the Data"
   ]
  },
  {
   "cell_type": "code",
   "execution_count": 4,
   "metadata": {
    "collapsed": false,
    "jupyter": {
     "outputs_hidden": false
    },
    "pycharm": {
     "name": "#%% Read in the Data\n"
    }
   },
   "outputs": [
    {
     "name": "stderr",
     "output_type": "stream",
     "text": [
      "c:\\users\\spraychamber\\us69-research-paper-plotting\\venv\\lib\\site-packages\\numpy\\lib\\arraysetops.py:569: FutureWarning:\n",
      "\n",
      "elementwise comparison failed; returning scalar instead, but in the future will perform elementwise comparison\n",
      "\n"
     ]
    }
   ],
   "source": [
    "raw_data_df = pd.read_csv(os.path.join(DATA_DIR_FULL_PATH, RAW_DATA_FILE), low_memory=False, index_col=0)\n",
    "summary_df = pd.read_csv(os.path.join(DATA_DIR_FULL_PATH, RAW_DATA_SUMMARY), header=[0, 1], index_col=0)\n",
    "raw_data_df.loc[:, 'timestep_time'] = pd.to_datetime(raw_data_df.loc[:, 'timestep_time'])"
   ]
  },
  {
   "cell_type": "markdown",
   "metadata": {},
   "source": [
    "## Convert the Timestep_Time to a timestep if not already"
   ]
  },
  {
   "cell_type": "code",
   "execution_count": null,
   "metadata": {
    "collapsed": false,
    "jupyter": {
     "outputs_hidden": false
    },
    "pycharm": {
     "name": "#%%\n"
    }
   },
   "outputs": [],
   "source": [
    "if raw_data_df['timestep_time'].dtype.name == 'float64':\n",
    "    \"\"\" These don't work on Windows \"\"\"\n",
    "    # print(\"Calling mp apply\")\n",
    "    # raw_data_df.loc[:, 'timestep_time'] = mp_funcs.apply_by_multiprocessing(raw_data_df['timestep_time'], func)\n",
    "    # raw_data_df.loc[:, 'timestep_time'] = pd.to_datetime(raw_data_df.loc[:, 'timestep_time'])\n",
    "    raw_data_df['timestep_time'] = raw_data_df['timestep_time'].apply(func=func)\n",
    "    raw_data_df.loc[:, 'timestep_time'] = pd.to_datetime(raw_data_df.loc[:, 'timestep_time'])\n",
    "    print(\"Saving to .csv\")\n",
    "    raw_data_df.to_csv(os.path.join(DATA_DIR_FULL_PATH, RAW_DATA_FILE))"
   ]
  },
  {
   "cell_type": "code",
   "execution_count": 13,
   "metadata": {
    "collapsed": false,
    "jupyter": {
     "outputs_hidden": false
    },
    "pycharm": {
     "name": "#%%\n"
    }
   },
   "outputs": [
    {
     "name": "stdout",
     "output_type": "stream",
     "text": [
      "The best fit vehicle is: 45480_20\n"
     ]
    }
   ],
   "source": [
    "columns = [('distance', 'total'),\n",
    "           #('norm_time', 'total'),\n",
    "           #('vehicle_fuel', 'total'),\n",
    "           # ('vehicle_fuel', 'average_per_step'),\n",
    "           ('vehicle_fuel', 'per_100km'),\n",
    "           # ('vehicle_fuel', 'mpg'),\n",
    "           #('vehicle_CO2', 'total'),\n",
    "           # ('vehicle_CO2', 'average_per_step'),\n",
    "           #('vehicle_CO2', 'per_100km'),\n",
    "           #('vehicle_CO', 'total'),\n",
    "           # ('vehicle_CO', 'average_per_step'),\n",
    "           #('vehicle_CO', 'per_100km'),\n",
    "           #('vehicle_HC', 'total'),\n",
    "           # ('vehicle_HC', 'average_per_step'),\n",
    "           #('vehicle_HC', 'per_100km'),\n",
    "           #('vehicle_NOx', 'total'),\n",
    "           # ('vehicle_NOx', 'average_per_step'),\n",
    "           #('vehicle_NOx', 'per_100km'),\n",
    "           #('vehicle_PMx', 'total'),\n",
    "           # ('vehicle_PMx', 'average_per_step'),\n",
    "           #('vehicle_PMx', 'per_100km'),\n",
    "           # ('vehicle_electricity', 'total'),\n",
    "           # ('vehicle_electricity', 'average_per_step'),\n",
    "           # ('vehicle_electricity', 'per_100km')\n",
    "           ]\n",
    "\n",
    "diff_df = pd.DataFrame(index=summary_df.index, columns=summary_df.columns)\n",
    "\n",
    "# Calculate the standard deviation and z score for each parameter. get abs(add z score) and get the min\n",
    "\n",
    "for col in columns:\n",
    "    diff_df[col].iloc[2:] = abs(summary_df[col].iloc[2:].subtract(summary_df.loc['Total_average', col]))\n",
    "    diff_df[col].iloc[2:] = diff_df[col].iloc[2:] / \\\n",
    "                            summary_df[col].iloc[2:].add(summary_df.loc['Total_average', col])\n",
    "\n",
    "diff_df['diff_sum'] = diff_df.sum(axis=1)\n",
    "best_fit_vehicle = diff_df['diff_sum'].iloc[2:].idxmin()\n",
    "\n",
    "## Pick a vehicle from the 5th and 95th percentile and look at actual low and high\n",
    "\n",
    "print('The best fit vehicle is: {0}'.format(best_fit_vehicle))"
   ]
  },
  {
   "cell_type": "code",
   "execution_count": 5,
   "metadata": {
    "collapsed": false,
    "jupyter": {
     "outputs_hidden": false
    },
    "pycharm": {
     "name": "#%%\n"
    }
   },
   "outputs": [],
   "source": [
    "plot_vehicle = '45480_20'\n",
    "\n",
    "trace_visualisation.sampled_emissions_df = raw_data_df\n",
    "trace_visualisation.trace_visual(plot_vehicle).show()\n",
    "trace_no_map = trace_visualisation.trace_no_map(plot_vehicle, plot_columns=['vehicle_fuel', 'vehicle_CO2', 'vehicle_NOx'],\n",
    "                                 axis_names=[\"Vehicle Speed [mph]\", 'Vehicle Fuel [gal/s]', 'Vehicle CO_2 [g/s]',\n",
    "                                             'Vehicle NOx [g/s]'])\n",
    "trace_no_map.show()\n",
    "pio.write_json(trace_no_map, os.path.join(definitions.ROOT, 'raw_plots', 'trace_no_map.plotly'))"
   ]
  },
  {
   "cell_type": "code",
   "execution_count": 8,
   "metadata": {},
   "outputs": [],
   "source": [
    "fig = pio.read_json(os.path.join(definitions.ROOT, 'raw_plots', 'trace_no_map.plotly'))\n",
    "fig.show()"
   ]
  },
  {
   "cell_type": "code",
   "execution_count": 12,
   "metadata": {
    "collapsed": false,
    "jupyter": {
     "outputs_hidden": false
    },
    "pycharm": {
     "name": "#%%\n"
    }
   },
   "outputs": [],
   "source": [
    "pdf.simple_pdf(summary_df[('vehicle_fuel', 'per_100km')].iloc[2:], labels=\"l/100km\", xaxis_label=\"l/100km\").show()"
   ]
  },
  {
   "cell_type": "code",
   "execution_count": 30,
   "metadata": {
    "pycharm": {
     "name": "#%%\nraw"
    }
   },
   "outputs": [],
   "source": [
    "raw_data_df['vehicle_count'] = int(1)\n",
    "\n",
    "groupyby_obj = raw_data_df.groupby(['timestep_time'])\n",
    "index = groupyby_obj.sum().index\n",
    "\n",
    "sum_data_df = pd.DataFrame(index=index)\n",
    "sum_data_df['timestep_time'] = index"
   ]
  },
  {
   "cell_type": "code",
   "execution_count": 31,
   "metadata": {
    "collapsed": false,
    "jupyter": {
     "outputs_hidden": false
    },
    "pycharm": {
     "name": "#%%\n"
    }
   },
   "outputs": [],
   "source": [
    "sum_columns = ['vehicle_CO', 'vehicle_CO2', 'vehicle_HC', 'vehicle_NOx', 'vehicle_PMx',\n",
    "               'vehicle_electricity', 'vehicle_fuel', 'vehicle_pos', 'vehicle_count', 'vehicle_waiting']\n",
    "\n",
    "mean_columns = ['vehicle_speed']\n",
    "\n",
    "sum_data_df[sum_columns] = groupyby_obj.sum().loc[:, sum_columns]\n",
    "sum_data_df[mean_columns] = groupyby_obj.mean().loc[:, mean_columns]\n",
    "\n"
   ]
  },
  {
   "cell_type": "code",
   "execution_count": 34,
   "metadata": {
    "collapsed": false,
    "jupyter": {
     "outputs_hidden": false
    },
    "pycharm": {
     "name": "#%%\n"
    }
   },
   "outputs": [],
   "source": [
    "line_plots.DF = sum_data_df\n",
    "line_plots.line_plot(time_column='timestep_time', plot_columns='vehicle_count', time_range=None).show()\n",
    "line_plots.line_plot(time_column='timestep_time', plot_columns='vehicle_speed', time_range=None).show()"
   ]
  },
  {
   "cell_type": "code",
   "execution_count": 18,
   "metadata": {
    "collapsed": false,
    "jupyter": {
     "outputs_hidden": false
    },
    "pycharm": {
     "name": "#%%\n"
    }
   },
   "outputs": [],
   "source": [
    "binned_emissions_dict = pickle.load(open(os.path.join(definitions.DATA_DIR, 'emissions_dict.pkl'), 'rb'))"
   ]
  },
  {
   "cell_type": "code",
   "execution_count": 19,
   "metadata": {
    "collapsed": false,
    "jupyter": {
     "outputs_hidden": false
    },
    "pycharm": {
     "name": "#%%\n"
    }
   },
   "outputs": [],
   "source": [
    "from plots import emissions_heatmap\n",
    "from functions import emissions\n",
    "\n",
    "time_range = pd.to_datetime('2020-02-13T10:00:00')\n",
    "\n",
    "fig = emissions_heatmap.single_time_interval(binned_emissions_dict, time_range=time_range, )\n",
    "fig.show()"
   ]
  },
  {
   "cell_type": "code",
   "execution_count": 11,
   "metadata": {
    "collapsed": false,
    "jupyter": {
     "outputs_hidden": false
    },
    "pycharm": {
     "name": "#%%\n"
    }
   },
   "outputs": [],
   "source": [
    "from functions.emissions import get_time_based_emissions_distribution\n",
    "\n",
    "time_interval = [['2020-02-13 06:00:00', '2020-02-13 09:00:00'], ['2020-02-13 11:00:00', '2020-02-13 14:00:00'],\n",
    "                 ['2020-02-13 16:00:00', '2020-02-13 19:00:00']]\n",
    "\n",
    "plot_column = ('vehicle_fuel', 'mpg')\n",
    "\n",
    "interval_distribution = get_time_based_emissions_distribution(emissions_df=raw_data_df, summary_df=summary_df,\n",
    "                                                              interval=time_interval, bin_column=plot_column,\n",
    "                                                              return_data=True)\n",
    "\n",
    "# interval_distribution = pickle.load(open(os.path.join(definitions.DATA_DIR, 'interval_distribution.pkl'), 'rb'))\n",
    "# %%\n",
    "dist_list = [list(item[1]) for item in interval_distribution]\n",
    "label_list = [str(item[0][0]) + ' - ' + str(item[0][1]) for item in interval_distribution]\n",
    "\n",
    "pdf_fig = pdf.simple_pdf(pd_series=dist_list, labels=label_list, xaxis_label=\"Vehicle Total Time [s]\")\n",
    "pdf_fig.show()\n",
    "\n",
    "# with open(os.path.join(\"images\", \"-\".join(plot_column)), 'wb') as img:\n",
    "#     img.write(pdf_fig.to_image(format='png', height=1080, width=1920))"
   ]
  }
 ],
 "metadata": {
  "kernelspec": {
   "display_name": "US69-plotting",
   "language": "python",
   "name": "us69-plotting"
  },
  "language_info": {
   "codemirror_mode": {
    "name": "ipython",
    "version": 3
   },
   "file_extension": ".py",
   "mimetype": "text/x-python",
   "name": "python",
   "nbconvert_exporter": "python",
   "pygments_lexer": "ipython3",
   "version": "3.7.8"
  }
 },
 "nbformat": 4,
 "nbformat_minor": 4
}
