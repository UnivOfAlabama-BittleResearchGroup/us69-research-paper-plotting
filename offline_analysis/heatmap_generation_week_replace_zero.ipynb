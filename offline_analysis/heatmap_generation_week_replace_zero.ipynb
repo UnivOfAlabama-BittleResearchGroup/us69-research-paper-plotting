{
 "cells": [
  {
   "cell_type": "code",
   "execution_count": 40,
   "metadata": {},
   "outputs": [],
   "source": [
    "import sys\n",
    "import os\n",
    "from datetime import datetime, timedelta\n",
    "sys.path.append(\"../\")"
   ]
  },
  {
   "cell_type": "code",
   "execution_count": 41,
   "metadata": {},
   "outputs": [],
   "source": [
    "import plotly.graph_objects as go\n",
    "from plotly.subplots import make_subplots\n",
    "import plotly.io as pio\n",
    "import numpy as np\n",
    "import plotly_template as pt\n",
    "from functions import emissions, func, mp_funcs, speed\n",
    "import definitions\n",
    "import pandas as pd\n",
    "import pickle\n",
    "import math\n",
    "import numpy as np\n",
    "import pyarrow as pa\n",
    "import pyarrow.parquet as pq\n",
    "\n",
    "# pio.renderers.default = \"browser\""
   ]
  },
  {
   "cell_type": "markdown",
   "metadata": {},
   "source": [
    "# Generating Iterations of the Heatmaps"
   ]
  },
  {
   "cell_type": "markdown",
   "metadata": {},
   "source": [
    "### Creating the emissions plot function"
   ]
  },
  {
   "cell_type": "markdown",
   "metadata": {},
   "source": [
    "### File locations and constants"
   ]
  },
  {
   "cell_type": "code",
   "execution_count": 42,
   "metadata": {
    "collapsed": false,
    "jupyter": {
     "outputs_hidden": false
    },
    "pycharm": {
     "name": "#%%\n"
    }
   },
   "outputs": [],
   "source": [
    "DATA_FOLDER =['2020-02-10', '2020-02-11', '2020-02-12', '2020-02-13', '2020-02-14']\n",
    "DATA_DIR = r'Z:\\6 ACTION Project\\SUMO\\Sim_Output_Data'\n",
    "# DATA_DIR_FULL_PATH = os.path.join(definitions.DATA_DIR, DATA_FOLDER)\n",
    "# DATA_DIR_FULL_PATH = os.path.join(DATA_DIR, DATA_FOLDER)\n",
    "RAW_DATA_FILE = 'data.csv'\n",
    "RAW_DATA_SUMMARY = 'data_summary.csv'\n",
    "RAW_DATA_FILE_PARQUET = 'data.parquet'\n",
    "RAW_DATA_SUMMARY_PARQUET = 'data_summary.parquet'"
   ]
  },
  {
   "cell_type": "markdown",
   "metadata": {},
   "source": [
    "## Read in the Data"
   ]
  },
  {
   "cell_type": "code",
   "execution_count": 43,
   "metadata": {},
   "outputs": [],
   "source": [
    "raw_data = {}\n",
    "summary_data = {}\n",
    "days_extended = 1\n",
    "start_hour = \"23:00:00.000\"\n",
    "for folder in DATA_FOLDER:\n",
    "    DATA_DIR_FULL_PATH = os.path.join(DATA_DIR, folder)\n",
    "    try:\n",
    "        raw_data[folder] = pd.read_parquet(os.path.join(DATA_DIR_FULL_PATH, RAW_DATA_FILE_PARQUET),)\n",
    "        summary_data[folder] = pd.read_parquet(os.path.join(DATA_DIR_FULL_PATH, RAW_DATA_SUMMARY_PARQUET),)\n",
    "\n",
    "    except FileNotFoundError:\n",
    "        \n",
    "        date_low = (datetime.strptime(folder, \"%Y-%m-%d\") - timedelta(days=days_extended)).strftime(\"%m/%d/%Y\")\n",
    "        start_time = \" \".join([date_low, start_hour])\n",
    "        raw_data[folder] = pd.read_csv(os.path.join(DATA_DIR_FULL_PATH, RAW_DATA_FILE), low_memory=False, index_col=0)\n",
    "        summary_data[folder] = pd.read_csv(os.path.join(DATA_DIR_FULL_PATH, RAW_DATA_SUMMARY), header=[0, 1], index_col=0)\n",
    "        raw_data[folder].loc[:, 'timestep_time'] = mp_funcs.apply_by_multiprocessing(raw_data[folder]['timestep_time'], func, start_time=start_time)\n",
    "\n",
    "        raw_data[folder].to_parquet(os.path.join(DATA_DIR_FULL_PATH, RAW_DATA_FILE_PARQUET))\n",
    "        table = pa.Table.from_pandas(summary_data[folder])\n",
    "        pq.write_table(table, os.path.join(DATA_DIR_FULL_PATH, RAW_DATA_SUMMARY_PARQUET))\n",
    "        # summary_data[folder].to_parquet(os.path.join(DATA_DIR_FULL_PATH, RAW_DATA_SUMMARY_PARQUET), index=True)"
   ]
  },
  {
   "cell_type": "code",
   "execution_count": 44,
   "metadata": {},
   "outputs": [],
   "source": [
    "decel_emissions_dict = {}\n",
    "for folder in DATA_FOLDER:\n",
    "    raw_data[folder]['timestep_time'] = pd.to_datetime(raw_data[folder]['timestep_time'])\n",
    "    decel_emissions_dict[folder] =  raw_data[folder].copy()\n",
    "    mask = decel_emissions_dict[folder]['vehicle_fuel'] <= 0.000076\n",
    "    decel_emissions_dict[folder].loc[mask, 'vehicle_fuel'] = 0.000077  # gallons per second"
   ]
  },
  {
   "cell_type": "code",
   "execution_count": 32,
   "metadata": {},
   "outputs": [
    {
     "data": {
      "text/plain": [
       "{}"
      ]
     },
     "execution_count": 32,
     "metadata": {},
     "output_type": "execute_result"
    }
   ],
   "source": [
    "# mask = raw_data[folder]['vehicle_speed'] == 0\n",
    "# raw_data[folder].loc[mask, 'vehicle_fuel']\n",
    "decel_emissions_dict"
   ]
  },
  {
   "cell_type": "markdown",
   "metadata": {},
   "source": [
    "### Bining the Emissions Data"
   ]
  },
  {
   "cell_type": "code",
   "execution_count": 45,
   "metadata": {},
   "outputs": [],
   "source": [
    "resample_period = '30T' # aka the bin size\n",
    "resample_period_text = '30 min'\n",
    "bin_size = 5"
   ]
  },
  {
   "cell_type": "code",
   "execution_count": 46,
   "metadata": {},
   "outputs": [
    {
     "name": "stdout",
     "output_type": "stream",
     "text": [
      "func:bin_2D_sum took: 4.321222305297852 sec\n",
      "func:bin_2D_sum took: 3.291393995285034 sec\n",
      "func:bin_2D_sum took: 3.95157527923584 sec\n",
      "func:bin_2D_sum took: 4.067893028259277 sec\n",
      "func:bin_2D_sum took: 4.28631591796875 sec\n"
     ]
    }
   ],
   "source": [
    "# df = pd.read_csv(os.path.join(DATA_DIR_FULL_PATH, RAW_DATA_FILE), low_memory=False, index_col=0)\n",
    "binned_emissions_dict = {}\n",
    "for folder in DATA_FOLDER:\n",
    "    # raw_data[folder]['timestep_time'] = pd.to_datetime(raw_data[folder]['timestep_time'])\n",
    "    emissions.bin_2D_sum(emissions_df=raw_data[folder], bin_column=['vehicle_fuel'], resample_period=resample_period, bin_size=5, processor_num=2)\n",
    "    binned_emissions_dict[folder] = pickle.load(open(os.path.join(definitions.DATA_DIR, 'emissions_dict.pkl'), 'rb'))"
   ]
  },
  {
   "cell_type": "code",
   "execution_count": 47,
   "metadata": {},
   "outputs": [
    {
     "name": "stdout",
     "output_type": "stream",
     "text": [
      "func:bin_2D_sum took: 3.5176374912261963 sec\n",
      "func:bin_2D_sum took: 3.3062586784362793 sec\n",
      "func:bin_2D_sum took: 3.94419264793396 sec\n",
      "func:bin_2D_sum took: 4.071604251861572 sec\n",
      "func:bin_2D_sum took: 4.332248210906982 sec\n"
     ]
    }
   ],
   "source": [
    "for folder in DATA_FOLDER:\n",
    "    # raw_data[folder]['timestep_time'] = pd.to_datetime(raw_data[folder]['timestep_time'])\n",
    "    emissions.bin_2D_sum(emissions_df=decel_emissions_dict[folder], bin_column=['vehicle_fuel'], resample_period=resample_period, bin_size=5, processor_num=2)\n",
    "    decel_emissions_dict[folder] = pickle.load(open(os.path.join(definitions.DATA_DIR, 'emissions_dict.pkl'), 'rb'))"
   ]
  },
  {
   "cell_type": "markdown",
   "metadata": {},
   "source": [
    "## Plotting the Data"
   ]
  },
  {
   "cell_type": "markdown",
   "metadata": {},
   "source": [
    "#### Plot Constants"
   ]
  },
  {
   "cell_type": "code",
   "execution_count": 48,
   "metadata": {},
   "outputs": [],
   "source": [
    "plot_radius = 8\n",
    "mapbox_key = \"pk.eyJ1IjoibWF4LXNjaHJhZGVyIiwiYSI6ImNrOHQxZ2s3bDAwdXQzbG81NjZpZm96bDEifQ.etUi4OK4ozzaP_P8foZn_A\"\n",
    "\n",
    "colorscale = [\n",
    "              [0.0, \"rgba(0, 255, 204, 0)\"],\n",
    "              [0.2, \"rgb(0, 255, 51)\"],\n",
    "              [0.4, \"rgb(204, 255, 0)\"],\n",
    "              [0.6, \"rgb(255, 204, 51)\"],\n",
    "              [0.8, \"rgb(255, 102, 51)\"],\n",
    "              [1.0, \"rgb(204,0,0)\"],\n",
    "            ]\n",
    "\n",
    "color_axis = dict(\n",
    "            cmin=0,\n",
    "            cmax=None,\n",
    "            showscale=True,\n",
    "            colorscale=colorscale,\n",
    "            colorbar=dict(\n",
    "                outlinecolor=\"black\",\n",
    "                outlinewidth=2,\n",
    "                ticks=\"outside\",\n",
    "                # tickfont=pt.font_dict,\n",
    "                tickvals=None, # tickvalues,\n",
    "                ticktext=None,\n",
    "                title=f\"[gal per {resample_period_text}]<br /> <br />\",\n",
    "                tickformat=\"e\",\n",
    "                # titlefont=pt.font_dict,\n",
    "            )\n",
    ")"
   ]
  },
  {
   "cell_type": "code",
   "execution_count": 49,
   "metadata": {},
   "outputs": [],
   "source": [
    "plot_time_list = [['2020-02-10', pd.to_datetime('2020-02-10T07:30:00')], ['2020-02-10', pd.to_datetime('2020-02-10T07:30:00')]]\n",
    "title_add_ons = [' No Decel Fuel Consumption', ' Decel Fuel Consumption Included']\n",
    "\n",
    "num_plots = len(plot_time_list)\n",
    "fig = make_subplots(rows=1, cols=num_plots,\n",
    "                    specs=[[{'type': 'mapbox', }] * num_plots],\n",
    "                    subplot_titles=[str(time[1]) + title_add_ons[i] for i, time in enumerate(plot_time_list)],\n",
    "                    column_widths=[(1 - 0.1 * (num_plots / 2)) / num_plots]*num_plots,\n",
    "                    horizontal_spacing=0.05,)\n",
    "\n",
    "mapbox_dict = {'mapbox': dict(accesstoken=mapbox_key,\n",
    "                                bearing=0,\n",
    "                                style='mapbox://styles/max-schrader/ck8t1cmmc02wk1it9rv28iyte',\n",
    "                                center=go.layout.mapbox.Center(\n",
    "                                    lat=33.126275,\n",
    "                                    lon=-87.54891\n",
    "                                ),\n",
    "                                pitch=0,\n",
    "                                zoom=14.45),}\n",
    "\n",
    "max_value = -20\n",
    "for i, time in enumerate(plot_time_list):\n",
    "    \n",
    "    if i % 2 == 0:\n",
    "    \n",
    "        z_data = binned_emissions_dict[time[0]][time[1]]['data']\n",
    "        lat_edges = binned_emissions_dict[time[0]][time[1]]['lat']\n",
    "        lon_edges = binned_emissions_dict[time[0]][time[1]]['lon']\n",
    "        max_value = binned_emissions_dict[time[0]][time[1]]['max_value'] if binned_emissions_dict[time[0]][time[1]]['max_value'] > max_value else max_value\n",
    "    \n",
    "    else:\n",
    "        \n",
    "        z_data = decel_emissions_dict[time[0]][time[1]]['data']\n",
    "        lat_edges = decel_emissions_dict[time[0]][time[1]]['lat']\n",
    "        lon_edges = decel_emissions_dict[time[0]][time[1]]['lon']\n",
    "        max_value = decel_emissions_dict[time[0]][time[1]]['max_value'] if decel_emissions_dict[time[0]][time[1]]['max_value'] > max_value else max_value\n",
    "        \n",
    "    fig.add_trace(go.Densitymapbox(lat=lat_edges,\n",
    "                                    lon=lon_edges,\n",
    "                                    z=z_data,\n",
    "                                    # customdata=summed_array[0][2],\n",
    "                                    # hovertemplate='%{customdata}' if sum else None,\n",
    "                                    radius=plot_radius,\n",
    "                                    hoverinfo='z',\n",
    "                                    coloraxis=\"coloraxis\",\n",
    "                                    ),\n",
    "                    row=1,\n",
    "                    col=i+1)\n",
    "    \n",
    "    mapbox_dict['mapbox'+ str(i+2)] =  mapbox_dict['mapbox']\n",
    "    \n",
    "color_axis['cmax'] = math.ceil(max_value * 1000) / 1000\n",
    "\n",
    "len_of_max = len(str(color_axis['cmax']))\n",
    "# tickvalues = np.around(np.linspace(0, np.round(color_axis['cmax'], len_of_max-1), 7), 3)\n",
    "tickvalues = np.around(np.linspace(0, np.round(color_axis['cmax'], len_of_max), 7), 3)\n",
    "ticktext = [str(val) for val in tickvalues]\n",
    "\n",
    "color_axis['colorbar']['tickvals'] = tickvalues\n",
    "color_axis['colorbar']['ticktext'] = ticktext"
   ]
  },
  {
   "cell_type": "code",
   "execution_count": 50,
   "metadata": {},
   "outputs": [],
   "source": [
    "fig.update_layout(mapbox_dict)\n",
    "\n",
    "fig.update_layout(\n",
    "    title={\"text\": \"Fuel Consumption\", 'yanchor': 'middle', 'xanchor': 'auto'},\n",
    "    hovermode='closest',\n",
    "    coloraxis=color_axis\n",
    ")\n",
    "\n",
    "fig.show('browser')\n",
    "pio.write_json(fig, os.path.join(definitions.ROOT, 'raw_plots', 'mapbox.plotly'))"
   ]
  },
  {
   "cell_type": "code",
   "execution_count": 53,
   "metadata": {},
   "outputs": [
    {
     "name": "stderr",
     "output_type": "stream",
     "text": [
      "c:\\users\\spraychamber\\us69-research-paper-plotting\\venv\\lib\\site-packages\\ipykernel_launcher.py:1: DeprecationWarning:\n",
      "\n",
      "elementwise comparison failed; this will raise an error in the future.\n",
      "\n"
     ]
    }
   ],
   "source": [
    "x = np.array(binned_emissions_dict[time[0]][time[1]]['data']) == np.array(decel_emissions_dict[time[0]][time[1]]['data'])"
   ]
  },
  {
   "cell_type": "code",
   "execution_count": 54,
   "metadata": {},
   "outputs": [
    {
     "data": {
      "text/plain": [
       "False"
      ]
     },
     "execution_count": 54,
     "metadata": {},
     "output_type": "execute_result"
    }
   ],
   "source": [
    "x"
   ]
  }
 ],
 "metadata": {
  "kernelspec": {
   "display_name": "US69-plotting",
   "language": "python",
   "name": "us69-plotting"
  },
  "language_info": {
   "codemirror_mode": {
    "name": "ipython",
    "version": 3
   },
   "file_extension": ".py",
   "mimetype": "text/x-python",
   "name": "python",
   "nbconvert_exporter": "python",
   "pygments_lexer": "ipython3",
   "version": "3.7.8"
  }
 },
 "nbformat": 4,
 "nbformat_minor": 4
}
