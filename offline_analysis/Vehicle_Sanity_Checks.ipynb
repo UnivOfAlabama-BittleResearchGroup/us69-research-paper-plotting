{
 "cells": [
  {
   "cell_type": "markdown",
   "metadata": {},
   "source": [
    "# Vehicle FC Sanity Check"
   ]
  },
  {
   "cell_type": "code",
   "execution_count": 9,
   "metadata": {},
   "outputs": [],
   "source": [
    "m = 3000  # lbs\n",
    "v = [0, 50]  # mph\n",
    "eff = 0.30\n",
    "hv = 43  # MJ/kg\n",
    "p = 800  # kg/m^3\n",
    "a = 1.5  #  m/s^2. taken from Acceleration-Deceleration Behaviour of Various Vehicle Types (on ScienceDirect can't find DOI)"
   ]
  },
  {
   "cell_type": "code",
   "execution_count": 10,
   "metadata": {},
   "outputs": [],
   "source": [
    "v = [0.44704 * v_i for v_i in v]\n",
    "m = 0.453592 * m"
   ]
  },
  {
   "cell_type": "code",
   "execution_count": 11,
   "metadata": {},
   "outputs": [
    {
     "data": {
      "text/plain": [
       "0.026351158460368382"
      ]
     },
     "execution_count": 11,
     "metadata": {},
     "output_type": "execute_result"
    }
   ],
   "source": [
    "E = 1/2 * m * (v[1]**2 - v[0]**2) \n",
    "E = E/eff\n",
    "E = E / 1e6\n",
    "kg_f = E / hv\n",
    "kg_f"
   ]
  },
  {
   "cell_type": "code",
   "execution_count": 13,
   "metadata": {},
   "outputs": [
    {
     "data": {
      "text/plain": [
       "14.901333333333334"
      ]
     },
     "execution_count": 13,
     "metadata": {},
     "output_type": "execute_result"
    }
   ],
   "source": [
    "accel_time = (v[1] - v[0]) / a\n",
    "accel_time"
   ]
  },
  {
   "cell_type": "code",
   "execution_count": 16,
   "metadata": {},
   "outputs": [
    {
     "data": {
      "text/plain": [
       "0.0017683758809302333"
      ]
     },
     "execution_count": 16,
     "metadata": {},
     "output_type": "execute_result"
    }
   ],
   "source": [
    "mf_fuel = kg_f / accel_time\n",
    "mf_fuel"
   ]
  },
  {
   "cell_type": "code",
   "execution_count": 21,
   "metadata": {},
   "outputs": [
    {
     "data": {
      "text/plain": [
       "2.210469851162791"
      ]
     },
     "execution_count": 21,
     "metadata": {},
     "output_type": "execute_result"
    }
   ],
   "source": [
    "vf_fuel = mf_fuel / p # kg/s / 800 kg/m^3 = m^3/kg\n",
    "vf_fuel = vf_fuel * 1e3 *1e3  # m^3/s  * 1000 L/m^3 * 1000 ml/L \n",
    "vf_fuel"
   ]
  }
 ],
 "metadata": {
  "kernelspec": {
   "display_name": "US69-plotting",
   "language": "python",
   "name": "us69-plotting"
  },
  "language_info": {
   "codemirror_mode": {
    "name": "ipython",
    "version": 3
   },
   "file_extension": ".py",
   "mimetype": "text/x-python",
   "name": "python",
   "nbconvert_exporter": "python",
   "pygments_lexer": "ipython3",
   "version": "3.7.8"
  }
 },
 "nbformat": 4,
 "nbformat_minor": 4
}
