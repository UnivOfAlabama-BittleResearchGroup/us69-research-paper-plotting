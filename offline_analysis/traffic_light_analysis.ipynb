{
 "cells": [
  {
   "cell_type": "markdown",
   "metadata": {},
   "source": [
    "# Verifying SUMO Traffic Light States"
   ]
  },
  {
   "cell_type": "code",
   "execution_count": 1,
   "metadata": {
    "ExecuteTime": {
     "end_time": "2020-05-12T14:12:34.046107Z",
     "start_time": "2020-05-12T14:12:33.474369Z"
    }
   },
   "outputs": [],
   "source": [
    "# from IPython.core.interactiveshell import InteractiveShell\n",
    "# InteractiveShell.ast_node_interactivity = \"last\"\n",
    "import os\n",
    "import sys\n",
    "import pandas as pd\n",
    "import numpy as np\n",
    "import datetime\n",
    "import pathlib\n",
    "import plotly.graph_objects as go\n",
    "from plotly.subplots import make_subplots\n",
    "\n",
    "sys.path.append(os.path.split(pathlib.Path().absolute())[0])\n",
    "\n",
    "from sumo_function_library.SQL.rw_traffic_data import RWTrafficData\n",
    "import sumo_function_library.functions.post_processing.helper_funcs as post_processing\n",
    "from sumo_function_library.functions.intersection_parameters import IntersectionParameters\n",
    "import definitions as var_def\n",
    "from research_paper.global_config_parameters import CONFIG\n",
    "global_params = CONFIG()"
   ]
  },
  {
   "cell_type": "markdown",
   "metadata": {},
   "source": [
    "## Enter the SUMO traffic light output file"
   ]
  },
  {
   "cell_type": "code",
   "execution_count": 2,
   "metadata": {
    "ExecuteTime": {
     "end_time": "2020-05-12T14:12:37.644689Z",
     "start_time": "2020-05-12T14:12:37.640924Z"
    }
   },
   "outputs": [],
   "source": [
    "DATA_FOLDER = '2020-02-13'\n",
    "DATA_DIR = os.path.join(os.environ.get('SIM_OUTPUT_DIR'), '10-29-2020')\n",
    "# DATA_DIR_FULL_PATH = os.path.join(definitions.DATA_DIR, DATA_FOLDER)\n",
    "DATA_DIR_FULL_PATH = os.path.join(DATA_DIR, DATA_FOLDER)\n",
    "RAW_DATA_FILE = 'tls_state_OUTPUT_.xml'\n",
    "tls_file_name = os.path.join(DATA_DIR_FULL_PATH, RAW_DATA_FILE)"
   ]
  },
  {
   "cell_type": "markdown",
   "metadata": {},
   "source": [
    "## Enter the Traffic Light Phasing File Location"
   ]
  },
  {
   "cell_type": "code",
   "execution_count": 3,
   "metadata": {
    "ExecuteTime": {
     "end_time": "2020-05-12T14:12:39.433664Z",
     "start_time": "2020-05-12T14:12:39.428506Z"
    }
   },
   "outputs": [],
   "source": [
    "tls_phasing = global_params.tl_phase_description"
   ]
  },
  {
   "cell_type": "markdown",
   "metadata": {},
   "source": [
    "## Enter the Simulation Parameters"
   ]
  },
  {
   "cell_type": "code",
   "execution_count": 4,
   "metadata": {
    "ExecuteTime": {
     "end_time": "2020-05-12T14:12:41.779271Z",
     "start_time": "2020-05-12T14:12:41.776076Z"
    }
   },
   "outputs": [],
   "source": [
    "sim_start_time = '02/13/2020 07:00:00.000'"
   ]
  },
  {
   "cell_type": "markdown",
   "metadata": {},
   "source": [
    "## Process SUMO traffic light output file"
   ]
  },
  {
   "cell_type": "code",
   "execution_count": 5,
   "metadata": {
    "ExecuteTime": {
     "end_time": "2020-05-12T14:12:44.603966Z",
     "start_time": "2020-05-12T14:12:44.328902Z"
    }
   },
   "outputs": [],
   "source": [
    "post_processing.convert_xml(\n",
    "    sumo_detector_file=None,\n",
    "    tls_file_name=tls_file_name,\n",
    "    tls_csv_name=os.path.join(DATA_DIR_FULL_PATH, 'tls_state_OUTPUT_.csv')\n",
    ")\n",
    "\n",
    "_, sumo_tl_df = post_processing.read_csv(detect_csv_name=None, tls_csv_name=os.path.join(DATA_DIR_FULL_PATH, 'tls_state_OUTPUT_.csv'))\n",
    "\n",
    "tls_dict = {str(tl_id): None for tl_id in sumo_tl_df['tlLogic_id'].unique()}\n",
    "\n",
    "drop_columns = ['tlLogic_type', 'phase_duration', 'tlLogic_programID', 'interval_end', 'interval_begin']\n",
    "\n",
    "for tl_id in tls_dict.keys():\n",
    "    \n",
    "    # Make a copy of the tls dataframe with tl_id matching\n",
    "    local_df = sumo_tl_df.loc[sumo_tl_df['tlLogic_id'] == int(tl_id)].copy()\n",
    "\n",
    "    # Calulculate the cumulative sum of the phase end times. Gives simulation time\n",
    "    local_df.loc[:, 'interval_end'] = local_df['phase_duration'].cumsum()\n",
    "\n",
    "    # Calculate the begin time of the phases. (begin time = last phase end time)\n",
    "    local_df.loc[:, 'interval_begin'] = [\n",
    "        0 if i == 0 else local_df['interval_end'].values[i - 1]\n",
    "        for i in range(len(local_df['interval_end'].values))\n",
    "    ]\n",
    "    \n",
    "    # switch the begin and end times to pd.datetime. \n",
    "    local_df.loc[:, 'interval_begin_dt'] = local_df['interval_begin'].apply(\n",
    "        lambda x: datetime.datetime.strptime(sim_start_time, '%m/%d/%Y %H:%M:%S.%f'\n",
    "                                             ) + datetime.timedelta(seconds=x))\n",
    "    local_df.loc[:, 'interval_end_dt'] = local_df['interval_end'].apply(\n",
    "        lambda x: datetime.datetime.strptime(sim_start_time, '%m/%d/%Y %H:%M:%S.%f'\n",
    "                                             ) + datetime.timedelta(seconds=x))\n",
    "    \n",
    "    local_df.set_index(local_df.loc[:, 'interval_begin_dt'], inplace=True)\n",
    "    \n",
    "    local_df.drop(labels=drop_columns, axis=1, inplace=True)\n",
    "    \n",
    "    tls_dict[tl_id] = local_df"
   ]
  },
  {
   "cell_type": "code",
   "execution_count": 6,
   "metadata": {},
   "outputs": [
    {
     "data": {
      "text/html": [
       "<div>\n",
       "<style scoped>\n",
       "    .dataframe tbody tr th:only-of-type {\n",
       "        vertical-align: middle;\n",
       "    }\n",
       "\n",
       "    .dataframe tbody tr th {\n",
       "        vertical-align: top;\n",
       "    }\n",
       "\n",
       "    .dataframe thead th {\n",
       "        text-align: right;\n",
       "    }\n",
       "</style>\n",
       "<table border=\"1\" class=\"dataframe\">\n",
       "  <thead>\n",
       "    <tr style=\"text-align: right;\">\n",
       "      <th></th>\n",
       "      <th>tlLogic_id</th>\n",
       "      <th>tlLogic_programID</th>\n",
       "      <th>tlLogic_type</th>\n",
       "      <th>phase_duration</th>\n",
       "      <th>phase_state</th>\n",
       "    </tr>\n",
       "  </thead>\n",
       "  <tbody>\n",
       "    <tr>\n",
       "      <th>605</th>\n",
       "      <td>63069008</td>\n",
       "      <td>online</td>\n",
       "      <td>static</td>\n",
       "      <td>5.4</td>\n",
       "      <td>yyyyyrryyyyyrr</td>\n",
       "    </tr>\n",
       "    <tr>\n",
       "      <th>606</th>\n",
       "      <td>63069008</td>\n",
       "      <td>online</td>\n",
       "      <td>static</td>\n",
       "      <td>1.0</td>\n",
       "      <td>srrrrrrsrrrrrr</td>\n",
       "    </tr>\n",
       "    <tr>\n",
       "      <th>607</th>\n",
       "      <td>63069008</td>\n",
       "      <td>online</td>\n",
       "      <td>static</td>\n",
       "      <td>10.1</td>\n",
       "      <td>srrrrrGsrrrrrG</td>\n",
       "    </tr>\n",
       "    <tr>\n",
       "      <th>608</th>\n",
       "      <td>63069008</td>\n",
       "      <td>online</td>\n",
       "      <td>static</td>\n",
       "      <td>3.0</td>\n",
       "      <td>srrrrrysrrrrry</td>\n",
       "    </tr>\n",
       "    <tr>\n",
       "      <th>609</th>\n",
       "      <td>63069008</td>\n",
       "      <td>online</td>\n",
       "      <td>static</td>\n",
       "      <td>2.5</td>\n",
       "      <td>srrrrrrsrrrrrr</td>\n",
       "    </tr>\n",
       "    <tr>\n",
       "      <th>...</th>\n",
       "      <td>...</td>\n",
       "      <td>...</td>\n",
       "      <td>...</td>\n",
       "      <td>...</td>\n",
       "      <td>...</td>\n",
       "    </tr>\n",
       "    <tr>\n",
       "      <th>1316</th>\n",
       "      <td>63069008</td>\n",
       "      <td>online</td>\n",
       "      <td>static</td>\n",
       "      <td>1.7</td>\n",
       "      <td>srrrrrrsrrrrrr</td>\n",
       "    </tr>\n",
       "    <tr>\n",
       "      <th>1317</th>\n",
       "      <td>63069008</td>\n",
       "      <td>online</td>\n",
       "      <td>static</td>\n",
       "      <td>6.1</td>\n",
       "      <td>srrrrrrGGGGGrr</td>\n",
       "    </tr>\n",
       "    <tr>\n",
       "      <th>1318</th>\n",
       "      <td>63069008</td>\n",
       "      <td>online</td>\n",
       "      <td>static</td>\n",
       "      <td>3.0</td>\n",
       "      <td>srrrrrrGGGGyrr</td>\n",
       "    </tr>\n",
       "    <tr>\n",
       "      <th>1319</th>\n",
       "      <td>63069008</td>\n",
       "      <td>online</td>\n",
       "      <td>static</td>\n",
       "      <td>2.5</td>\n",
       "      <td>srrrrrrGGGGrrr</td>\n",
       "    </tr>\n",
       "    <tr>\n",
       "      <th>1320</th>\n",
       "      <td>63069008</td>\n",
       "      <td>online</td>\n",
       "      <td>static</td>\n",
       "      <td>37.9</td>\n",
       "      <td>GGGGgrrGGGGgrr</td>\n",
       "    </tr>\n",
       "  </tbody>\n",
       "</table>\n",
       "<p>716 rows × 5 columns</p>\n",
       "</div>"
      ],
      "text/plain": [
       "      tlLogic_id tlLogic_programID tlLogic_type  phase_duration  \\\n",
       "605     63069008            online       static             5.4   \n",
       "606     63069008            online       static             1.0   \n",
       "607     63069008            online       static            10.1   \n",
       "608     63069008            online       static             3.0   \n",
       "609     63069008            online       static             2.5   \n",
       "...          ...               ...          ...             ...   \n",
       "1316    63069008            online       static             1.7   \n",
       "1317    63069008            online       static             6.1   \n",
       "1318    63069008            online       static             3.0   \n",
       "1319    63069008            online       static             2.5   \n",
       "1320    63069008            online       static            37.9   \n",
       "\n",
       "         phase_state  \n",
       "605   yyyyyrryyyyyrr  \n",
       "606   srrrrrrsrrrrrr  \n",
       "607   srrrrrGsrrrrrG  \n",
       "608   srrrrrysrrrrry  \n",
       "609   srrrrrrsrrrrrr  \n",
       "...              ...  \n",
       "1316  srrrrrrsrrrrrr  \n",
       "1317  srrrrrrGGGGGrr  \n",
       "1318  srrrrrrGGGGyrr  \n",
       "1319  srrrrrrGGGGrrr  \n",
       "1320  GGGGgrrGGGGgrr  \n",
       "\n",
       "[716 rows x 5 columns]"
      ]
     },
     "execution_count": 6,
     "metadata": {},
     "output_type": "execute_result"
    }
   ],
   "source": [
    "sumo_tl_df.loc[(sumo_tl_df['tlLogic_id'] == int(63069008)) & (sumo_tl_df['tlLogic_programID'] == 'online')]"
   ]
  },
  {
   "cell_type": "markdown",
   "metadata": {},
   "source": [
    "## Processing the SUMO TL Phasing"
   ]
  },
  {
   "cell_type": "code",
   "execution_count": 7,
   "metadata": {
    "ExecuteTime": {
     "end_time": "2020-05-12T14:12:46.132087Z",
     "start_time": "2020-05-12T14:12:46.101284Z"
    }
   },
   "outputs": [],
   "source": [
    "tls_phasing_df = pd.read_excel(tls_phasing)\n",
    "tls_phasing_dict = {tl_id: [int(num) for num in tls_phasing_df.loc[tls_phasing_df['traffic_light_id'] == tl_id]['key']\n",
    "                    .values.tolist()[0].split(',')]\n",
    "                    for tl_id in tls_phasing_df['traffic_light_id'].values}"
   ]
  },
  {
   "cell_type": "code",
   "execution_count": 8,
   "metadata": {
    "ExecuteTime": {
     "end_time": "2020-05-12T14:12:47.974886Z",
     "start_time": "2020-05-12T14:12:47.960848Z"
    }
   },
   "outputs": [],
   "source": [
    "x = tls_dict['63069008'].apply(lambda x: len(x['phase_state']), axis=1)"
   ]
  },
  {
   "cell_type": "markdown",
   "metadata": {},
   "source": [
    "## Getting the SUMO Traffic Light State from Phase"
   ]
  },
  {
   "cell_type": "code",
   "execution_count": 103,
   "metadata": {
    "ExecuteTime": {
     "end_time": "2020-05-12T14:12:49.458348Z",
     "start_time": "2020-05-12T14:12:49.447564Z"
    }
   },
   "outputs": [],
   "source": [
    "def phase_infer(row):\n",
    "    \n",
    "    phase_state = row['phase_state']\n",
    "    tl_id = row['tlLogic_id']\n",
    "    \n",
    "    green_list = []\n",
    "    yellow_list = []\n",
    "    yield_list = []\n",
    "    for i, letter in enumerate(phase_state):\n",
    "        try:\n",
    "            if letter == 'G':\n",
    "                green_list.append(tls_phasing_dict[tl_id][i])\n",
    "            if letter == 'y':\n",
    "                yellow_list.append(tls_phasing_dict[tl_id][i])\n",
    "            if letter == 'g':\n",
    "                yield_list.append(tls_phasing_dict[tl_id][i])\n",
    "        except IndexError:\n",
    "            print(letter, i, tl_id, phase_state, row['interval_begin_dt'])\n",
    "    unique_green = list(set(green_list))\n",
    "    unique_yellow = list(set(yellow_list))\n",
    "    unique_yield = list(set(yield_list))\n",
    "    return [unique_green, unique_yellow, unique_yield]"
   ]
  },
  {
   "cell_type": "code",
   "execution_count": 88,
   "metadata": {},
   "outputs": [],
   "source": [
    "def red_infer(df):\n",
    "    # applied by rolling\n",
    "    red_list = []\n",
    "    unique_red = []\n",
    "    if not pd.isna(df['phase_state_old']):\n",
    "        for i, phase in enumerate(zip(df['phase_state_old'], df['phase_state_new'])):\n",
    "            old, new = phase\n",
    "            if (new != old) and (old =='r'):\n",
    "                red_list.append(tls_phasing_dict[int(tl_id)][i])\n",
    "        unique_red = list(set(red_list))\n",
    "#     print(unique_red)\n",
    "    return unique_red\n",
    "            "
   ]
  },
  {
   "cell_type": "code",
   "execution_count": 104,
   "metadata": {
    "ExecuteTime": {
     "end_time": "2020-05-12T14:12:50.822617Z",
     "start_time": "2020-05-12T14:12:50.652795Z"
    }
   },
   "outputs": [
    {
     "name": "stderr",
     "output_type": "stream",
     "text": [
      "/home/max/Documents/github-repos/us69-research-paper-plotting/venv/lib/python3.6/site-packages/pandas/core/indexing.py:671: SettingWithCopyWarning:\n",
      "\n",
      "\n",
      "A value is trying to be set on a copy of a slice from a DataFrame\n",
      "\n",
      "See the caveats in the documentation: https://pandas.pydata.org/pandas-docs/stable/user_guide/indexing.html#returning-a-view-versus-a-copy\n",
      "\n"
     ]
    }
   ],
   "source": [
    "for tl_id in tls_dict.keys():\n",
    "    phase_stack = tls_dict[tl_id].apply(phase_infer, axis=1)\n",
    "    tls_dict[tl_id]['green'] = [x[0] for x in phase_stack.values]\n",
    "    tls_dict[tl_id]['yellow'] = [x[1] for x in phase_stack.values]\n",
    "    tls_dict[tl_id]['yield'] = [x[2] for x in phase_stack.values]\n",
    "    \n",
    "    temp_df = pd.DataFrame()\n",
    "    temp_df['phase_state_old'] = tls_dict[tl_id]['phase_state'].shift(-1).values\n",
    "    temp_df['phase_state_new'] = tls_dict[tl_id]['phase_state'].values\n",
    "    tls_dict[tl_id]['red'] = temp_df.apply(red_infer, axis=1).shift(1).values\n",
    "    tls_dict[tl_id]['red'].iloc[0] = []  # this will throw a warning but it works"
   ]
  },
  {
   "cell_type": "code",
   "execution_count": 105,
   "metadata": {},
   "outputs": [
    {
     "data": {
      "text/html": [
       "<div>\n",
       "<style scoped>\n",
       "    .dataframe tbody tr th:only-of-type {\n",
       "        vertical-align: middle;\n",
       "    }\n",
       "\n",
       "    .dataframe tbody tr th {\n",
       "        vertical-align: top;\n",
       "    }\n",
       "\n",
       "    .dataframe thead th {\n",
       "        text-align: right;\n",
       "    }\n",
       "</style>\n",
       "<table border=\"1\" class=\"dataframe\">\n",
       "  <thead>\n",
       "    <tr style=\"text-align: right;\">\n",
       "      <th></th>\n",
       "      <th>tlLogic_id</th>\n",
       "      <th>phase_state</th>\n",
       "      <th>interval_begin_dt</th>\n",
       "      <th>interval_end_dt</th>\n",
       "      <th>green</th>\n",
       "      <th>yellow</th>\n",
       "      <th>red</th>\n",
       "      <th>yield</th>\n",
       "    </tr>\n",
       "    <tr>\n",
       "      <th>interval_begin_dt</th>\n",
       "      <th></th>\n",
       "      <th></th>\n",
       "      <th></th>\n",
       "      <th></th>\n",
       "      <th></th>\n",
       "      <th></th>\n",
       "      <th></th>\n",
       "      <th></th>\n",
       "    </tr>\n",
       "  </thead>\n",
       "  <tbody>\n",
       "    <tr>\n",
       "      <th>2020-02-13 07:00:00.000</th>\n",
       "      <td>63069007</td>\n",
       "      <td>GGGGrrrrrGGGGrrrr</td>\n",
       "      <td>2020-02-13 07:00:00.000</td>\n",
       "      <td>2020-02-13 07:00:11.000</td>\n",
       "      <td>[2, 6]</td>\n",
       "      <td>[]</td>\n",
       "      <td>[]</td>\n",
       "      <td>[]</td>\n",
       "    </tr>\n",
       "    <tr>\n",
       "      <th>2020-02-13 07:00:11.000</th>\n",
       "      <td>63069007</td>\n",
       "      <td>yyyyrrrrryyyyrrrr</td>\n",
       "      <td>2020-02-13 07:00:11.000</td>\n",
       "      <td>2020-02-13 07:00:16.000</td>\n",
       "      <td>[]</td>\n",
       "      <td>[2, 6]</td>\n",
       "      <td>[]</td>\n",
       "      <td>[]</td>\n",
       "    </tr>\n",
       "    <tr>\n",
       "      <th>2020-02-13 07:00:16.000</th>\n",
       "      <td>63069007</td>\n",
       "      <td>rrrrGGrrrrrrrGrrr</td>\n",
       "      <td>2020-02-13 07:00:16.000</td>\n",
       "      <td>2020-02-13 07:00:27.000</td>\n",
       "      <td>[1, 5]</td>\n",
       "      <td>[]</td>\n",
       "      <td>[2, 6]</td>\n",
       "      <td>[]</td>\n",
       "    </tr>\n",
       "    <tr>\n",
       "      <th>2020-02-13 07:00:27.000</th>\n",
       "      <td>63069007</td>\n",
       "      <td>rrrryyrrrrrrryrrr</td>\n",
       "      <td>2020-02-13 07:00:27.000</td>\n",
       "      <td>2020-02-13 07:00:32.000</td>\n",
       "      <td>[]</td>\n",
       "      <td>[1, 5]</td>\n",
       "      <td>[]</td>\n",
       "      <td>[]</td>\n",
       "    </tr>\n",
       "    <tr>\n",
       "      <th>2020-02-13 07:00:32.000</th>\n",
       "      <td>63069007</td>\n",
       "      <td>rrrrrrGGGGrrrrrrr</td>\n",
       "      <td>2020-02-13 07:00:32.000</td>\n",
       "      <td>2020-02-13 07:00:38.000</td>\n",
       "      <td>[2, 4]</td>\n",
       "      <td>[]</td>\n",
       "      <td>[1, 5]</td>\n",
       "      <td>[]</td>\n",
       "    </tr>\n",
       "    <tr>\n",
       "      <th>...</th>\n",
       "      <td>...</td>\n",
       "      <td>...</td>\n",
       "      <td>...</td>\n",
       "      <td>...</td>\n",
       "      <td>...</td>\n",
       "      <td>...</td>\n",
       "      <td>...</td>\n",
       "      <td>...</td>\n",
       "    </tr>\n",
       "    <tr>\n",
       "      <th>2020-02-13 09:59:16.000</th>\n",
       "      <td>63069007</td>\n",
       "      <td>srrrrrrrrsrrrrrrr</td>\n",
       "      <td>2020-02-13 09:59:16.000</td>\n",
       "      <td>2020-02-13 09:59:17.700</td>\n",
       "      <td>[]</td>\n",
       "      <td>[]</td>\n",
       "      <td>[4]</td>\n",
       "      <td>[]</td>\n",
       "    </tr>\n",
       "    <tr>\n",
       "      <th>2020-02-13 09:59:17.700</th>\n",
       "      <td>63069007</td>\n",
       "      <td>srrrrrrrrGGGGGrrr</td>\n",
       "      <td>2020-02-13 09:59:17.700</td>\n",
       "      <td>2020-02-13 09:59:23.900</td>\n",
       "      <td>[2, 5]</td>\n",
       "      <td>[]</td>\n",
       "      <td>[]</td>\n",
       "      <td>[]</td>\n",
       "    </tr>\n",
       "    <tr>\n",
       "      <th>2020-02-13 09:59:23.900</th>\n",
       "      <td>63069007</td>\n",
       "      <td>srrrrrrrrGGGGyrrr</td>\n",
       "      <td>2020-02-13 09:59:23.900</td>\n",
       "      <td>2020-02-13 09:59:26.900</td>\n",
       "      <td>[2]</td>\n",
       "      <td>[5]</td>\n",
       "      <td>[]</td>\n",
       "      <td>[]</td>\n",
       "    </tr>\n",
       "    <tr>\n",
       "      <th>2020-02-13 09:59:26.900</th>\n",
       "      <td>63069007</td>\n",
       "      <td>srrrrrrrrGGGGrrrr</td>\n",
       "      <td>2020-02-13 09:59:26.900</td>\n",
       "      <td>2020-02-13 09:59:29.400</td>\n",
       "      <td>[2]</td>\n",
       "      <td>[]</td>\n",
       "      <td>[5]</td>\n",
       "      <td>[]</td>\n",
       "    </tr>\n",
       "    <tr>\n",
       "      <th>2020-02-13 09:59:29.400</th>\n",
       "      <td>63069007</td>\n",
       "      <td>GGGGrrrrrGGGGgrrr</td>\n",
       "      <td>2020-02-13 09:59:29.400</td>\n",
       "      <td>2020-02-13 10:00:00.000</td>\n",
       "      <td>[2, 6]</td>\n",
       "      <td>[]</td>\n",
       "      <td>[]</td>\n",
       "      <td>[5]</td>\n",
       "    </tr>\n",
       "  </tbody>\n",
       "</table>\n",
       "<p>948 rows × 8 columns</p>\n",
       "</div>"
      ],
      "text/plain": [
       "                         tlLogic_id        phase_state  \\\n",
       "interval_begin_dt                                        \n",
       "2020-02-13 07:00:00.000    63069007  GGGGrrrrrGGGGrrrr   \n",
       "2020-02-13 07:00:11.000    63069007  yyyyrrrrryyyyrrrr   \n",
       "2020-02-13 07:00:16.000    63069007  rrrrGGrrrrrrrGrrr   \n",
       "2020-02-13 07:00:27.000    63069007  rrrryyrrrrrrryrrr   \n",
       "2020-02-13 07:00:32.000    63069007  rrrrrrGGGGrrrrrrr   \n",
       "...                             ...                ...   \n",
       "2020-02-13 09:59:16.000    63069007  srrrrrrrrsrrrrrrr   \n",
       "2020-02-13 09:59:17.700    63069007  srrrrrrrrGGGGGrrr   \n",
       "2020-02-13 09:59:23.900    63069007  srrrrrrrrGGGGyrrr   \n",
       "2020-02-13 09:59:26.900    63069007  srrrrrrrrGGGGrrrr   \n",
       "2020-02-13 09:59:29.400    63069007  GGGGrrrrrGGGGgrrr   \n",
       "\n",
       "                              interval_begin_dt         interval_end_dt  \\\n",
       "interval_begin_dt                                                         \n",
       "2020-02-13 07:00:00.000 2020-02-13 07:00:00.000 2020-02-13 07:00:11.000   \n",
       "2020-02-13 07:00:11.000 2020-02-13 07:00:11.000 2020-02-13 07:00:16.000   \n",
       "2020-02-13 07:00:16.000 2020-02-13 07:00:16.000 2020-02-13 07:00:27.000   \n",
       "2020-02-13 07:00:27.000 2020-02-13 07:00:27.000 2020-02-13 07:00:32.000   \n",
       "2020-02-13 07:00:32.000 2020-02-13 07:00:32.000 2020-02-13 07:00:38.000   \n",
       "...                                         ...                     ...   \n",
       "2020-02-13 09:59:16.000 2020-02-13 09:59:16.000 2020-02-13 09:59:17.700   \n",
       "2020-02-13 09:59:17.700 2020-02-13 09:59:17.700 2020-02-13 09:59:23.900   \n",
       "2020-02-13 09:59:23.900 2020-02-13 09:59:23.900 2020-02-13 09:59:26.900   \n",
       "2020-02-13 09:59:26.900 2020-02-13 09:59:26.900 2020-02-13 09:59:29.400   \n",
       "2020-02-13 09:59:29.400 2020-02-13 09:59:29.400 2020-02-13 10:00:00.000   \n",
       "\n",
       "                          green  yellow     red yield  \n",
       "interval_begin_dt                                      \n",
       "2020-02-13 07:00:00.000  [2, 6]      []      []    []  \n",
       "2020-02-13 07:00:11.000      []  [2, 6]      []    []  \n",
       "2020-02-13 07:00:16.000  [1, 5]      []  [2, 6]    []  \n",
       "2020-02-13 07:00:27.000      []  [1, 5]      []    []  \n",
       "2020-02-13 07:00:32.000  [2, 4]      []  [1, 5]    []  \n",
       "...                         ...     ...     ...   ...  \n",
       "2020-02-13 09:59:16.000      []      []     [4]    []  \n",
       "2020-02-13 09:59:17.700  [2, 5]      []      []    []  \n",
       "2020-02-13 09:59:23.900     [2]     [5]      []    []  \n",
       "2020-02-13 09:59:26.900     [2]      []     [5]    []  \n",
       "2020-02-13 09:59:29.400  [2, 6]      []      []   [5]  \n",
       "\n",
       "[948 rows x 8 columns]"
      ]
     },
     "execution_count": 105,
     "metadata": {},
     "output_type": "execute_result"
    }
   ],
   "source": [
    "tls_dict[tl_id]"
   ]
  },
  {
   "cell_type": "markdown",
   "metadata": {},
   "source": [
    "## Enter the RW SQL Data File"
   ]
  },
  {
   "cell_type": "code",
   "execution_count": 11,
   "metadata": {
    "ExecuteTime": {
     "end_time": "2020-05-12T19:53:16.913507Z",
     "start_time": "2020-05-12T19:53:16.910109Z"
    }
   },
   "outputs": [],
   "source": [
    "rw_file_name = os.path.join(os.environ.get('SQL_DATA_DIR'), '2020-02-13.csv')"
   ]
  },
  {
   "cell_type": "markdown",
   "metadata": {},
   "source": [
    "## Process the RW Data File"
   ]
  },
  {
   "cell_type": "code",
   "execution_count": 12,
   "metadata": {
    "ExecuteTime": {
     "end_time": "2020-05-12T19:53:19.700989Z",
     "start_time": "2020-05-12T19:53:18.820567Z"
    }
   },
   "outputs": [],
   "source": [
    "light_event_dict = RWTrafficData(rw_file_name).active_phase_events.get_light_events(traffic_light_ids=None)"
   ]
  },
  {
   "cell_type": "markdown",
   "metadata": {},
   "source": [
    "## Reworking the RW Data into the dictionary format"
   ]
  },
  {
   "cell_type": "code",
   "execution_count": 13,
   "metadata": {
    "ExecuteTime": {
     "end_time": "2020-05-12T19:53:21.906553Z",
     "start_time": "2020-05-12T19:53:21.887346Z"
    }
   },
   "outputs": [],
   "source": [
    "rw_tl_dict = {tl_id: {} for tl_id in light_event_dict.keys()}\n",
    "for tl_id in light_event_dict.keys():\n",
    "    rw_tl_dict[tl_id]['green'] = light_event_dict[tl_id][0].to_frame()\n",
    "    rw_tl_dict[tl_id]['yellow'] = light_event_dict[tl_id][1].to_frame()\n",
    "    rw_tl_dict[tl_id]['red'] = light_event_dict[tl_id][2].to_frame()"
   ]
  },
  {
   "cell_type": "markdown",
   "metadata": {},
   "source": [
    "## Handling the RW Data Format\n",
    "\n",
    "The TL Controllers only report the change since the last state, not the current phase. Must look backwards to determine if (for example) 2 & 5 and not just 2"
   ]
  },
  {
   "cell_type": "code",
   "execution_count": 14,
   "metadata": {
    "ExecuteTime": {
     "end_time": "2020-05-12T19:53:26.313302Z",
     "start_time": "2020-05-12T19:53:23.662886Z"
    }
   },
   "outputs": [
    {
     "name": "stdout",
     "output_type": "stream",
     "text": [
      "Exception 63069007, green, 2020-02-13 22:16:15.200000\n",
      "Exception 63069007, green, 2020-02-13 22:21:08.300000\n",
      "Exception 63069007, green, 2020-02-13 22:26:10.200000\n",
      "Exception 63069006, green, 2020-02-13 14:56:32.500000\n",
      "Exception 63069006, green, 2020-02-13 15:53:13.400000\n",
      "Exception 63069006, green, 2020-02-13 17:11:08\n",
      "Exception 63069006, green, 2020-02-13 17:23:08.800000\n",
      "Exception 63069008, green, 2020-02-13 07:26:13.400000\n",
      "Exception 63069008, green, 2020-02-13 07:47:04\n",
      "Exception 63069008, green, 2020-02-13 07:47:55.300000\n",
      "Exception 63069008, green, 2020-02-13 07:53:12.800000\n",
      "Exception 63069008, green, 2020-02-13 08:02:07.300000\n",
      "Exception 63069008, green, 2020-02-13 08:34:35.400000\n",
      "Exception 63069008, green, 2020-02-13 08:36:46.700000\n",
      "Exception 63069008, green, 2020-02-13 11:21:26\n",
      "Exception 63069008, green, 2020-02-13 11:29:27.600000\n",
      "Exception 63069008, green, 2020-02-13 12:01:46.500000\n",
      "Exception 63069008, green, 2020-02-13 12:09:31.400000\n",
      "Exception 63069008, green, 2020-02-13 12:16:47.500000\n",
      "Exception 63069008, green, 2020-02-13 14:06:47.200000\n",
      "Exception 63069008, green, 2020-02-13 14:11:55.800000\n",
      "Exception 63069008, green, 2020-02-13 14:16:50.200000\n",
      "Exception 63069008, green, 2020-02-13 14:31:40.600000\n",
      "Exception 63069008, green, 2020-02-13 14:36:48.600000\n",
      "Exception 63069008, green, 2020-02-13 14:39:20.400000\n",
      "Exception 63069008, green, 2020-02-13 14:51:28.900000\n",
      "Exception 63069008, green, 2020-02-13 14:59:04.500000\n",
      "Exception 63069008, green, 2020-02-13 15:21:49.200000\n",
      "Exception 63069008, green, 2020-02-13 15:24:29.300000\n",
      "Exception 63069008, green, 2020-02-13 15:31:35.300000\n",
      "Exception 63069008, green, 2020-02-13 15:37:51.200000\n",
      "Exception 63069008, green, 2020-02-13 15:40:53.400000\n",
      "Exception 63069008, green, 2020-02-13 15:50:34.200000\n",
      "Exception 63069008, green, 2020-02-13 16:08:14.800000\n",
      "Exception 63069008, green, 2020-02-13 16:13:49.700000\n",
      "Exception 63069008, green, 2020-02-13 16:17:28.100000\n",
      "Exception 63069008, green, 2020-02-13 16:31:54.800000\n",
      "Exception 63069008, green, 2020-02-13 17:02:28.500000\n",
      "Exception 63069008, green, 2020-02-13 17:34:47.600000\n",
      "Exception 63069008, green, 2020-02-13 17:41:22.200000\n",
      "Exception 63069008, green, 2020-02-13 17:47:21.500000\n",
      "Exception 63069008, green, 2020-02-13 17:52:51.200000\n",
      "Exception 63069008, green, 2020-02-13 18:08:15.700000\n",
      "Exception 63069008, green, 2020-02-13 18:23:14.800000\n",
      "Exception 63069008, green, 2020-02-13 18:44:16.900000\n",
      "Exception 63069008, green, 2020-02-13 18:54:19.900000\n",
      "Exception 63069008, green, 2020-02-13 20:29:10\n"
     ]
    }
   ],
   "source": [
    "for tl_id in rw_tl_dict.keys():\n",
    "    \n",
    "    for state in rw_tl_dict[tl_id].keys():\n",
    "        \n",
    "        rw_tl_dict[tl_id][state]['phase_1'] = ''\n",
    "        rw_tl_dict[tl_id][state]['phase_2'] = ''\n",
    "        \n",
    "        for i in range(len(rw_tl_dict[tl_id][state].index)):\n",
    "            \n",
    "            rw_tl_dict[tl_id][state]['EventParam'][i] = [int(phase) for phase \n",
    "                                                         in rw_tl_dict[tl_id][state]['EventParam'][i]]\n",
    "            \n",
    "            if i != 0 and i < len(rw_tl_dict[tl_id][state].index)-1:\n",
    "                 \n",
    "                \n",
    "                if (len(rw_tl_dict[tl_id][state]['EventParam'].iloc[i]) < 2) and (state == 'green'):\n",
    "                    \n",
    "                    # Checking the time length until the next phase (sometimes the greens are not served at the same time)\n",
    "                    next_change_interval = (rw_tl_dict[tl_id][state].index[i+1] - rw_tl_dict[tl_id][state].index[i]).seconds \n",
    "                    \n",
    "                    if (state != 'green') or (next_change_interval > 3):\n",
    "                        \n",
    "                        # Only get the previous state if an immediate change is not coming.\n",
    "                        new = [\"\",\"\"]\n",
    "                        current = rw_tl_dict[tl_id][state]['EventParam'].iloc[i][0]\n",
    "                        last = rw_tl_dict[tl_id][state]['EventParam'].iloc[i-1]\n",
    "\n",
    "                        if current < 5:\n",
    "                            new[0] = current\n",
    "                            for last_phase in last:\n",
    "                                if (last_phase >= 5 and last_phase <= 6) and new[0] <= 2:\n",
    "                                    new[1] = last_phase\n",
    "                                    break\n",
    "                                elif (last_phase > 6 and last_phase <= 8) and new[0] > 2:\n",
    "                                    new[1] = last_phase\n",
    "                                    break\n",
    "                        else:\n",
    "                            new[1] = current\n",
    "                            for last_phase in last:\n",
    "                                if (last_phase > 0 and last_phase <= 2) and new[1] <= 6:\n",
    "                                    new[0] = last_phase\n",
    "                                    break\n",
    "                                elif (last_phase > 2 and last_phase <= 4) and new[1] > 6:\n",
    "                                    new[0] = last_phase\n",
    "                                    break\n",
    "\n",
    "                        new_new = []\n",
    "                        x = [new_new.append(x) if isinstance(x, int) else None for x in new]\n",
    "                        rw_tl_dict[tl_id][state]['EventParam'].iloc[i] = new_new.copy()\n",
    "                        \n",
    "                    else:\n",
    "                        print(\"Exception {tl_id}, {state}, {time}\".format(tl_id=tl_id, \n",
    "                                                                          state=state, time=rw_tl_dict[tl_id][state].index[i]))\n",
    "\n",
    "            for phase in rw_tl_dict[tl_id][state]['EventParam'].iloc[i]:\n",
    "                j = [1 if phase < 5 else 2][0]\n",
    "                rw_tl_dict[tl_id][state].loc[:,'phase_'+str(j)].iloc[i] = phase"
   ]
  },
  {
   "cell_type": "code",
   "execution_count": 15,
   "metadata": {
    "ExecuteTime": {
     "end_time": "2020-05-12T19:53:35.660154Z",
     "start_time": "2020-05-12T19:53:29.964970Z"
    }
   },
   "outputs": [
    {
     "name": "stdout",
     "output_type": "stream",
     "text": [
      "63069007\n",
      "63069007\n",
      "63069007\n",
      "63069009\n",
      "63069009\n",
      "63069009\n",
      "63069006\n",
      "63069006\n",
      "63069006\n",
      "63069008\n",
      "63069008\n",
      "63069008\n"
     ]
    }
   ],
   "source": [
    "rw_tl_dict['63069006']['yellow'].tail(20)\n",
    "#rw_tl_dict['63069006']['yellow'].resample('0.1S').asfreq()\n",
    "#rw_tl_dict['63069006']['green'].resample('0.1S').asfreq()\n",
    "\n",
    "# phased_dict = {'green': {}, 'yellow': {}}\n",
    "# phased_dict['green'] = {tl_id: {phase: None for phase in range(1, 8)} for tl_id in rw_tl_dict.keys()}\n",
    "# phased_dict['yellow'] = phased_dict['green'].copy()\n",
    "\n",
    "\n",
    "next_state_dict = {'green': 'yellow', 'yellow': 'red', 'red':'green'}\n",
    "\n",
    "for tl_id in rw_tl_dict.keys():\n",
    "    for state in rw_tl_dict[tl_id].keys(): \n",
    "#         rw_tl_dict[tl_id][state] = rw_tl_dict[tl_id][state].to_frame()\n",
    "        rw_tl_dict[tl_id][state]['phase_1_off_time'] = ''\n",
    "        rw_tl_dict[tl_id][state]['phase_2_off_time'] = ''\n",
    "\n",
    "        print(tl_id)\n",
    "\n",
    "        for i in range(len(rw_tl_dict[tl_id][state].index)):\n",
    "\n",
    "            try:\n",
    "                for j in range(1, 3):\n",
    "\n",
    "                    green_on_time = rw_tl_dict[tl_id][state].index[i]\n",
    "\n",
    "                    phase =  rw_tl_dict[tl_id][state]['phase_' + str(j)].iloc[i]\n",
    "                    \n",
    "                    next_state = next_state_dict[state]\n",
    "\n",
    "                    if phase != \"\":\n",
    "                        \n",
    "                        if state != 'red':\n",
    "\n",
    "                            next_time = rw_tl_dict[tl_id][next_state].loc[(rw_tl_dict[tl_id][next_state].index \n",
    "                                                        > green_on_time)  & \n",
    "                                                     (rw_tl_dict[tl_id][next_state].loc[:, 'phase_' + str(j)] == phase)].index[0]\n",
    "                        else:\n",
    "                            \n",
    "                            next_time = rw_tl_dict[tl_id][next_state].loc[(rw_tl_dict[tl_id][next_state].index \n",
    "                                                        > green_on_time)].index[0]\n",
    "                            \n",
    "                        rw_tl_dict[tl_id][state]['phase_' + str(j) + '_off_time'].iloc[i] = pd.to_datetime(next_time)\n",
    "                        #rw_tl_dict[tl_id]['green']['yellow_phase'].iloc[i] = rw_tl_dict[tl_id]['yellow'].loc[yellow_on_time, 'EventParam']\n",
    "\n",
    "            except IndexError:\n",
    "                break\n"
   ]
  },
  {
   "cell_type": "code",
   "execution_count": 19,
   "metadata": {},
   "outputs": [
    {
     "data": {
      "text/html": [
       "<div>\n",
       "<style scoped>\n",
       "    .dataframe tbody tr th:only-of-type {\n",
       "        vertical-align: middle;\n",
       "    }\n",
       "\n",
       "    .dataframe tbody tr th {\n",
       "        vertical-align: top;\n",
       "    }\n",
       "\n",
       "    .dataframe thead th {\n",
       "        text-align: right;\n",
       "    }\n",
       "</style>\n",
       "<table border=\"1\" class=\"dataframe\">\n",
       "  <thead>\n",
       "    <tr style=\"text-align: right;\">\n",
       "      <th></th>\n",
       "      <th>tlLogic_id</th>\n",
       "      <th>phase_state</th>\n",
       "      <th>interval_begin_dt</th>\n",
       "      <th>interval_end_dt</th>\n",
       "      <th>green</th>\n",
       "      <th>yellow</th>\n",
       "    </tr>\n",
       "    <tr>\n",
       "      <th>interval_begin_dt</th>\n",
       "      <th></th>\n",
       "      <th></th>\n",
       "      <th></th>\n",
       "      <th></th>\n",
       "      <th></th>\n",
       "      <th></th>\n",
       "    </tr>\n",
       "  </thead>\n",
       "  <tbody>\n",
       "    <tr>\n",
       "      <th>2020-02-13 07:00:11.000</th>\n",
       "      <td>63069007</td>\n",
       "      <td>yyyyrrrrryyyyrrrr</td>\n",
       "      <td>2020-02-13 07:00:11.000</td>\n",
       "      <td>2020-02-13 07:00:16.000</td>\n",
       "      <td>[]</td>\n",
       "      <td>[2, 6]</td>\n",
       "    </tr>\n",
       "    <tr>\n",
       "      <th>2020-02-13 07:00:16.000</th>\n",
       "      <td>63069007</td>\n",
       "      <td>rrrrGGrrrrrrrGrrr</td>\n",
       "      <td>2020-02-13 07:00:16.000</td>\n",
       "      <td>2020-02-13 07:00:27.000</td>\n",
       "      <td>[1, 5]</td>\n",
       "      <td>[]</td>\n",
       "    </tr>\n",
       "    <tr>\n",
       "      <th>2020-02-13 07:00:27.000</th>\n",
       "      <td>63069007</td>\n",
       "      <td>rrrryyrrrrrrryrrr</td>\n",
       "      <td>2020-02-13 07:00:27.000</td>\n",
       "      <td>2020-02-13 07:00:32.000</td>\n",
       "      <td>[]</td>\n",
       "      <td>[1, 5]</td>\n",
       "    </tr>\n",
       "    <tr>\n",
       "      <th>2020-02-13 07:00:32.000</th>\n",
       "      <td>63069007</td>\n",
       "      <td>rrrrrrGGGGrrrrrrr</td>\n",
       "      <td>2020-02-13 07:00:32.000</td>\n",
       "      <td>2020-02-13 07:00:38.000</td>\n",
       "      <td>[2, 4]</td>\n",
       "      <td>[]</td>\n",
       "    </tr>\n",
       "    <tr>\n",
       "      <th>2020-02-13 07:00:38.000</th>\n",
       "      <td>63069007</td>\n",
       "      <td>rrrrrryyyyrrrrrrr</td>\n",
       "      <td>2020-02-13 07:00:38.000</td>\n",
       "      <td>2020-02-13 07:00:43.000</td>\n",
       "      <td>[]</td>\n",
       "      <td>[2, 4]</td>\n",
       "    </tr>\n",
       "    <tr>\n",
       "      <th>2020-02-13 07:00:43.000</th>\n",
       "      <td>63069007</td>\n",
       "      <td>GrrrrrrrrrrrrrGGG</td>\n",
       "      <td>2020-02-13 07:00:43.000</td>\n",
       "      <td>2020-02-13 07:00:49.000</td>\n",
       "      <td>[3, 6]</td>\n",
       "      <td>[]</td>\n",
       "    </tr>\n",
       "    <tr>\n",
       "      <th>2020-02-13 07:00:49.000</th>\n",
       "      <td>63069007</td>\n",
       "      <td>yrrrrrrrrrrrrryyy</td>\n",
       "      <td>2020-02-13 07:00:49.000</td>\n",
       "      <td>2020-02-13 07:00:54.000</td>\n",
       "      <td>[]</td>\n",
       "      <td>[3, 6]</td>\n",
       "    </tr>\n",
       "    <tr>\n",
       "      <th>2020-02-13 07:00:54.000</th>\n",
       "      <td>63069007</td>\n",
       "      <td>GGGGrrrrrGGGGrrrr</td>\n",
       "      <td>2020-02-13 07:00:54.000</td>\n",
       "      <td>2020-02-13 07:01:05.000</td>\n",
       "      <td>[2, 6]</td>\n",
       "      <td>[]</td>\n",
       "    </tr>\n",
       "    <tr>\n",
       "      <th>2020-02-13 07:01:05.000</th>\n",
       "      <td>63069007</td>\n",
       "      <td>yyyyrrrrryyyyrrrr</td>\n",
       "      <td>2020-02-13 07:01:05.000</td>\n",
       "      <td>2020-02-13 07:01:10.000</td>\n",
       "      <td>[]</td>\n",
       "      <td>[2, 6]</td>\n",
       "    </tr>\n",
       "    <tr>\n",
       "      <th>2020-02-13 07:01:10.000</th>\n",
       "      <td>63069007</td>\n",
       "      <td>rrrrGGrrrrrrrGrrr</td>\n",
       "      <td>2020-02-13 07:01:10.000</td>\n",
       "      <td>2020-02-13 07:01:21.000</td>\n",
       "      <td>[1, 5]</td>\n",
       "      <td>[]</td>\n",
       "    </tr>\n",
       "    <tr>\n",
       "      <th>2020-02-13 07:01:21.000</th>\n",
       "      <td>63069007</td>\n",
       "      <td>rrrryyrrrrrrryrrr</td>\n",
       "      <td>2020-02-13 07:01:21.000</td>\n",
       "      <td>2020-02-13 07:01:26.000</td>\n",
       "      <td>[]</td>\n",
       "      <td>[1, 5]</td>\n",
       "    </tr>\n",
       "    <tr>\n",
       "      <th>2020-02-13 07:01:26.000</th>\n",
       "      <td>63069007</td>\n",
       "      <td>rrrrrrGGGGrrrrrrr</td>\n",
       "      <td>2020-02-13 07:01:26.000</td>\n",
       "      <td>2020-02-13 07:01:32.000</td>\n",
       "      <td>[2, 4]</td>\n",
       "      <td>[]</td>\n",
       "    </tr>\n",
       "    <tr>\n",
       "      <th>2020-02-13 07:01:32.000</th>\n",
       "      <td>63069007</td>\n",
       "      <td>rrrrrryyyyrrrrrrr</td>\n",
       "      <td>2020-02-13 07:01:32.000</td>\n",
       "      <td>2020-02-13 07:01:37.000</td>\n",
       "      <td>[]</td>\n",
       "      <td>[2, 4]</td>\n",
       "    </tr>\n",
       "    <tr>\n",
       "      <th>2020-02-13 07:01:37.000</th>\n",
       "      <td>63069007</td>\n",
       "      <td>GrrrrrrrrrrrrrGGG</td>\n",
       "      <td>2020-02-13 07:01:37.000</td>\n",
       "      <td>2020-02-13 07:01:43.000</td>\n",
       "      <td>[3, 6]</td>\n",
       "      <td>[]</td>\n",
       "    </tr>\n",
       "    <tr>\n",
       "      <th>2020-02-13 07:01:43.000</th>\n",
       "      <td>63069007</td>\n",
       "      <td>yrrrrrrrrrrrrryyy</td>\n",
       "      <td>2020-02-13 07:01:43.000</td>\n",
       "      <td>2020-02-13 07:01:48.000</td>\n",
       "      <td>[]</td>\n",
       "      <td>[3, 6]</td>\n",
       "    </tr>\n",
       "    <tr>\n",
       "      <th>2020-02-13 07:01:48.000</th>\n",
       "      <td>63069007</td>\n",
       "      <td>GGGGrrrrrGGGGrrrr</td>\n",
       "      <td>2020-02-13 07:01:48.000</td>\n",
       "      <td>2020-02-13 07:01:59.000</td>\n",
       "      <td>[2, 6]</td>\n",
       "      <td>[]</td>\n",
       "    </tr>\n",
       "    <tr>\n",
       "      <th>2020-02-13 07:01:59.000</th>\n",
       "      <td>63069007</td>\n",
       "      <td>yyyyrrrrryyyyrrrr</td>\n",
       "      <td>2020-02-13 07:01:59.000</td>\n",
       "      <td>2020-02-13 07:02:04.000</td>\n",
       "      <td>[]</td>\n",
       "      <td>[2, 6]</td>\n",
       "    </tr>\n",
       "    <tr>\n",
       "      <th>2020-02-13 07:02:04.000</th>\n",
       "      <td>63069007</td>\n",
       "      <td>rrrrGGrrrrrrrGrrr</td>\n",
       "      <td>2020-02-13 07:02:04.000</td>\n",
       "      <td>2020-02-13 07:02:08.800</td>\n",
       "      <td>[1, 5]</td>\n",
       "      <td>[]</td>\n",
       "    </tr>\n",
       "    <tr>\n",
       "      <th>2020-02-13 07:02:08.800</th>\n",
       "      <td>63069007</td>\n",
       "      <td>yyyyrrrrryyyyyrrr</td>\n",
       "      <td>2020-02-13 07:02:08.800</td>\n",
       "      <td>2020-02-13 07:02:14.100</td>\n",
       "      <td>[]</td>\n",
       "      <td>[2, 5, 6]</td>\n",
       "    </tr>\n",
       "    <tr>\n",
       "      <th>2020-02-13 07:02:14.100</th>\n",
       "      <td>63069007</td>\n",
       "      <td>srrrrrrrrsrrrrrrr</td>\n",
       "      <td>2020-02-13 07:02:14.100</td>\n",
       "      <td>2020-02-13 07:02:15.100</td>\n",
       "      <td>[]</td>\n",
       "      <td>[]</td>\n",
       "    </tr>\n",
       "  </tbody>\n",
       "</table>\n",
       "</div>"
      ],
      "text/plain": [
       "                         tlLogic_id        phase_state  \\\n",
       "interval_begin_dt                                        \n",
       "2020-02-13 07:00:11.000    63069007  yyyyrrrrryyyyrrrr   \n",
       "2020-02-13 07:00:16.000    63069007  rrrrGGrrrrrrrGrrr   \n",
       "2020-02-13 07:00:27.000    63069007  rrrryyrrrrrrryrrr   \n",
       "2020-02-13 07:00:32.000    63069007  rrrrrrGGGGrrrrrrr   \n",
       "2020-02-13 07:00:38.000    63069007  rrrrrryyyyrrrrrrr   \n",
       "2020-02-13 07:00:43.000    63069007  GrrrrrrrrrrrrrGGG   \n",
       "2020-02-13 07:00:49.000    63069007  yrrrrrrrrrrrrryyy   \n",
       "2020-02-13 07:00:54.000    63069007  GGGGrrrrrGGGGrrrr   \n",
       "2020-02-13 07:01:05.000    63069007  yyyyrrrrryyyyrrrr   \n",
       "2020-02-13 07:01:10.000    63069007  rrrrGGrrrrrrrGrrr   \n",
       "2020-02-13 07:01:21.000    63069007  rrrryyrrrrrrryrrr   \n",
       "2020-02-13 07:01:26.000    63069007  rrrrrrGGGGrrrrrrr   \n",
       "2020-02-13 07:01:32.000    63069007  rrrrrryyyyrrrrrrr   \n",
       "2020-02-13 07:01:37.000    63069007  GrrrrrrrrrrrrrGGG   \n",
       "2020-02-13 07:01:43.000    63069007  yrrrrrrrrrrrrryyy   \n",
       "2020-02-13 07:01:48.000    63069007  GGGGrrrrrGGGGrrrr   \n",
       "2020-02-13 07:01:59.000    63069007  yyyyrrrrryyyyrrrr   \n",
       "2020-02-13 07:02:04.000    63069007  rrrrGGrrrrrrrGrrr   \n",
       "2020-02-13 07:02:08.800    63069007  yyyyrrrrryyyyyrrr   \n",
       "2020-02-13 07:02:14.100    63069007  srrrrrrrrsrrrrrrr   \n",
       "\n",
       "                              interval_begin_dt         interval_end_dt  \\\n",
       "interval_begin_dt                                                         \n",
       "2020-02-13 07:00:11.000 2020-02-13 07:00:11.000 2020-02-13 07:00:16.000   \n",
       "2020-02-13 07:00:16.000 2020-02-13 07:00:16.000 2020-02-13 07:00:27.000   \n",
       "2020-02-13 07:00:27.000 2020-02-13 07:00:27.000 2020-02-13 07:00:32.000   \n",
       "2020-02-13 07:00:32.000 2020-02-13 07:00:32.000 2020-02-13 07:00:38.000   \n",
       "2020-02-13 07:00:38.000 2020-02-13 07:00:38.000 2020-02-13 07:00:43.000   \n",
       "2020-02-13 07:00:43.000 2020-02-13 07:00:43.000 2020-02-13 07:00:49.000   \n",
       "2020-02-13 07:00:49.000 2020-02-13 07:00:49.000 2020-02-13 07:00:54.000   \n",
       "2020-02-13 07:00:54.000 2020-02-13 07:00:54.000 2020-02-13 07:01:05.000   \n",
       "2020-02-13 07:01:05.000 2020-02-13 07:01:05.000 2020-02-13 07:01:10.000   \n",
       "2020-02-13 07:01:10.000 2020-02-13 07:01:10.000 2020-02-13 07:01:21.000   \n",
       "2020-02-13 07:01:21.000 2020-02-13 07:01:21.000 2020-02-13 07:01:26.000   \n",
       "2020-02-13 07:01:26.000 2020-02-13 07:01:26.000 2020-02-13 07:01:32.000   \n",
       "2020-02-13 07:01:32.000 2020-02-13 07:01:32.000 2020-02-13 07:01:37.000   \n",
       "2020-02-13 07:01:37.000 2020-02-13 07:01:37.000 2020-02-13 07:01:43.000   \n",
       "2020-02-13 07:01:43.000 2020-02-13 07:01:43.000 2020-02-13 07:01:48.000   \n",
       "2020-02-13 07:01:48.000 2020-02-13 07:01:48.000 2020-02-13 07:01:59.000   \n",
       "2020-02-13 07:01:59.000 2020-02-13 07:01:59.000 2020-02-13 07:02:04.000   \n",
       "2020-02-13 07:02:04.000 2020-02-13 07:02:04.000 2020-02-13 07:02:08.800   \n",
       "2020-02-13 07:02:08.800 2020-02-13 07:02:08.800 2020-02-13 07:02:14.100   \n",
       "2020-02-13 07:02:14.100 2020-02-13 07:02:14.100 2020-02-13 07:02:15.100   \n",
       "\n",
       "                          green     yellow  \n",
       "interval_begin_dt                           \n",
       "2020-02-13 07:00:11.000      []     [2, 6]  \n",
       "2020-02-13 07:00:16.000  [1, 5]         []  \n",
       "2020-02-13 07:00:27.000      []     [1, 5]  \n",
       "2020-02-13 07:00:32.000  [2, 4]         []  \n",
       "2020-02-13 07:00:38.000      []     [2, 4]  \n",
       "2020-02-13 07:00:43.000  [3, 6]         []  \n",
       "2020-02-13 07:00:49.000      []     [3, 6]  \n",
       "2020-02-13 07:00:54.000  [2, 6]         []  \n",
       "2020-02-13 07:01:05.000      []     [2, 6]  \n",
       "2020-02-13 07:01:10.000  [1, 5]         []  \n",
       "2020-02-13 07:01:21.000      []     [1, 5]  \n",
       "2020-02-13 07:01:26.000  [2, 4]         []  \n",
       "2020-02-13 07:01:32.000      []     [2, 4]  \n",
       "2020-02-13 07:01:37.000  [3, 6]         []  \n",
       "2020-02-13 07:01:43.000      []     [3, 6]  \n",
       "2020-02-13 07:01:48.000  [2, 6]         []  \n",
       "2020-02-13 07:01:59.000      []     [2, 6]  \n",
       "2020-02-13 07:02:04.000  [1, 5]         []  \n",
       "2020-02-13 07:02:08.800      []  [2, 5, 6]  \n",
       "2020-02-13 07:02:14.100      []         []  "
      ]
     },
     "execution_count": 19,
     "metadata": {},
     "output_type": "execute_result"
    }
   ],
   "source": [
    "plot_sumo_df.head(20)"
   ]
  },
  {
   "cell_type": "code",
   "execution_count": 108,
   "metadata": {
    "ExecuteTime": {
     "end_time": "2020-05-12T19:54:21.774507Z",
     "start_time": "2020-05-12T19:54:18.895275Z"
    }
   },
   "outputs": [
    {
     "data": {
      "application/vnd.plotly.v1+json": {
       "config": {
        "plotlyServerURL": "https://plot.ly"
       },
       "data": [
        {
         "opacity": 0,
         "type": "scatter",
         "x": [
          "2020-02-13T07:02:15.100000",
          "2020-02-13T07:19:45.200000"
         ]
        }
       ],
       "layout": {
        "autosize": true,
        "hovermode": "closest",
        "shapes": [
         {
          "line": {
           "color": "yellow",
           "width": 10
          },
          "type": "line",
          "x0": "2020-02-13T07:00:11",
          "x1": "2020-02-13T07:00:16",
          "xref": "x",
          "y0": 2.2,
          "y1": 2.2,
          "yref": "y"
         },
         {
          "line": {
           "color": "yellow",
           "width": 10
          },
          "type": "line",
          "x0": "2020-02-13T07:00:11",
          "x1": "2020-02-13T07:00:16",
          "xref": "x",
          "y0": 6.2,
          "y1": 6.2,
          "yref": "y"
         },
         {
          "line": {
           "color": "Green",
           "width": 10
          },
          "type": "line",
          "x0": "2020-02-13T07:00:16",
          "x1": "2020-02-13T07:00:27",
          "xref": "x",
          "y0": 1.2,
          "y1": 1.2,
          "yref": "y"
         },
         {
          "line": {
           "color": "Green",
           "width": 10
          },
          "type": "line",
          "x0": "2020-02-13T07:00:16",
          "x1": "2020-02-13T07:00:27",
          "xref": "x",
          "y0": 5.2,
          "y1": 5.2,
          "yref": "y"
         },
         {
          "line": {
           "color": "red",
           "width": 10
          },
          "type": "line",
          "x0": "2020-02-13T07:00:16",
          "x1": "2020-02-13T07:00:27",
          "xref": "x",
          "y0": 2.2,
          "y1": 2.2,
          "yref": "y"
         },
         {
          "line": {
           "color": "red",
           "width": 10
          },
          "type": "line",
          "x0": "2020-02-13T07:00:16",
          "x1": "2020-02-13T07:00:27",
          "xref": "x",
          "y0": 6.2,
          "y1": 6.2,
          "yref": "y"
         },
         {
          "line": {
           "color": "yellow",
           "width": 10
          },
          "type": "line",
          "x0": "2020-02-13T07:00:27",
          "x1": "2020-02-13T07:00:32",
          "xref": "x",
          "y0": 1.2,
          "y1": 1.2,
          "yref": "y"
         },
         {
          "line": {
           "color": "yellow",
           "width": 10
          },
          "type": "line",
          "x0": "2020-02-13T07:00:27",
          "x1": "2020-02-13T07:00:32",
          "xref": "x",
          "y0": 5.2,
          "y1": 5.2,
          "yref": "y"
         },
         {
          "line": {
           "color": "Green",
           "width": 10
          },
          "type": "line",
          "x0": "2020-02-13T07:00:32",
          "x1": "2020-02-13T07:00:38",
          "xref": "x",
          "y0": 2.2,
          "y1": 2.2,
          "yref": "y"
         },
         {
          "line": {
           "color": "Green",
           "width": 10
          },
          "type": "line",
          "x0": "2020-02-13T07:00:32",
          "x1": "2020-02-13T07:00:38",
          "xref": "x",
          "y0": 4.2,
          "y1": 4.2,
          "yref": "y"
         },
         {
          "line": {
           "color": "red",
           "width": 10
          },
          "type": "line",
          "x0": "2020-02-13T07:00:32",
          "x1": "2020-02-13T07:00:38",
          "xref": "x",
          "y0": 1.2,
          "y1": 1.2,
          "yref": "y"
         },
         {
          "line": {
           "color": "red",
           "width": 10
          },
          "type": "line",
          "x0": "2020-02-13T07:00:32",
          "x1": "2020-02-13T07:00:38",
          "xref": "x",
          "y0": 5.2,
          "y1": 5.2,
          "yref": "y"
         },
         {
          "line": {
           "color": "yellow",
           "width": 10
          },
          "type": "line",
          "x0": "2020-02-13T07:00:38",
          "x1": "2020-02-13T07:00:43",
          "xref": "x",
          "y0": 2.2,
          "y1": 2.2,
          "yref": "y"
         },
         {
          "line": {
           "color": "yellow",
           "width": 10
          },
          "type": "line",
          "x0": "2020-02-13T07:00:38",
          "x1": "2020-02-13T07:00:43",
          "xref": "x",
          "y0": 4.2,
          "y1": 4.2,
          "yref": "y"
         },
         {
          "line": {
           "color": "Green",
           "width": 10
          },
          "type": "line",
          "x0": "2020-02-13T07:00:43",
          "x1": "2020-02-13T07:00:49",
          "xref": "x",
          "y0": 3.2,
          "y1": 3.2,
          "yref": "y"
         },
         {
          "line": {
           "color": "Green",
           "width": 10
          },
          "type": "line",
          "x0": "2020-02-13T07:00:43",
          "x1": "2020-02-13T07:00:49",
          "xref": "x",
          "y0": 6.2,
          "y1": 6.2,
          "yref": "y"
         },
         {
          "line": {
           "color": "red",
           "width": 10
          },
          "type": "line",
          "x0": "2020-02-13T07:00:43",
          "x1": "2020-02-13T07:00:49",
          "xref": "x",
          "y0": 2.2,
          "y1": 2.2,
          "yref": "y"
         },
         {
          "line": {
           "color": "red",
           "width": 10
          },
          "type": "line",
          "x0": "2020-02-13T07:00:43",
          "x1": "2020-02-13T07:00:49",
          "xref": "x",
          "y0": 4.2,
          "y1": 4.2,
          "yref": "y"
         },
         {
          "line": {
           "color": "yellow",
           "width": 10
          },
          "type": "line",
          "x0": "2020-02-13T07:00:49",
          "x1": "2020-02-13T07:00:54",
          "xref": "x",
          "y0": 3.2,
          "y1": 3.2,
          "yref": "y"
         },
         {
          "line": {
           "color": "yellow",
           "width": 10
          },
          "type": "line",
          "x0": "2020-02-13T07:00:49",
          "x1": "2020-02-13T07:00:54",
          "xref": "x",
          "y0": 6.2,
          "y1": 6.2,
          "yref": "y"
         },
         {
          "line": {
           "color": "Green",
           "width": 10
          },
          "type": "line",
          "x0": "2020-02-13T07:00:54",
          "x1": "2020-02-13T07:01:05",
          "xref": "x",
          "y0": 2.2,
          "y1": 2.2,
          "yref": "y"
         },
         {
          "line": {
           "color": "Green",
           "width": 10
          },
          "type": "line",
          "x0": "2020-02-13T07:00:54",
          "x1": "2020-02-13T07:01:05",
          "xref": "x",
          "y0": 6.2,
          "y1": 6.2,
          "yref": "y"
         },
         {
          "line": {
           "color": "red",
           "width": 10
          },
          "type": "line",
          "x0": "2020-02-13T07:00:54",
          "x1": "2020-02-13T07:01:05",
          "xref": "x",
          "y0": 3.2,
          "y1": 3.2,
          "yref": "y"
         },
         {
          "line": {
           "color": "yellow",
           "width": 10
          },
          "type": "line",
          "x0": "2020-02-13T07:01:05",
          "x1": "2020-02-13T07:01:10",
          "xref": "x",
          "y0": 2.2,
          "y1": 2.2,
          "yref": "y"
         },
         {
          "line": {
           "color": "yellow",
           "width": 10
          },
          "type": "line",
          "x0": "2020-02-13T07:01:05",
          "x1": "2020-02-13T07:01:10",
          "xref": "x",
          "y0": 6.2,
          "y1": 6.2,
          "yref": "y"
         },
         {
          "line": {
           "color": "Green",
           "width": 10
          },
          "type": "line",
          "x0": "2020-02-13T07:01:10",
          "x1": "2020-02-13T07:01:21",
          "xref": "x",
          "y0": 1.2,
          "y1": 1.2,
          "yref": "y"
         },
         {
          "line": {
           "color": "Green",
           "width": 10
          },
          "type": "line",
          "x0": "2020-02-13T07:01:10",
          "x1": "2020-02-13T07:01:21",
          "xref": "x",
          "y0": 5.2,
          "y1": 5.2,
          "yref": "y"
         },
         {
          "line": {
           "color": "red",
           "width": 10
          },
          "type": "line",
          "x0": "2020-02-13T07:01:10",
          "x1": "2020-02-13T07:01:21",
          "xref": "x",
          "y0": 2.2,
          "y1": 2.2,
          "yref": "y"
         },
         {
          "line": {
           "color": "red",
           "width": 10
          },
          "type": "line",
          "x0": "2020-02-13T07:01:10",
          "x1": "2020-02-13T07:01:21",
          "xref": "x",
          "y0": 6.2,
          "y1": 6.2,
          "yref": "y"
         },
         {
          "line": {
           "color": "yellow",
           "width": 10
          },
          "type": "line",
          "x0": "2020-02-13T07:01:21",
          "x1": "2020-02-13T07:01:26",
          "xref": "x",
          "y0": 1.2,
          "y1": 1.2,
          "yref": "y"
         },
         {
          "line": {
           "color": "yellow",
           "width": 10
          },
          "type": "line",
          "x0": "2020-02-13T07:01:21",
          "x1": "2020-02-13T07:01:26",
          "xref": "x",
          "y0": 5.2,
          "y1": 5.2,
          "yref": "y"
         },
         {
          "line": {
           "color": "Green",
           "width": 10
          },
          "type": "line",
          "x0": "2020-02-13T07:01:26",
          "x1": "2020-02-13T07:01:32",
          "xref": "x",
          "y0": 2.2,
          "y1": 2.2,
          "yref": "y"
         },
         {
          "line": {
           "color": "Green",
           "width": 10
          },
          "type": "line",
          "x0": "2020-02-13T07:01:26",
          "x1": "2020-02-13T07:01:32",
          "xref": "x",
          "y0": 4.2,
          "y1": 4.2,
          "yref": "y"
         },
         {
          "line": {
           "color": "red",
           "width": 10
          },
          "type": "line",
          "x0": "2020-02-13T07:01:26",
          "x1": "2020-02-13T07:01:32",
          "xref": "x",
          "y0": 1.2,
          "y1": 1.2,
          "yref": "y"
         },
         {
          "line": {
           "color": "red",
           "width": 10
          },
          "type": "line",
          "x0": "2020-02-13T07:01:26",
          "x1": "2020-02-13T07:01:32",
          "xref": "x",
          "y0": 5.2,
          "y1": 5.2,
          "yref": "y"
         },
         {
          "line": {
           "color": "yellow",
           "width": 10
          },
          "type": "line",
          "x0": "2020-02-13T07:01:32",
          "x1": "2020-02-13T07:01:37",
          "xref": "x",
          "y0": 2.2,
          "y1": 2.2,
          "yref": "y"
         },
         {
          "line": {
           "color": "yellow",
           "width": 10
          },
          "type": "line",
          "x0": "2020-02-13T07:01:32",
          "x1": "2020-02-13T07:01:37",
          "xref": "x",
          "y0": 4.2,
          "y1": 4.2,
          "yref": "y"
         },
         {
          "line": {
           "color": "Green",
           "width": 10
          },
          "type": "line",
          "x0": "2020-02-13T07:01:37",
          "x1": "2020-02-13T07:01:43",
          "xref": "x",
          "y0": 3.2,
          "y1": 3.2,
          "yref": "y"
         },
         {
          "line": {
           "color": "Green",
           "width": 10
          },
          "type": "line",
          "x0": "2020-02-13T07:01:37",
          "x1": "2020-02-13T07:01:43",
          "xref": "x",
          "y0": 6.2,
          "y1": 6.2,
          "yref": "y"
         },
         {
          "line": {
           "color": "red",
           "width": 10
          },
          "type": "line",
          "x0": "2020-02-13T07:01:37",
          "x1": "2020-02-13T07:01:43",
          "xref": "x",
          "y0": 2.2,
          "y1": 2.2,
          "yref": "y"
         },
         {
          "line": {
           "color": "red",
           "width": 10
          },
          "type": "line",
          "x0": "2020-02-13T07:01:37",
          "x1": "2020-02-13T07:01:43",
          "xref": "x",
          "y0": 4.2,
          "y1": 4.2,
          "yref": "y"
         },
         {
          "line": {
           "color": "yellow",
           "width": 10
          },
          "type": "line",
          "x0": "2020-02-13T07:01:43",
          "x1": "2020-02-13T07:01:48",
          "xref": "x",
          "y0": 3.2,
          "y1": 3.2,
          "yref": "y"
         },
         {
          "line": {
           "color": "yellow",
           "width": 10
          },
          "type": "line",
          "x0": "2020-02-13T07:01:43",
          "x1": "2020-02-13T07:01:48",
          "xref": "x",
          "y0": 6.2,
          "y1": 6.2,
          "yref": "y"
         },
         {
          "line": {
           "color": "Green",
           "width": 10
          },
          "type": "line",
          "x0": "2020-02-13T07:01:48",
          "x1": "2020-02-13T07:01:59",
          "xref": "x",
          "y0": 2.2,
          "y1": 2.2,
          "yref": "y"
         },
         {
          "line": {
           "color": "Green",
           "width": 10
          },
          "type": "line",
          "x0": "2020-02-13T07:01:48",
          "x1": "2020-02-13T07:01:59",
          "xref": "x",
          "y0": 6.2,
          "y1": 6.2,
          "yref": "y"
         },
         {
          "line": {
           "color": "red",
           "width": 10
          },
          "type": "line",
          "x0": "2020-02-13T07:01:48",
          "x1": "2020-02-13T07:01:59",
          "xref": "x",
          "y0": 3.2,
          "y1": 3.2,
          "yref": "y"
         },
         {
          "line": {
           "color": "yellow",
           "width": 10
          },
          "type": "line",
          "x0": "2020-02-13T07:01:59",
          "x1": "2020-02-13T07:02:04",
          "xref": "x",
          "y0": 2.2,
          "y1": 2.2,
          "yref": "y"
         },
         {
          "line": {
           "color": "yellow",
           "width": 10
          },
          "type": "line",
          "x0": "2020-02-13T07:01:59",
          "x1": "2020-02-13T07:02:04",
          "xref": "x",
          "y0": 6.2,
          "y1": 6.2,
          "yref": "y"
         },
         {
          "line": {
           "color": "Green",
           "width": 10
          },
          "type": "line",
          "x0": "2020-02-13T07:02:04",
          "x1": "2020-02-13T07:02:08.800000",
          "xref": "x",
          "y0": 1.2,
          "y1": 1.2,
          "yref": "y"
         },
         {
          "line": {
           "color": "Green",
           "width": 10
          },
          "type": "line",
          "x0": "2020-02-13T07:02:04",
          "x1": "2020-02-13T07:02:08.800000",
          "xref": "x",
          "y0": 5.2,
          "y1": 5.2,
          "yref": "y"
         },
         {
          "line": {
           "color": "red",
           "width": 10
          },
          "type": "line",
          "x0": "2020-02-13T07:02:04",
          "x1": "2020-02-13T07:02:08.800000",
          "xref": "x",
          "y0": 2.2,
          "y1": 2.2,
          "yref": "y"
         },
         {
          "line": {
           "color": "red",
           "width": 10
          },
          "type": "line",
          "x0": "2020-02-13T07:02:04",
          "x1": "2020-02-13T07:02:08.800000",
          "xref": "x",
          "y0": 6.2,
          "y1": 6.2,
          "yref": "y"
         },
         {
          "line": {
           "color": "yellow",
           "width": 10
          },
          "type": "line",
          "x0": "2020-02-13T07:02:08.800000",
          "x1": "2020-02-13T07:02:14.100000",
          "xref": "x",
          "y0": 2.2,
          "y1": 2.2,
          "yref": "y"
         },
         {
          "line": {
           "color": "yellow",
           "width": 10
          },
          "type": "line",
          "x0": "2020-02-13T07:02:08.800000",
          "x1": "2020-02-13T07:02:14.100000",
          "xref": "x",
          "y0": 5.2,
          "y1": 5.2,
          "yref": "y"
         },
         {
          "line": {
           "color": "yellow",
           "width": 10
          },
          "type": "line",
          "x0": "2020-02-13T07:02:08.800000",
          "x1": "2020-02-13T07:02:14.100000",
          "xref": "x",
          "y0": 6.2,
          "y1": 6.2,
          "yref": "y"
         },
         {
          "line": {
           "color": "red",
           "width": 10
          },
          "type": "line",
          "x0": "2020-02-13T07:02:08.800000",
          "x1": "2020-02-13T07:02:14.100000",
          "xref": "x",
          "y0": 1.2,
          "y1": 1.2,
          "yref": "y"
         },
         {
          "line": {
           "color": "red",
           "width": 10
          },
          "type": "line",
          "x0": "2020-02-13T07:02:14.100000",
          "x1": "2020-02-13T07:02:15.100000",
          "xref": "x",
          "y0": 2.2,
          "y1": 2.2,
          "yref": "y"
         },
         {
          "line": {
           "color": "red",
           "width": 10
          },
          "type": "line",
          "x0": "2020-02-13T07:02:14.100000",
          "x1": "2020-02-13T07:02:15.100000",
          "xref": "x",
          "y0": 5.2,
          "y1": 5.2,
          "yref": "y"
         },
         {
          "line": {
           "color": "red",
           "width": 10
          },
          "type": "line",
          "x0": "2020-02-13T07:02:14.100000",
          "x1": "2020-02-13T07:02:15.100000",
          "xref": "x",
          "y0": 6.2,
          "y1": 6.2,
          "yref": "y"
         },
         {
          "line": {
           "color": "Green",
           "width": 10
          },
          "type": "line",
          "x0": "2020-02-13T07:02:15.100000",
          "x1": "2020-02-13T07:02:28.200000",
          "xref": "x",
          "y0": 3.2,
          "y1": 3.2,
          "yref": "y"
         },
         {
          "line": {
           "color": "yellow",
           "width": 10
          },
          "type": "line",
          "x0": "2020-02-13T07:02:28.200000",
          "x1": "2020-02-13T07:02:31.200000",
          "xref": "x",
          "y0": 3.2,
          "y1": 3.2,
          "yref": "y"
         },
         {
          "line": {
           "color": "red",
           "width": 10
          },
          "type": "line",
          "x0": "2020-02-13T07:02:31.200000",
          "x1": "2020-02-13T07:02:33.700000",
          "xref": "x",
          "y0": 3.2,
          "y1": 3.2,
          "yref": "y"
         },
         {
          "line": {
           "color": "Green",
           "width": 10
          },
          "type": "line",
          "x0": "2020-02-13T07:02:33.700000",
          "x1": "2020-02-13T07:02:48.600000",
          "xref": "x",
          "y0": 4.2,
          "y1": 4.2,
          "yref": "y"
         },
         {
          "line": {
           "color": "yellow",
           "width": 10
          },
          "type": "line",
          "x0": "2020-02-13T07:02:48.600000",
          "x1": "2020-02-13T07:02:52.200000",
          "xref": "x",
          "y0": 4.2,
          "y1": 4.2,
          "yref": "y"
         },
         {
          "line": {
           "color": "red",
           "width": 10
          },
          "type": "line",
          "x0": "2020-02-13T07:02:52.200000",
          "x1": "2020-02-13T07:02:53.900000",
          "xref": "x",
          "y0": 4.2,
          "y1": 4.2,
          "yref": "y"
         },
         {
          "line": {
           "color": "Green",
           "width": 10
          },
          "type": "line",
          "x0": "2020-02-13T07:02:53.900000",
          "x1": "2020-02-13T07:04:51.100000",
          "xref": "x",
          "y0": 2.2,
          "y1": 2.2,
          "yref": "y"
         },
         {
          "line": {
           "color": "Green",
           "width": 10
          },
          "type": "line",
          "x0": "2020-02-13T07:02:53.900000",
          "x1": "2020-02-13T07:04:51.100000",
          "xref": "x",
          "y0": 6.2,
          "y1": 6.2,
          "yref": "y"
         },
         {
          "line": {
           "color": "limegreen",
           "width": 10
          },
          "type": "line",
          "x0": "2020-02-13T07:02:53.900000",
          "x1": "2020-02-13T07:04:51.100000",
          "xref": "x",
          "y0": 5.2,
          "y1": 5.2,
          "yref": "y"
         },
         {
          "line": {
           "color": "Green",
           "width": 10
          },
          "type": "line",
          "x0": "2020-02-13T07:04:51.100000",
          "x1": "2020-02-13T07:04:56.500000",
          "xref": "x",
          "y0": 6.2,
          "y1": 6.2,
          "yref": "y"
         },
         {
          "line": {
           "color": "yellow",
           "width": 10
          },
          "type": "line",
          "x0": "2020-02-13T07:04:51.100000",
          "x1": "2020-02-13T07:04:56.500000",
          "xref": "x",
          "y0": 2.2,
          "y1": 2.2,
          "yref": "y"
         },
         {
          "line": {
           "color": "yellow",
           "width": 10
          },
          "type": "line",
          "x0": "2020-02-13T07:04:51.100000",
          "x1": "2020-02-13T07:04:56.500000",
          "xref": "x",
          "y0": 5.2,
          "y1": 5.2,
          "yref": "y"
         },
         {
          "line": {
           "color": "Green",
           "width": 10
          },
          "type": "line",
          "x0": "2020-02-13T07:04:56.500000",
          "x1": "2020-02-13T07:04:57.500000",
          "xref": "x",
          "y0": 6.2,
          "y1": 6.2,
          "yref": "y"
         },
         {
          "line": {
           "color": "red",
           "width": 10
          },
          "type": "line",
          "x0": "2020-02-13T07:04:56.500000",
          "x1": "2020-02-13T07:04:57.500000",
          "xref": "x",
          "y0": 2.2,
          "y1": 2.2,
          "yref": "y"
         },
         {
          "line": {
           "color": "red",
           "width": 10
          },
          "type": "line",
          "x0": "2020-02-13T07:04:56.500000",
          "x1": "2020-02-13T07:04:57.500000",
          "xref": "x",
          "y0": 5.2,
          "y1": 5.2,
          "yref": "y"
         },
         {
          "line": {
           "color": "Green",
           "width": 10
          },
          "type": "line",
          "x0": "2020-02-13T07:04:57.500000",
          "x1": "2020-02-13T07:05:08.500000",
          "xref": "x",
          "y0": 1.2,
          "y1": 1.2,
          "yref": "y"
         },
         {
          "line": {
           "color": "Green",
           "width": 10
          },
          "type": "line",
          "x0": "2020-02-13T07:04:57.500000",
          "x1": "2020-02-13T07:05:08.500000",
          "xref": "x",
          "y0": 6.2,
          "y1": 6.2,
          "yref": "y"
         },
         {
          "line": {
           "color": "yellow",
           "width": 10
          },
          "type": "line",
          "x0": "2020-02-13T07:05:08.500000",
          "x1": "2020-02-13T07:05:11.400000",
          "xref": "x",
          "y0": 1.2,
          "y1": 1.2,
          "yref": "y"
         },
         {
          "line": {
           "color": "yellow",
           "width": 10
          },
          "type": "line",
          "x0": "2020-02-13T07:05:08.500000",
          "x1": "2020-02-13T07:05:11.400000",
          "xref": "x",
          "y0": 6.2,
          "y1": 6.2,
          "yref": "y"
         },
         {
          "line": {
           "color": "yellow",
           "width": 10
          },
          "type": "line",
          "x0": "2020-02-13T07:05:11.400000",
          "x1": "2020-02-13T07:05:13.900000",
          "xref": "x",
          "y0": 6.2,
          "y1": 6.2,
          "yref": "y"
         },
         {
          "line": {
           "color": "red",
           "width": 10
          },
          "type": "line",
          "x0": "2020-02-13T07:05:11.400000",
          "x1": "2020-02-13T07:05:13.900000",
          "xref": "x",
          "y0": 1.2,
          "y1": 1.2,
          "yref": "y"
         },
         {
          "line": {
           "color": "red",
           "width": 10
          },
          "type": "line",
          "x0": "2020-02-13T07:05:13.900000",
          "x1": "2020-02-13T07:05:14.800000",
          "xref": "x",
          "y0": 6.2,
          "y1": 6.2,
          "yref": "y"
         },
         {
          "line": {
           "color": "Green",
           "width": 10
          },
          "type": "line",
          "x0": "2020-02-13T07:05:14.800000",
          "x1": "2020-02-13T07:05:25",
          "xref": "x",
          "y0": 3.2,
          "y1": 3.2,
          "yref": "y"
         },
         {
          "line": {
           "color": "yellow",
           "width": 10
          },
          "type": "line",
          "x0": "2020-02-13T07:05:25",
          "x1": "2020-02-13T07:05:28",
          "xref": "x",
          "y0": 3.2,
          "y1": 3.2,
          "yref": "y"
         },
         {
          "line": {
           "color": "red",
           "width": 10
          },
          "type": "line",
          "x0": "2020-02-13T07:05:28",
          "x1": "2020-02-13T07:05:30.500000",
          "xref": "x",
          "y0": 3.2,
          "y1": 3.2,
          "yref": "y"
         },
         {
          "line": {
           "color": "Green",
           "width": 10
          },
          "type": "line",
          "x0": "2020-02-13T07:05:30.500000",
          "x1": "2020-02-13T07:05:36.800000",
          "xref": "x",
          "y0": 4.2,
          "y1": 4.2,
          "yref": "y"
         },
         {
          "line": {
           "color": "yellow",
           "width": 10
          },
          "type": "line",
          "x0": "2020-02-13T07:05:36.800000",
          "x1": "2020-02-13T07:05:40.400000",
          "xref": "x",
          "y0": 4.2,
          "y1": 4.2,
          "yref": "y"
         },
         {
          "line": {
           "color": "red",
           "width": 10
          },
          "type": "line",
          "x0": "2020-02-13T07:05:40.400000",
          "x1": "2020-02-13T07:05:42.100000",
          "xref": "x",
          "y0": 4.2,
          "y1": 4.2,
          "yref": "y"
         },
         {
          "line": {
           "color": "Green",
           "width": 10
          },
          "type": "line",
          "x0": "2020-02-13T07:05:42.100000",
          "x1": "2020-02-13T07:07:38.700000",
          "xref": "x",
          "y0": 2.2,
          "y1": 2.2,
          "yref": "y"
         },
         {
          "line": {
           "color": "Green",
           "width": 10
          },
          "type": "line",
          "x0": "2020-02-13T07:05:42.100000",
          "x1": "2020-02-13T07:07:38.700000",
          "xref": "x",
          "y0": 6.2,
          "y1": 6.2,
          "yref": "y"
         },
         {
          "line": {
           "color": "limegreen",
           "width": 10
          },
          "type": "line",
          "x0": "2020-02-13T07:05:42.100000",
          "x1": "2020-02-13T07:07:38.700000",
          "xref": "x",
          "y0": 5.2,
          "y1": 5.2,
          "yref": "y"
         },
         {
          "line": {
           "color": "Green",
           "width": 10
          },
          "type": "line",
          "x0": "2020-02-13T07:07:38.700000",
          "x1": "2020-02-13T07:07:44.100000",
          "xref": "x",
          "y0": 6.2,
          "y1": 6.2,
          "yref": "y"
         },
         {
          "line": {
           "color": "yellow",
           "width": 10
          },
          "type": "line",
          "x0": "2020-02-13T07:07:38.700000",
          "x1": "2020-02-13T07:07:44.100000",
          "xref": "x",
          "y0": 2.2,
          "y1": 2.2,
          "yref": "y"
         },
         {
          "line": {
           "color": "yellow",
           "width": 10
          },
          "type": "line",
          "x0": "2020-02-13T07:07:38.700000",
          "x1": "2020-02-13T07:07:44.100000",
          "xref": "x",
          "y0": 5.2,
          "y1": 5.2,
          "yref": "y"
         },
         {
          "line": {
           "color": "Green",
           "width": 10
          },
          "type": "line",
          "x0": "2020-02-13T07:07:44.100000",
          "x1": "2020-02-13T07:07:45.100000",
          "xref": "x",
          "y0": 6.2,
          "y1": 6.2,
          "yref": "y"
         },
         {
          "line": {
           "color": "red",
           "width": 10
          },
          "type": "line",
          "x0": "2020-02-13T07:07:44.100000",
          "x1": "2020-02-13T07:07:45.100000",
          "xref": "x",
          "y0": 2.2,
          "y1": 2.2,
          "yref": "y"
         },
         {
          "line": {
           "color": "red",
           "width": 10
          },
          "type": "line",
          "x0": "2020-02-13T07:07:44.100000",
          "x1": "2020-02-13T07:07:45.100000",
          "xref": "x",
          "y0": 5.2,
          "y1": 5.2,
          "yref": "y"
         },
         {
          "line": {
           "color": "Green",
           "width": 10
          },
          "type": "line",
          "x0": "2020-02-13T07:07:45.100000",
          "x1": "2020-02-13T07:08:08.600000",
          "xref": "x",
          "y0": 1.2,
          "y1": 1.2,
          "yref": "y"
         },
         {
          "line": {
           "color": "Green",
           "width": 10
          },
          "type": "line",
          "x0": "2020-02-13T07:07:45.100000",
          "x1": "2020-02-13T07:08:08.600000",
          "xref": "x",
          "y0": 6.2,
          "y1": 6.2,
          "yref": "y"
         },
         {
          "line": {
           "color": "yellow",
           "width": 10
          },
          "type": "line",
          "x0": "2020-02-13T07:08:08.600000",
          "x1": "2020-02-13T07:08:11.600000",
          "xref": "x",
          "y0": 1.2,
          "y1": 1.2,
          "yref": "y"
         },
         {
          "line": {
           "color": "yellow",
           "width": 10
          },
          "type": "line",
          "x0": "2020-02-13T07:08:08.600000",
          "x1": "2020-02-13T07:08:11.600000",
          "xref": "x",
          "y0": 6.2,
          "y1": 6.2,
          "yref": "y"
         },
         {
          "line": {
           "color": "yellow",
           "width": 10
          },
          "type": "line",
          "x0": "2020-02-13T07:08:11.600000",
          "x1": "2020-02-13T07:08:14",
          "xref": "x",
          "y0": 6.2,
          "y1": 6.2,
          "yref": "y"
         },
         {
          "line": {
           "color": "red",
           "width": 10
          },
          "type": "line",
          "x0": "2020-02-13T07:08:11.600000",
          "x1": "2020-02-13T07:08:14",
          "xref": "x",
          "y0": 1.2,
          "y1": 1.2,
          "yref": "y"
         },
         {
          "line": {
           "color": "red",
           "width": 10
          },
          "type": "line",
          "x0": "2020-02-13T07:08:14",
          "x1": "2020-02-13T07:08:15",
          "xref": "x",
          "y0": 6.2,
          "y1": 6.2,
          "yref": "y"
         },
         {
          "line": {
           "color": "Green",
           "width": 10
          },
          "type": "line",
          "x0": "2020-02-13T07:08:15",
          "x1": "2020-02-13T07:08:27.100000",
          "xref": "x",
          "y0": 3.2,
          "y1": 3.2,
          "yref": "y"
         },
         {
          "line": {
           "color": "yellow",
           "width": 10
          },
          "type": "line",
          "x0": "2020-02-13T07:08:27.100000",
          "x1": "2020-02-13T07:08:30.100000",
          "xref": "x",
          "y0": 3.2,
          "y1": 3.2,
          "yref": "y"
         },
         {
          "line": {
           "color": "red",
           "width": 10
          },
          "type": "line",
          "x0": "2020-02-13T07:08:30.100000",
          "x1": "2020-02-13T07:08:32.600000",
          "xref": "x",
          "y0": 3.2,
          "y1": 3.2,
          "yref": "y"
         },
         {
          "line": {
           "color": "Green",
           "width": 10
          },
          "type": "line",
          "x0": "2020-02-13T07:08:32.600000",
          "x1": "2020-02-13T07:08:43.500000",
          "xref": "x",
          "y0": 4.2,
          "y1": 4.2,
          "yref": "y"
         },
         {
          "line": {
           "color": "yellow",
           "width": 10
          },
          "type": "line",
          "x0": "2020-02-13T07:08:43.500000",
          "x1": "2020-02-13T07:08:47.100000",
          "xref": "x",
          "y0": 4.2,
          "y1": 4.2,
          "yref": "y"
         },
         {
          "line": {
           "color": "red",
           "width": 10
          },
          "type": "line",
          "x0": "2020-02-13T07:08:47.100000",
          "x1": "2020-02-13T07:08:48.800000",
          "xref": "x",
          "y0": 4.2,
          "y1": 4.2,
          "yref": "y"
         },
         {
          "line": {
           "color": "Green",
           "width": 10
          },
          "type": "line",
          "x0": "2020-02-13T07:08:48.800000",
          "x1": "2020-02-13T07:08:54.700000",
          "xref": "x",
          "y0": 2.2,
          "y1": 2.2,
          "yref": "y"
         },
         {
          "line": {
           "color": "Green",
           "width": 10
          },
          "type": "line",
          "x0": "2020-02-13T07:08:48.800000",
          "x1": "2020-02-13T07:08:54.700000",
          "xref": "x",
          "y0": 5.2,
          "y1": 5.2,
          "yref": "y"
         },
         {
          "line": {
           "color": "Green",
           "width": 10
          },
          "type": "line",
          "x0": "2020-02-13T07:08:54.700000",
          "x1": "2020-02-13T07:08:57.700000",
          "xref": "x",
          "y0": 2.2,
          "y1": 2.2,
          "yref": "y"
         },
         {
          "line": {
           "color": "yellow",
           "width": 10
          },
          "type": "line",
          "x0": "2020-02-13T07:08:54.700000",
          "x1": "2020-02-13T07:08:57.700000",
          "xref": "x",
          "y0": 5.2,
          "y1": 5.2,
          "yref": "y"
         },
         {
          "line": {
           "color": "Green",
           "width": 10
          },
          "type": "line",
          "x0": "2020-02-13T07:08:57.700000",
          "x1": "2020-02-13T07:09:00.200000",
          "xref": "x",
          "y0": 2.2,
          "y1": 2.2,
          "yref": "y"
         },
         {
          "line": {
           "color": "red",
           "width": 10
          },
          "type": "line",
          "x0": "2020-02-13T07:08:57.700000",
          "x1": "2020-02-13T07:09:00.200000",
          "xref": "x",
          "y0": 5.2,
          "y1": 5.2,
          "yref": "y"
         },
         {
          "line": {
           "color": "Green",
           "width": 10
          },
          "type": "line",
          "x0": "2020-02-13T07:09:00.200000",
          "x1": "2020-02-13T07:10:38.700000",
          "xref": "x",
          "y0": 2.2,
          "y1": 2.2,
          "yref": "y"
         },
         {
          "line": {
           "color": "Green",
           "width": 10
          },
          "type": "line",
          "x0": "2020-02-13T07:09:00.200000",
          "x1": "2020-02-13T07:10:38.700000",
          "xref": "x",
          "y0": 6.2,
          "y1": 6.2,
          "yref": "y"
         },
         {
          "line": {
           "color": "limegreen",
           "width": 10
          },
          "type": "line",
          "x0": "2020-02-13T07:09:00.200000",
          "x1": "2020-02-13T07:10:38.700000",
          "xref": "x",
          "y0": 5.2,
          "y1": 5.2,
          "yref": "y"
         },
         {
          "line": {
           "color": "Green",
           "width": 10
          },
          "type": "line",
          "x0": "2020-02-13T07:10:38.700000",
          "x1": "2020-02-13T07:10:44.100000",
          "xref": "x",
          "y0": 6.2,
          "y1": 6.2,
          "yref": "y"
         },
         {
          "line": {
           "color": "yellow",
           "width": 10
          },
          "type": "line",
          "x0": "2020-02-13T07:10:38.700000",
          "x1": "2020-02-13T07:10:44.100000",
          "xref": "x",
          "y0": 2.2,
          "y1": 2.2,
          "yref": "y"
         },
         {
          "line": {
           "color": "yellow",
           "width": 10
          },
          "type": "line",
          "x0": "2020-02-13T07:10:38.700000",
          "x1": "2020-02-13T07:10:44.100000",
          "xref": "x",
          "y0": 5.2,
          "y1": 5.2,
          "yref": "y"
         },
         {
          "line": {
           "color": "Green",
           "width": 10
          },
          "type": "line",
          "x0": "2020-02-13T07:10:44.100000",
          "x1": "2020-02-13T07:10:45.100000",
          "xref": "x",
          "y0": 6.2,
          "y1": 6.2,
          "yref": "y"
         },
         {
          "line": {
           "color": "red",
           "width": 10
          },
          "type": "line",
          "x0": "2020-02-13T07:10:44.100000",
          "x1": "2020-02-13T07:10:45.100000",
          "xref": "x",
          "y0": 2.2,
          "y1": 2.2,
          "yref": "y"
         },
         {
          "line": {
           "color": "red",
           "width": 10
          },
          "type": "line",
          "x0": "2020-02-13T07:10:44.100000",
          "x1": "2020-02-13T07:10:45.100000",
          "xref": "x",
          "y0": 5.2,
          "y1": 5.2,
          "yref": "y"
         },
         {
          "line": {
           "color": "Green",
           "width": 10
          },
          "type": "line",
          "x0": "2020-02-13T07:10:45.100000",
          "x1": "2020-02-13T07:11:08.600000",
          "xref": "x",
          "y0": 1.2,
          "y1": 1.2,
          "yref": "y"
         },
         {
          "line": {
           "color": "Green",
           "width": 10
          },
          "type": "line",
          "x0": "2020-02-13T07:10:45.100000",
          "x1": "2020-02-13T07:11:08.600000",
          "xref": "x",
          "y0": 6.2,
          "y1": 6.2,
          "yref": "y"
         },
         {
          "line": {
           "color": "Green",
           "width": 10
          },
          "type": "line",
          "x0": "2020-02-13T07:11:08.600000",
          "x1": "2020-02-13T07:11:09.600000",
          "xref": "x",
          "y0": 1.2,
          "y1": 1.2,
          "yref": "y"
         },
         {
          "line": {
           "color": "yellow",
           "width": 10
          },
          "type": "line",
          "x0": "2020-02-13T07:11:08.600000",
          "x1": "2020-02-13T07:11:09.600000",
          "xref": "x",
          "y0": 6.2,
          "y1": 6.2,
          "yref": "y"
         },
         {
          "line": {
           "color": "yellow",
           "width": 10
          },
          "type": "line",
          "x0": "2020-02-13T07:11:09.600000",
          "x1": "2020-02-13T07:11:12.600000",
          "xref": "x",
          "y0": 1.2,
          "y1": 1.2,
          "yref": "y"
         },
         {
          "line": {
           "color": "yellow",
           "width": 10
          },
          "type": "line",
          "x0": "2020-02-13T07:11:09.600000",
          "x1": "2020-02-13T07:11:12.600000",
          "xref": "x",
          "y0": 6.2,
          "y1": 6.2,
          "yref": "y"
         },
         {
          "line": {
           "color": "yellow",
           "width": 10
          },
          "type": "line",
          "x0": "2020-02-13T07:11:12.600000",
          "x1": "2020-02-13T07:11:14",
          "xref": "x",
          "y0": 6.2,
          "y1": 6.2,
          "yref": "y"
         },
         {
          "line": {
           "color": "red",
           "width": 10
          },
          "type": "line",
          "x0": "2020-02-13T07:11:12.600000",
          "x1": "2020-02-13T07:11:14",
          "xref": "x",
          "y0": 1.2,
          "y1": 1.2,
          "yref": "y"
         },
         {
          "line": {
           "color": "red",
           "width": 10
          },
          "type": "line",
          "x0": "2020-02-13T07:11:14",
          "x1": "2020-02-13T07:11:15.100000",
          "xref": "x",
          "y0": 6.2,
          "y1": 6.2,
          "yref": "y"
         },
         {
          "line": {
           "color": "Green",
           "width": 10
          },
          "type": "line",
          "x0": "2020-02-13T07:11:15.100000",
          "x1": "2020-02-13T07:11:28.900000",
          "xref": "x",
          "y0": 3.2,
          "y1": 3.2,
          "yref": "y"
         },
         {
          "line": {
           "color": "yellow",
           "width": 10
          },
          "type": "line",
          "x0": "2020-02-13T07:11:28.900000",
          "x1": "2020-02-13T07:11:31.900000",
          "xref": "x",
          "y0": 3.2,
          "y1": 3.2,
          "yref": "y"
         },
         {
          "line": {
           "color": "red",
           "width": 10
          },
          "type": "line",
          "x0": "2020-02-13T07:11:31.900000",
          "x1": "2020-02-13T07:11:34.400000",
          "xref": "x",
          "y0": 3.2,
          "y1": 3.2,
          "yref": "y"
         },
         {
          "line": {
           "color": "Green",
           "width": 10
          },
          "type": "line",
          "x0": "2020-02-13T07:11:34.400000",
          "x1": "2020-02-13T07:11:51.400000",
          "xref": "x",
          "y0": 4.2,
          "y1": 4.2,
          "yref": "y"
         },
         {
          "line": {
           "color": "yellow",
           "width": 10
          },
          "type": "line",
          "x0": "2020-02-13T07:11:51.400000",
          "x1": "2020-02-13T07:11:55",
          "xref": "x",
          "y0": 4.2,
          "y1": 4.2,
          "yref": "y"
         },
         {
          "line": {
           "color": "red",
           "width": 10
          },
          "type": "line",
          "x0": "2020-02-13T07:11:55",
          "x1": "2020-02-13T07:11:56.700000",
          "xref": "x",
          "y0": 4.2,
          "y1": 4.2,
          "yref": "y"
         },
         {
          "line": {
           "color": "Green",
           "width": 10
          },
          "type": "line",
          "x0": "2020-02-13T07:11:56.700000",
          "x1": "2020-02-13T07:13:38.700000",
          "xref": "x",
          "y0": 2.2,
          "y1": 2.2,
          "yref": "y"
         },
         {
          "line": {
           "color": "Green",
           "width": 10
          },
          "type": "line",
          "x0": "2020-02-13T07:11:56.700000",
          "x1": "2020-02-13T07:13:38.700000",
          "xref": "x",
          "y0": 6.2,
          "y1": 6.2,
          "yref": "y"
         },
         {
          "line": {
           "color": "limegreen",
           "width": 10
          },
          "type": "line",
          "x0": "2020-02-13T07:11:56.700000",
          "x1": "2020-02-13T07:13:38.700000",
          "xref": "x",
          "y0": 5.2,
          "y1": 5.2,
          "yref": "y"
         },
         {
          "line": {
           "color": "Green",
           "width": 10
          },
          "type": "line",
          "x0": "2020-02-13T07:13:38.700000",
          "x1": "2020-02-13T07:13:44.100000",
          "xref": "x",
          "y0": 6.2,
          "y1": 6.2,
          "yref": "y"
         },
         {
          "line": {
           "color": "yellow",
           "width": 10
          },
          "type": "line",
          "x0": "2020-02-13T07:13:38.700000",
          "x1": "2020-02-13T07:13:44.100000",
          "xref": "x",
          "y0": 2.2,
          "y1": 2.2,
          "yref": "y"
         },
         {
          "line": {
           "color": "yellow",
           "width": 10
          },
          "type": "line",
          "x0": "2020-02-13T07:13:38.700000",
          "x1": "2020-02-13T07:13:44.100000",
          "xref": "x",
          "y0": 5.2,
          "y1": 5.2,
          "yref": "y"
         },
         {
          "line": {
           "color": "Green",
           "width": 10
          },
          "type": "line",
          "x0": "2020-02-13T07:13:44.100000",
          "x1": "2020-02-13T07:13:45.100000",
          "xref": "x",
          "y0": 6.2,
          "y1": 6.2,
          "yref": "y"
         },
         {
          "line": {
           "color": "red",
           "width": 10
          },
          "type": "line",
          "x0": "2020-02-13T07:13:44.100000",
          "x1": "2020-02-13T07:13:45.100000",
          "xref": "x",
          "y0": 2.2,
          "y1": 2.2,
          "yref": "y"
         },
         {
          "line": {
           "color": "red",
           "width": 10
          },
          "type": "line",
          "x0": "2020-02-13T07:13:44.100000",
          "x1": "2020-02-13T07:13:45.100000",
          "xref": "x",
          "y0": 5.2,
          "y1": 5.2,
          "yref": "y"
         },
         {
          "line": {
           "color": "Green",
           "width": 10
          },
          "type": "line",
          "x0": "2020-02-13T07:13:45.100000",
          "x1": "2020-02-13T07:14:08.600000",
          "xref": "x",
          "y0": 1.2,
          "y1": 1.2,
          "yref": "y"
         },
         {
          "line": {
           "color": "Green",
           "width": 10
          },
          "type": "line",
          "x0": "2020-02-13T07:13:45.100000",
          "x1": "2020-02-13T07:14:08.600000",
          "xref": "x",
          "y0": 6.2,
          "y1": 6.2,
          "yref": "y"
         },
         {
          "line": {
           "color": "yellow",
           "width": 10
          },
          "type": "line",
          "x0": "2020-02-13T07:14:08.600000",
          "x1": "2020-02-13T07:14:11.600000",
          "xref": "x",
          "y0": 1.2,
          "y1": 1.2,
          "yref": "y"
         },
         {
          "line": {
           "color": "yellow",
           "width": 10
          },
          "type": "line",
          "x0": "2020-02-13T07:14:08.600000",
          "x1": "2020-02-13T07:14:11.600000",
          "xref": "x",
          "y0": 6.2,
          "y1": 6.2,
          "yref": "y"
         },
         {
          "line": {
           "color": "yellow",
           "width": 10
          },
          "type": "line",
          "x0": "2020-02-13T07:14:11.600000",
          "x1": "2020-02-13T07:14:14",
          "xref": "x",
          "y0": 6.2,
          "y1": 6.2,
          "yref": "y"
         },
         {
          "line": {
           "color": "red",
           "width": 10
          },
          "type": "line",
          "x0": "2020-02-13T07:14:11.600000",
          "x1": "2020-02-13T07:14:14",
          "xref": "x",
          "y0": 1.2,
          "y1": 1.2,
          "yref": "y"
         },
         {
          "line": {
           "color": "red",
           "width": 10
          },
          "type": "line",
          "x0": "2020-02-13T07:14:14",
          "x1": "2020-02-13T07:14:15",
          "xref": "x",
          "y0": 6.2,
          "y1": 6.2,
          "yref": "y"
         },
         {
          "line": {
           "color": "Green",
           "width": 10
          },
          "type": "line",
          "x0": "2020-02-13T07:14:15",
          "x1": "2020-02-13T07:14:33.500000",
          "xref": "x",
          "y0": 3.2,
          "y1": 3.2,
          "yref": "y"
         },
         {
          "line": {
           "color": "yellow",
           "width": 10
          },
          "type": "line",
          "x0": "2020-02-13T07:14:33.500000",
          "x1": "2020-02-13T07:14:36.500000",
          "xref": "x",
          "y0": 3.2,
          "y1": 3.2,
          "yref": "y"
         },
         {
          "line": {
           "color": "red",
           "width": 10
          },
          "type": "line",
          "x0": "2020-02-13T07:14:36.500000",
          "x1": "2020-02-13T07:14:39",
          "xref": "x",
          "y0": 3.2,
          "y1": 3.2,
          "yref": "y"
         },
         {
          "line": {
           "color": "Green",
           "width": 10
          },
          "type": "line",
          "x0": "2020-02-13T07:14:39",
          "x1": "2020-02-13T07:14:52",
          "xref": "x",
          "y0": 4.2,
          "y1": 4.2,
          "yref": "y"
         },
         {
          "line": {
           "color": "yellow",
           "width": 10
          },
          "type": "line",
          "x0": "2020-02-13T07:14:52",
          "x1": "2020-02-13T07:14:55.600000",
          "xref": "x",
          "y0": 4.2,
          "y1": 4.2,
          "yref": "y"
         },
         {
          "line": {
           "color": "red",
           "width": 10
          },
          "type": "line",
          "x0": "2020-02-13T07:14:55.600000",
          "x1": "2020-02-13T07:14:57.300000",
          "xref": "x",
          "y0": 4.2,
          "y1": 4.2,
          "yref": "y"
         },
         {
          "line": {
           "color": "Green",
           "width": 10
          },
          "type": "line",
          "x0": "2020-02-13T07:14:57.300000",
          "x1": "2020-02-13T07:16:38.700000",
          "xref": "x",
          "y0": 2.2,
          "y1": 2.2,
          "yref": "y"
         },
         {
          "line": {
           "color": "Green",
           "width": 10
          },
          "type": "line",
          "x0": "2020-02-13T07:14:57.300000",
          "x1": "2020-02-13T07:16:38.700000",
          "xref": "x",
          "y0": 6.2,
          "y1": 6.2,
          "yref": "y"
         },
         {
          "line": {
           "color": "limegreen",
           "width": 10
          },
          "type": "line",
          "x0": "2020-02-13T07:14:57.300000",
          "x1": "2020-02-13T07:16:38.700000",
          "xref": "x",
          "y0": 5.2,
          "y1": 5.2,
          "yref": "y"
         },
         {
          "line": {
           "color": "Green",
           "width": 10
          },
          "type": "line",
          "x0": "2020-02-13T07:16:38.700000",
          "x1": "2020-02-13T07:16:44.100000",
          "xref": "x",
          "y0": 6.2,
          "y1": 6.2,
          "yref": "y"
         },
         {
          "line": {
           "color": "yellow",
           "width": 10
          },
          "type": "line",
          "x0": "2020-02-13T07:16:38.700000",
          "x1": "2020-02-13T07:16:44.100000",
          "xref": "x",
          "y0": 2.2,
          "y1": 2.2,
          "yref": "y"
         },
         {
          "line": {
           "color": "yellow",
           "width": 10
          },
          "type": "line",
          "x0": "2020-02-13T07:16:38.700000",
          "x1": "2020-02-13T07:16:44.100000",
          "xref": "x",
          "y0": 5.2,
          "y1": 5.2,
          "yref": "y"
         },
         {
          "line": {
           "color": "Green",
           "width": 10
          },
          "type": "line",
          "x0": "2020-02-13T07:16:44.100000",
          "x1": "2020-02-13T07:16:45.100000",
          "xref": "x",
          "y0": 6.2,
          "y1": 6.2,
          "yref": "y"
         },
         {
          "line": {
           "color": "red",
           "width": 10
          },
          "type": "line",
          "x0": "2020-02-13T07:16:44.100000",
          "x1": "2020-02-13T07:16:45.100000",
          "xref": "x",
          "y0": 2.2,
          "y1": 2.2,
          "yref": "y"
         },
         {
          "line": {
           "color": "red",
           "width": 10
          },
          "type": "line",
          "x0": "2020-02-13T07:16:44.100000",
          "x1": "2020-02-13T07:16:45.100000",
          "xref": "x",
          "y0": 5.2,
          "y1": 5.2,
          "yref": "y"
         },
         {
          "line": {
           "color": "Green",
           "width": 10
          },
          "type": "line",
          "x0": "2020-02-13T07:16:45.100000",
          "x1": "2020-02-13T07:17:08.600000",
          "xref": "x",
          "y0": 1.2,
          "y1": 1.2,
          "yref": "y"
         },
         {
          "line": {
           "color": "Green",
           "width": 10
          },
          "type": "line",
          "x0": "2020-02-13T07:16:45.100000",
          "x1": "2020-02-13T07:17:08.600000",
          "xref": "x",
          "y0": 6.2,
          "y1": 6.2,
          "yref": "y"
         },
         {
          "line": {
           "color": "yellow",
           "width": 10
          },
          "type": "line",
          "x0": "2020-02-13T07:17:08.600000",
          "x1": "2020-02-13T07:17:11.600000",
          "xref": "x",
          "y0": 1.2,
          "y1": 1.2,
          "yref": "y"
         },
         {
          "line": {
           "color": "yellow",
           "width": 10
          },
          "type": "line",
          "x0": "2020-02-13T07:17:08.600000",
          "x1": "2020-02-13T07:17:11.600000",
          "xref": "x",
          "y0": 6.2,
          "y1": 6.2,
          "yref": "y"
         },
         {
          "line": {
           "color": "yellow",
           "width": 10
          },
          "type": "line",
          "x0": "2020-02-13T07:17:11.600000",
          "x1": "2020-02-13T07:17:14",
          "xref": "x",
          "y0": 6.2,
          "y1": 6.2,
          "yref": "y"
         },
         {
          "line": {
           "color": "red",
           "width": 10
          },
          "type": "line",
          "x0": "2020-02-13T07:17:11.600000",
          "x1": "2020-02-13T07:17:14",
          "xref": "x",
          "y0": 1.2,
          "y1": 1.2,
          "yref": "y"
         },
         {
          "line": {
           "color": "red",
           "width": 10
          },
          "type": "line",
          "x0": "2020-02-13T07:17:14",
          "x1": "2020-02-13T07:17:14.900000",
          "xref": "x",
          "y0": 6.2,
          "y1": 6.2,
          "yref": "y"
         },
         {
          "line": {
           "color": "Green",
           "width": 10
          },
          "type": "line",
          "x0": "2020-02-13T07:17:14.900000",
          "x1": "2020-02-13T07:17:32.500000",
          "xref": "x",
          "y0": 3.2,
          "y1": 3.2,
          "yref": "y"
         },
         {
          "line": {
           "color": "yellow",
           "width": 10
          },
          "type": "line",
          "x0": "2020-02-13T07:17:32.500000",
          "x1": "2020-02-13T07:17:35.500000",
          "xref": "x",
          "y0": 3.2,
          "y1": 3.2,
          "yref": "y"
         },
         {
          "line": {
           "color": "red",
           "width": 10
          },
          "type": "line",
          "x0": "2020-02-13T07:17:35.500000",
          "x1": "2020-02-13T07:17:38",
          "xref": "x",
          "y0": 3.2,
          "y1": 3.2,
          "yref": "y"
         },
         {
          "line": {
           "color": "Green",
           "width": 10
          },
          "type": "line",
          "x0": "2020-02-13T07:17:38",
          "x1": "2020-02-13T07:17:53.400000",
          "xref": "x",
          "y0": 4.2,
          "y1": 4.2,
          "yref": "y"
         },
         {
          "line": {
           "color": "yellow",
           "width": 10
          },
          "type": "line",
          "x0": "2020-02-13T07:17:53.400000",
          "x1": "2020-02-13T07:17:57",
          "xref": "x",
          "y0": 4.2,
          "y1": 4.2,
          "yref": "y"
         },
         {
          "line": {
           "color": "red",
           "width": 10
          },
          "type": "line",
          "x0": "2020-02-13T07:17:57",
          "x1": "2020-02-13T07:17:58.700000",
          "xref": "x",
          "y0": 4.2,
          "y1": 4.2,
          "yref": "y"
         },
         {
          "line": {
           "color": "Green",
           "width": 10
          },
          "type": "line",
          "x0": "2020-02-13T07:17:58.700000",
          "x1": "2020-02-13T07:19:38.700000",
          "xref": "x",
          "y0": 2.2,
          "y1": 2.2,
          "yref": "y"
         },
         {
          "line": {
           "color": "Green",
           "width": 10
          },
          "type": "line",
          "x0": "2020-02-13T07:17:58.700000",
          "x1": "2020-02-13T07:19:38.700000",
          "xref": "x",
          "y0": 6.2,
          "y1": 6.2,
          "yref": "y"
         },
         {
          "line": {
           "color": "limegreen",
           "width": 10
          },
          "type": "line",
          "x0": "2020-02-13T07:17:58.700000",
          "x1": "2020-02-13T07:19:38.700000",
          "xref": "x",
          "y0": 5.2,
          "y1": 5.2,
          "yref": "y"
         },
         {
          "line": {
           "color": "Green",
           "width": 10
          },
          "type": "line",
          "x0": "2020-02-13T07:19:38.700000",
          "x1": "2020-02-13T07:19:44.100000",
          "xref": "x",
          "y0": 6.2,
          "y1": 6.2,
          "yref": "y"
         },
         {
          "line": {
           "color": "yellow",
           "width": 10
          },
          "type": "line",
          "x0": "2020-02-13T07:19:38.700000",
          "x1": "2020-02-13T07:19:44.100000",
          "xref": "x",
          "y0": 2.2,
          "y1": 2.2,
          "yref": "y"
         },
         {
          "line": {
           "color": "yellow",
           "width": 10
          },
          "type": "line",
          "x0": "2020-02-13T07:19:38.700000",
          "x1": "2020-02-13T07:19:44.100000",
          "xref": "x",
          "y0": 5.2,
          "y1": 5.2,
          "yref": "y"
         },
         {
          "line": {
           "color": "Green",
           "width": 10
          },
          "type": "line",
          "x0": "2020-02-13T07:19:44.100000",
          "x1": "2020-02-13T07:19:45.100000",
          "xref": "x",
          "y0": 6.2,
          "y1": 6.2,
          "yref": "y"
         },
         {
          "line": {
           "color": "red",
           "width": 10
          },
          "type": "line",
          "x0": "2020-02-13T07:19:44.100000",
          "x1": "2020-02-13T07:19:45.100000",
          "xref": "x",
          "y0": 2.2,
          "y1": 2.2,
          "yref": "y"
         },
         {
          "line": {
           "color": "red",
           "width": 10
          },
          "type": "line",
          "x0": "2020-02-13T07:19:44.100000",
          "x1": "2020-02-13T07:19:45.100000",
          "xref": "x",
          "y0": 5.2,
          "y1": 5.2,
          "yref": "y"
         },
         {
          "line": {
           "color": "Green",
           "width": 10
          },
          "type": "line",
          "x0": "2020-02-13T07:19:45.100000",
          "x1": "2020-02-13T07:20:08.700000",
          "xref": "x",
          "y0": 1.2,
          "y1": 1.2,
          "yref": "y"
         },
         {
          "line": {
           "color": "Green",
           "width": 10
          },
          "type": "line",
          "x0": "2020-02-13T07:19:45.100000",
          "x1": "2020-02-13T07:20:08.700000",
          "xref": "x",
          "y0": 6.2,
          "y1": 6.2,
          "yref": "y"
         },
         {
          "line": {
           "color": "green",
           "width": 10
          },
          "type": "line",
          "x0": "2020-02-13T07:02:15.100000",
          "x1": "2020-02-13T07:02:28.200000",
          "xref": "x",
          "y0": 2.8,
          "y1": 2.8,
          "yref": "y"
         },
         {
          "line": {
           "color": "green",
           "width": 10
          },
          "type": "line",
          "x0": "2020-02-13T07:02:33.700000",
          "x1": "2020-02-13T07:02:48.600000",
          "xref": "x",
          "y0": 3.8,
          "y1": 3.8,
          "yref": "y"
         },
         {
          "line": {
           "color": "green",
           "width": 10
          },
          "type": "line",
          "x0": "2020-02-13T07:02:53.900000",
          "x1": "2020-02-13T07:04:51.100000",
          "xref": "x",
          "y0": 1.8,
          "y1": 1.8,
          "yref": "y"
         },
         {
          "line": {
           "color": "green",
           "width": 10
          },
          "type": "line",
          "x0": "2020-02-13T07:02:53.900000",
          "x1": "2020-02-13T07:05:08.600000",
          "xref": "x",
          "y0": 5.8,
          "y1": 5.8,
          "yref": "y"
         },
         {
          "line": {
           "color": "green",
           "width": 10
          },
          "type": "line",
          "x0": "2020-02-13T07:04:57.500000",
          "x1": "2020-02-13T07:05:08.600000",
          "xref": "x",
          "y0": 0.8,
          "y1": 0.8,
          "yref": "y"
         },
         {
          "line": {
           "color": "green",
           "width": 10
          },
          "type": "line",
          "x0": "2020-02-13T07:04:57.500000",
          "x1": "2020-02-13T07:05:08.600000",
          "xref": "x",
          "y0": 5.8,
          "y1": 5.8,
          "yref": "y"
         },
         {
          "line": {
           "color": "green",
           "width": 10
          },
          "type": "line",
          "x0": "2020-02-13T07:05:15",
          "x1": "2020-02-13T07:05:25.100000",
          "xref": "x",
          "y0": 2.8,
          "y1": 2.8,
          "yref": "y"
         },
         {
          "line": {
           "color": "green",
           "width": 10
          },
          "type": "line",
          "x0": "2020-02-13T07:05:30.600000",
          "x1": "2020-02-13T07:05:36.900000",
          "xref": "x",
          "y0": 3.8,
          "y1": 3.8,
          "yref": "y"
         },
         {
          "line": {
           "color": "green",
           "width": 10
          },
          "type": "line",
          "x0": "2020-02-13T07:05:42.200000",
          "x1": "2020-02-13T07:07:38.800000",
          "xref": "x",
          "y0": 1.8,
          "y1": 1.8,
          "yref": "y"
         },
         {
          "line": {
           "color": "green",
           "width": 10
          },
          "type": "line",
          "x0": "2020-02-13T07:05:42.200000",
          "x1": "2020-02-13T07:08:08.700000",
          "xref": "x",
          "y0": 5.8,
          "y1": 5.8,
          "yref": "y"
         },
         {
          "line": {
           "color": "green",
           "width": 10
          },
          "type": "line",
          "x0": "2020-02-13T07:07:45.200000",
          "x1": "2020-02-13T07:08:08.700000",
          "xref": "x",
          "y0": 0.8,
          "y1": 0.8,
          "yref": "y"
         },
         {
          "line": {
           "color": "green",
           "width": 10
          },
          "type": "line",
          "x0": "2020-02-13T07:07:45.200000",
          "x1": "2020-02-13T07:08:08.700000",
          "xref": "x",
          "y0": 5.8,
          "y1": 5.8,
          "yref": "y"
         },
         {
          "line": {
           "color": "green",
           "width": 10
          },
          "type": "line",
          "x0": "2020-02-13T07:08:15.100000",
          "x1": "2020-02-13T07:08:27.200000",
          "xref": "x",
          "y0": 2.8,
          "y1": 2.8,
          "yref": "y"
         },
         {
          "line": {
           "color": "green",
           "width": 10
          },
          "type": "line",
          "x0": "2020-02-13T07:08:32.700000",
          "x1": "2020-02-13T07:08:43.600000",
          "xref": "x",
          "y0": 3.8,
          "y1": 3.8,
          "yref": "y"
         },
         {
          "line": {
           "color": "green",
           "width": 10
          },
          "type": "line",
          "x0": "2020-02-13T07:08:48.900000",
          "x1": "2020-02-13T07:10:38.800000",
          "xref": "x",
          "y0": 1.8,
          "y1": 1.8,
          "yref": "y"
         },
         {
          "line": {
           "color": "green",
           "width": 10
          },
          "type": "line",
          "x0": "2020-02-13T07:08:48.900000",
          "x1": "2020-02-13T07:08:54.800000",
          "xref": "x",
          "y0": 4.8,
          "y1": 4.8,
          "yref": "y"
         },
         {
          "line": {
           "color": "green",
           "width": 10
          },
          "type": "line",
          "x0": "2020-02-13T07:09:00.300000",
          "x1": "2020-02-13T07:10:38.800000",
          "xref": "x",
          "y0": 1.8,
          "y1": 1.8,
          "yref": "y"
         },
         {
          "line": {
           "color": "green",
           "width": 10
          },
          "type": "line",
          "x0": "2020-02-13T07:09:00.300000",
          "x1": "2020-02-13T07:11:08.700000",
          "xref": "x",
          "y0": 5.8,
          "y1": 5.8,
          "yref": "y"
         },
         {
          "line": {
           "color": "green",
           "width": 10
          },
          "type": "line",
          "x0": "2020-02-13T07:10:45.200000",
          "x1": "2020-02-13T07:11:09.700000",
          "xref": "x",
          "y0": 0.8,
          "y1": 0.8,
          "yref": "y"
         },
         {
          "line": {
           "color": "green",
           "width": 10
          },
          "type": "line",
          "x0": "2020-02-13T07:10:45.200000",
          "x1": "2020-02-13T07:11:08.700000",
          "xref": "x",
          "y0": 5.8,
          "y1": 5.8,
          "yref": "y"
         },
         {
          "line": {
           "color": "green",
           "width": 10
          },
          "type": "line",
          "x0": "2020-02-13T07:11:15.200000",
          "x1": "2020-02-13T07:11:29",
          "xref": "x",
          "y0": 2.8,
          "y1": 2.8,
          "yref": "y"
         },
         {
          "line": {
           "color": "green",
           "width": 10
          },
          "type": "line",
          "x0": "2020-02-13T07:11:34.500000",
          "x1": "2020-02-13T07:11:51.500000",
          "xref": "x",
          "y0": 3.8,
          "y1": 3.8,
          "yref": "y"
         },
         {
          "line": {
           "color": "green",
           "width": 10
          },
          "type": "line",
          "x0": "2020-02-13T07:11:56.800000",
          "x1": "2020-02-13T07:13:38.800000",
          "xref": "x",
          "y0": 1.8,
          "y1": 1.8,
          "yref": "y"
         },
         {
          "line": {
           "color": "green",
           "width": 10
          },
          "type": "line",
          "x0": "2020-02-13T07:11:56.800000",
          "x1": "2020-02-13T07:14:08.700000",
          "xref": "x",
          "y0": 5.8,
          "y1": 5.8,
          "yref": "y"
         },
         {
          "line": {
           "color": "green",
           "width": 10
          },
          "type": "line",
          "x0": "2020-02-13T07:13:45.200000",
          "x1": "2020-02-13T07:14:08.700000",
          "xref": "x",
          "y0": 0.8,
          "y1": 0.8,
          "yref": "y"
         },
         {
          "line": {
           "color": "green",
           "width": 10
          },
          "type": "line",
          "x0": "2020-02-13T07:13:45.200000",
          "x1": "2020-02-13T07:14:08.700000",
          "xref": "x",
          "y0": 5.8,
          "y1": 5.8,
          "yref": "y"
         },
         {
          "line": {
           "color": "green",
           "width": 10
          },
          "type": "line",
          "x0": "2020-02-13T07:14:15.100000",
          "x1": "2020-02-13T07:14:33.600000",
          "xref": "x",
          "y0": 2.8,
          "y1": 2.8,
          "yref": "y"
         },
         {
          "line": {
           "color": "green",
           "width": 10
          },
          "type": "line",
          "x0": "2020-02-13T07:14:39.100000",
          "x1": "2020-02-13T07:14:52.100000",
          "xref": "x",
          "y0": 3.8,
          "y1": 3.8,
          "yref": "y"
         },
         {
          "line": {
           "color": "green",
           "width": 10
          },
          "type": "line",
          "x0": "2020-02-13T07:14:57.400000",
          "x1": "2020-02-13T07:16:38.800000",
          "xref": "x",
          "y0": 1.8,
          "y1": 1.8,
          "yref": "y"
         },
         {
          "line": {
           "color": "green",
           "width": 10
          },
          "type": "line",
          "x0": "2020-02-13T07:14:57.400000",
          "x1": "2020-02-13T07:17:08.700000",
          "xref": "x",
          "y0": 5.8,
          "y1": 5.8,
          "yref": "y"
         },
         {
          "line": {
           "color": "green",
           "width": 10
          },
          "type": "line",
          "x0": "2020-02-13T07:16:45.200000",
          "x1": "2020-02-13T07:17:08.700000",
          "xref": "x",
          "y0": 0.8,
          "y1": 0.8,
          "yref": "y"
         },
         {
          "line": {
           "color": "green",
           "width": 10
          },
          "type": "line",
          "x0": "2020-02-13T07:16:45.200000",
          "x1": "2020-02-13T07:17:08.700000",
          "xref": "x",
          "y0": 5.8,
          "y1": 5.8,
          "yref": "y"
         },
         {
          "line": {
           "color": "green",
           "width": 10
          },
          "type": "line",
          "x0": "2020-02-13T07:17:15.100000",
          "x1": "2020-02-13T07:17:32.600000",
          "xref": "x",
          "y0": 2.8,
          "y1": 2.8,
          "yref": "y"
         },
         {
          "line": {
           "color": "green",
           "width": 10
          },
          "type": "line",
          "x0": "2020-02-13T07:17:38.100000",
          "x1": "2020-02-13T07:17:53.500000",
          "xref": "x",
          "y0": 3.8,
          "y1": 3.8,
          "yref": "y"
         },
         {
          "line": {
           "color": "green",
           "width": 10
          },
          "type": "line",
          "x0": "2020-02-13T07:17:58.800000",
          "x1": "2020-02-13T07:19:38.800000",
          "xref": "x",
          "y0": 1.8,
          "y1": 1.8,
          "yref": "y"
         },
         {
          "line": {
           "color": "green",
           "width": 10
          },
          "type": "line",
          "x0": "2020-02-13T07:17:58.800000",
          "x1": "2020-02-13T07:20:08.700000",
          "xref": "x",
          "y0": 5.8,
          "y1": 5.8,
          "yref": "y"
         },
         {
          "line": {
           "color": "green",
           "width": 10
          },
          "type": "line",
          "x0": "2020-02-13T07:19:45.200000",
          "x1": "2020-02-13T07:20:08.700000",
          "xref": "x",
          "y0": 0.8,
          "y1": 0.8,
          "yref": "y"
         },
         {
          "line": {
           "color": "green",
           "width": 10
          },
          "type": "line",
          "x0": "2020-02-13T07:19:45.200000",
          "x1": "2020-02-13T07:20:08.700000",
          "xref": "x",
          "y0": 5.8,
          "y1": 5.8,
          "yref": "y"
         },
         {
          "line": {
           "color": "yellow",
           "width": 10
          },
          "type": "line",
          "x0": "2020-02-13T07:02:08.800000",
          "x1": "2020-02-13T07:02:14.100000",
          "xref": "x",
          "y0": 1.8,
          "y1": 1.8,
          "yref": "y"
         },
         {
          "line": {
           "color": "yellow",
           "width": 10
          },
          "type": "line",
          "x0": "2020-02-13T07:02:08.800000",
          "x1": "2020-02-13T07:02:14.100000",
          "xref": "x",
          "y0": 5.8,
          "y1": 5.8,
          "yref": "y"
         },
         {
          "line": {
           "color": "yellow",
           "width": 10
          },
          "type": "line",
          "x0": "2020-02-13T07:02:28.200000",
          "x1": "2020-02-13T07:02:31.200000",
          "xref": "x",
          "y0": 2.8,
          "y1": 2.8,
          "yref": "y"
         },
         {
          "line": {
           "color": "yellow",
           "width": 10
          },
          "type": "line",
          "x0": "2020-02-13T07:02:48.600000",
          "x1": "2020-02-13T07:02:52.200000",
          "xref": "x",
          "y0": 3.8,
          "y1": 3.8,
          "yref": "y"
         },
         {
          "line": {
           "color": "yellow",
           "width": 10
          },
          "type": "line",
          "x0": "2020-02-13T07:04:51.100000",
          "x1": "2020-02-13T07:04:56.500000",
          "xref": "x",
          "y0": 1.8,
          "y1": 1.8,
          "yref": "y"
         },
         {
          "line": {
           "color": "yellow",
           "width": 10
          },
          "type": "line",
          "x0": "2020-02-13T07:05:08.600000",
          "x1": "2020-02-13T07:05:11.600000",
          "xref": "x",
          "y0": 0.8,
          "y1": 0.8,
          "yref": "y"
         },
         {
          "line": {
           "color": "yellow",
           "width": 10
          },
          "type": "line",
          "x0": "2020-02-13T07:05:08.600000",
          "x1": "2020-02-13T07:05:14",
          "xref": "x",
          "y0": 5.8,
          "y1": 5.8,
          "yref": "y"
         },
         {
          "line": {
           "color": "yellow",
           "width": 10
          },
          "type": "line",
          "x0": "2020-02-13T07:05:25.100000",
          "x1": "2020-02-13T07:05:28.100000",
          "xref": "x",
          "y0": 2.8,
          "y1": 2.8,
          "yref": "y"
         },
         {
          "line": {
           "color": "yellow",
           "width": 10
          },
          "type": "line",
          "x0": "2020-02-13T07:05:36.900000",
          "x1": "2020-02-13T07:05:40.500000",
          "xref": "x",
          "y0": 3.8,
          "y1": 3.8,
          "yref": "y"
         },
         {
          "line": {
           "color": "yellow",
           "width": 10
          },
          "type": "line",
          "x0": "2020-02-13T07:07:38.800000",
          "x1": "2020-02-13T07:07:44.200000",
          "xref": "x",
          "y0": 1.8,
          "y1": 1.8,
          "yref": "y"
         },
         {
          "line": {
           "color": "yellow",
           "width": 10
          },
          "type": "line",
          "x0": "2020-02-13T07:08:08.700000",
          "x1": "2020-02-13T07:08:11.700000",
          "xref": "x",
          "y0": 0.8,
          "y1": 0.8,
          "yref": "y"
         },
         {
          "line": {
           "color": "yellow",
           "width": 10
          },
          "type": "line",
          "x0": "2020-02-13T07:08:08.700000",
          "x1": "2020-02-13T07:08:14.100000",
          "xref": "x",
          "y0": 5.8,
          "y1": 5.8,
          "yref": "y"
         },
         {
          "line": {
           "color": "yellow",
           "width": 10
          },
          "type": "line",
          "x0": "2020-02-13T07:08:27.200000",
          "x1": "2020-02-13T07:08:30.200000",
          "xref": "x",
          "y0": 2.8,
          "y1": 2.8,
          "yref": "y"
         },
         {
          "line": {
           "color": "yellow",
           "width": 10
          },
          "type": "line",
          "x0": "2020-02-13T07:08:43.600000",
          "x1": "2020-02-13T07:08:47.200000",
          "xref": "x",
          "y0": 3.8,
          "y1": 3.8,
          "yref": "y"
         },
         {
          "line": {
           "color": "yellow",
           "width": 10
          },
          "type": "line",
          "x0": "2020-02-13T07:08:54.800000",
          "x1": "2020-02-13T07:08:57.800000",
          "xref": "x",
          "y0": 4.8,
          "y1": 4.8,
          "yref": "y"
         },
         {
          "line": {
           "color": "yellow",
           "width": 10
          },
          "type": "line",
          "x0": "2020-02-13T07:10:38.800000",
          "x1": "2020-02-13T07:10:44.200000",
          "xref": "x",
          "y0": 1.8,
          "y1": 1.8,
          "yref": "y"
         },
         {
          "line": {
           "color": "yellow",
           "width": 10
          },
          "type": "line",
          "x0": "2020-02-13T07:11:08.700000",
          "x1": "2020-02-13T07:11:14.100000",
          "xref": "x",
          "y0": 5.8,
          "y1": 5.8,
          "yref": "y"
         },
         {
          "line": {
           "color": "yellow",
           "width": 10
          },
          "type": "line",
          "x0": "2020-02-13T07:11:09.700000",
          "x1": "2020-02-13T07:11:12.700000",
          "xref": "x",
          "y0": 0.8,
          "y1": 0.8,
          "yref": "y"
         },
         {
          "line": {
           "color": "yellow",
           "width": 10
          },
          "type": "line",
          "x0": "2020-02-13T07:11:29",
          "x1": "2020-02-13T07:11:32",
          "xref": "x",
          "y0": 2.8,
          "y1": 2.8,
          "yref": "y"
         },
         {
          "line": {
           "color": "yellow",
           "width": 10
          },
          "type": "line",
          "x0": "2020-02-13T07:11:51.500000",
          "x1": "2020-02-13T07:11:55.100000",
          "xref": "x",
          "y0": 3.8,
          "y1": 3.8,
          "yref": "y"
         },
         {
          "line": {
           "color": "yellow",
           "width": 10
          },
          "type": "line",
          "x0": "2020-02-13T07:13:38.800000",
          "x1": "2020-02-13T07:13:44.200000",
          "xref": "x",
          "y0": 1.8,
          "y1": 1.8,
          "yref": "y"
         },
         {
          "line": {
           "color": "yellow",
           "width": 10
          },
          "type": "line",
          "x0": "2020-02-13T07:14:08.700000",
          "x1": "2020-02-13T07:14:11.700000",
          "xref": "x",
          "y0": 0.8,
          "y1": 0.8,
          "yref": "y"
         },
         {
          "line": {
           "color": "yellow",
           "width": 10
          },
          "type": "line",
          "x0": "2020-02-13T07:14:08.700000",
          "x1": "2020-02-13T07:14:14.100000",
          "xref": "x",
          "y0": 5.8,
          "y1": 5.8,
          "yref": "y"
         },
         {
          "line": {
           "color": "yellow",
           "width": 10
          },
          "type": "line",
          "x0": "2020-02-13T07:14:33.600000",
          "x1": "2020-02-13T07:14:36.600000",
          "xref": "x",
          "y0": 2.8,
          "y1": 2.8,
          "yref": "y"
         },
         {
          "line": {
           "color": "yellow",
           "width": 10
          },
          "type": "line",
          "x0": "2020-02-13T07:14:52.100000",
          "x1": "2020-02-13T07:14:55.700000",
          "xref": "x",
          "y0": 3.8,
          "y1": 3.8,
          "yref": "y"
         },
         {
          "line": {
           "color": "yellow",
           "width": 10
          },
          "type": "line",
          "x0": "2020-02-13T07:16:38.800000",
          "x1": "2020-02-13T07:16:44.200000",
          "xref": "x",
          "y0": 1.8,
          "y1": 1.8,
          "yref": "y"
         },
         {
          "line": {
           "color": "yellow",
           "width": 10
          },
          "type": "line",
          "x0": "2020-02-13T07:17:08.700000",
          "x1": "2020-02-13T07:17:11.700000",
          "xref": "x",
          "y0": 0.8,
          "y1": 0.8,
          "yref": "y"
         },
         {
          "line": {
           "color": "yellow",
           "width": 10
          },
          "type": "line",
          "x0": "2020-02-13T07:17:08.700000",
          "x1": "2020-02-13T07:17:14.100000",
          "xref": "x",
          "y0": 5.8,
          "y1": 5.8,
          "yref": "y"
         },
         {
          "line": {
           "color": "yellow",
           "width": 10
          },
          "type": "line",
          "x0": "2020-02-13T07:17:32.600000",
          "x1": "2020-02-13T07:17:35.600000",
          "xref": "x",
          "y0": 2.8,
          "y1": 2.8,
          "yref": "y"
         },
         {
          "line": {
           "color": "yellow",
           "width": 10
          },
          "type": "line",
          "x0": "2020-02-13T07:17:53.500000",
          "x1": "2020-02-13T07:17:57.100000",
          "xref": "x",
          "y0": 3.8,
          "y1": 3.8,
          "yref": "y"
         },
         {
          "line": {
           "color": "yellow",
           "width": 10
          },
          "type": "line",
          "x0": "2020-02-13T07:19:38.800000",
          "x1": "2020-02-13T07:19:44.200000",
          "xref": "x",
          "y0": 1.8,
          "y1": 1.8,
          "yref": "y"
         },
         {
          "line": {
           "color": "red",
           "width": 10
          },
          "type": "line",
          "x0": "2020-02-13T07:02:14.100000",
          "x1": "2020-02-13T07:02:15.100000",
          "xref": "x",
          "y0": 1.8,
          "y1": 1.8,
          "yref": "y"
         },
         {
          "line": {
           "color": "red",
           "width": 10
          },
          "type": "line",
          "x0": "2020-02-13T07:02:14.100000",
          "x1": "2020-02-13T07:02:15.100000",
          "xref": "x",
          "y0": 5.8,
          "y1": 5.8,
          "yref": "y"
         },
         {
          "line": {
           "color": "red",
           "width": 10
          },
          "type": "line",
          "x0": "2020-02-13T07:02:31.200000",
          "x1": "2020-02-13T07:02:33.700000",
          "xref": "x",
          "y0": 2.8,
          "y1": 2.8,
          "yref": "y"
         },
         {
          "line": {
           "color": "red",
           "width": 10
          },
          "type": "line",
          "x0": "2020-02-13T07:02:52.200000",
          "x1": "2020-02-13T07:02:53.900000",
          "xref": "x",
          "y0": 3.8,
          "y1": 3.8,
          "yref": "y"
         },
         {
          "line": {
           "color": "red",
           "width": 10
          },
          "type": "line",
          "x0": "2020-02-13T07:04:56.500000",
          "x1": "2020-02-13T07:04:57.500000",
          "xref": "x",
          "y0": 1.8,
          "y1": 1.8,
          "yref": "y"
         },
         {
          "line": {
           "color": "red",
           "width": 10
          },
          "type": "line",
          "x0": "2020-02-13T07:05:11.600000",
          "x1": "2020-02-13T07:05:15",
          "xref": "x",
          "y0": 0.8,
          "y1": 0.8,
          "yref": "y"
         },
         {
          "line": {
           "color": "red",
           "width": 10
          },
          "type": "line",
          "x0": "2020-02-13T07:05:14",
          "x1": "2020-02-13T07:05:15",
          "xref": "x",
          "y0": 5.8,
          "y1": 5.8,
          "yref": "y"
         },
         {
          "line": {
           "color": "red",
           "width": 10
          },
          "type": "line",
          "x0": "2020-02-13T07:05:28.100000",
          "x1": "2020-02-13T07:05:30.600000",
          "xref": "x",
          "y0": 2.8,
          "y1": 2.8,
          "yref": "y"
         },
         {
          "line": {
           "color": "red",
           "width": 10
          },
          "type": "line",
          "x0": "2020-02-13T07:05:40.500000",
          "x1": "2020-02-13T07:05:42.200000",
          "xref": "x",
          "y0": 3.8,
          "y1": 3.8,
          "yref": "y"
         },
         {
          "line": {
           "color": "red",
           "width": 10
          },
          "type": "line",
          "x0": "2020-02-13T07:07:44.200000",
          "x1": "2020-02-13T07:07:45.200000",
          "xref": "x",
          "y0": 1.8,
          "y1": 1.8,
          "yref": "y"
         },
         {
          "line": {
           "color": "red",
           "width": 10
          },
          "type": "line",
          "x0": "2020-02-13T07:08:11.700000",
          "x1": "2020-02-13T07:08:15.100000",
          "xref": "x",
          "y0": 0.8,
          "y1": 0.8,
          "yref": "y"
         },
         {
          "line": {
           "color": "red",
           "width": 10
          },
          "type": "line",
          "x0": "2020-02-13T07:08:14.100000",
          "x1": "2020-02-13T07:08:15.100000",
          "xref": "x",
          "y0": 5.8,
          "y1": 5.8,
          "yref": "y"
         },
         {
          "line": {
           "color": "red",
           "width": 10
          },
          "type": "line",
          "x0": "2020-02-13T07:08:30.200000",
          "x1": "2020-02-13T07:08:32.700000",
          "xref": "x",
          "y0": 2.8,
          "y1": 2.8,
          "yref": "y"
         },
         {
          "line": {
           "color": "red",
           "width": 10
          },
          "type": "line",
          "x0": "2020-02-13T07:08:47.200000",
          "x1": "2020-02-13T07:08:48.900000",
          "xref": "x",
          "y0": 3.8,
          "y1": 3.8,
          "yref": "y"
         },
         {
          "line": {
           "color": "red",
           "width": 10
          },
          "type": "line",
          "x0": "2020-02-13T07:08:57.800000",
          "x1": "2020-02-13T07:09:00.300000",
          "xref": "x",
          "y0": 4.8,
          "y1": 4.8,
          "yref": "y"
         },
         {
          "line": {
           "color": "red",
           "width": 10
          },
          "type": "line",
          "x0": "2020-02-13T07:10:44.200000",
          "x1": "2020-02-13T07:10:45.200000",
          "xref": "x",
          "y0": 1.8,
          "y1": 1.8,
          "yref": "y"
         },
         {
          "line": {
           "color": "red",
           "width": 10
          },
          "type": "line",
          "x0": "2020-02-13T07:11:12.700000",
          "x1": "2020-02-13T07:11:15.200000",
          "xref": "x",
          "y0": 0.8,
          "y1": 0.8,
          "yref": "y"
         },
         {
          "line": {
           "color": "red",
           "width": 10
          },
          "type": "line",
          "x0": "2020-02-13T07:11:14.100000",
          "x1": "2020-02-13T07:11:15.200000",
          "xref": "x",
          "y0": 5.8,
          "y1": 5.8,
          "yref": "y"
         },
         {
          "line": {
           "color": "red",
           "width": 10
          },
          "type": "line",
          "x0": "2020-02-13T07:11:32",
          "x1": "2020-02-13T07:11:34.500000",
          "xref": "x",
          "y0": 2.8,
          "y1": 2.8,
          "yref": "y"
         },
         {
          "line": {
           "color": "red",
           "width": 10
          },
          "type": "line",
          "x0": "2020-02-13T07:11:55.100000",
          "x1": "2020-02-13T07:11:56.800000",
          "xref": "x",
          "y0": 3.8,
          "y1": 3.8,
          "yref": "y"
         },
         {
          "line": {
           "color": "red",
           "width": 10
          },
          "type": "line",
          "x0": "2020-02-13T07:13:44.200000",
          "x1": "2020-02-13T07:13:45.200000",
          "xref": "x",
          "y0": 1.8,
          "y1": 1.8,
          "yref": "y"
         },
         {
          "line": {
           "color": "red",
           "width": 10
          },
          "type": "line",
          "x0": "2020-02-13T07:14:11.700000",
          "x1": "2020-02-13T07:14:15.100000",
          "xref": "x",
          "y0": 0.8,
          "y1": 0.8,
          "yref": "y"
         },
         {
          "line": {
           "color": "red",
           "width": 10
          },
          "type": "line",
          "x0": "2020-02-13T07:14:14.100000",
          "x1": "2020-02-13T07:14:15.100000",
          "xref": "x",
          "y0": 5.8,
          "y1": 5.8,
          "yref": "y"
         },
         {
          "line": {
           "color": "red",
           "width": 10
          },
          "type": "line",
          "x0": "2020-02-13T07:14:36.600000",
          "x1": "2020-02-13T07:14:39.100000",
          "xref": "x",
          "y0": 2.8,
          "y1": 2.8,
          "yref": "y"
         },
         {
          "line": {
           "color": "red",
           "width": 10
          },
          "type": "line",
          "x0": "2020-02-13T07:14:55.700000",
          "x1": "2020-02-13T07:14:57.400000",
          "xref": "x",
          "y0": 3.8,
          "y1": 3.8,
          "yref": "y"
         },
         {
          "line": {
           "color": "red",
           "width": 10
          },
          "type": "line",
          "x0": "2020-02-13T07:16:44.200000",
          "x1": "2020-02-13T07:16:45.200000",
          "xref": "x",
          "y0": 1.8,
          "y1": 1.8,
          "yref": "y"
         },
         {
          "line": {
           "color": "red",
           "width": 10
          },
          "type": "line",
          "x0": "2020-02-13T07:17:11.700000",
          "x1": "2020-02-13T07:17:15.100000",
          "xref": "x",
          "y0": 0.8,
          "y1": 0.8,
          "yref": "y"
         },
         {
          "line": {
           "color": "red",
           "width": 10
          },
          "type": "line",
          "x0": "2020-02-13T07:17:14.100000",
          "x1": "2020-02-13T07:17:15.100000",
          "xref": "x",
          "y0": 5.8,
          "y1": 5.8,
          "yref": "y"
         },
         {
          "line": {
           "color": "red",
           "width": 10
          },
          "type": "line",
          "x0": "2020-02-13T07:17:35.600000",
          "x1": "2020-02-13T07:17:38.100000",
          "xref": "x",
          "y0": 2.8,
          "y1": 2.8,
          "yref": "y"
         },
         {
          "line": {
           "color": "red",
           "width": 10
          },
          "type": "line",
          "x0": "2020-02-13T07:17:57.100000",
          "x1": "2020-02-13T07:17:58.800000",
          "xref": "x",
          "y0": 3.8,
          "y1": 3.8,
          "yref": "y"
         },
         {
          "line": {
           "color": "red",
           "width": 10
          },
          "type": "line",
          "x0": "2020-02-13T07:19:44.200000",
          "x1": "2020-02-13T07:19:45.200000",
          "xref": "x",
          "y0": 1.8,
          "y1": 1.8,
          "yref": "y"
         }
        ],
        "template": {
         "data": {
          "bar": [
           {
            "error_x": {
             "color": "#2a3f5f"
            },
            "error_y": {
             "color": "#2a3f5f"
            },
            "marker": {
             "line": {
              "color": "#E5ECF6",
              "width": 0.5
             }
            },
            "type": "bar"
           }
          ],
          "barpolar": [
           {
            "marker": {
             "line": {
              "color": "#E5ECF6",
              "width": 0.5
             }
            },
            "type": "barpolar"
           }
          ],
          "carpet": [
           {
            "aaxis": {
             "endlinecolor": "#2a3f5f",
             "gridcolor": "white",
             "linecolor": "white",
             "minorgridcolor": "white",
             "startlinecolor": "#2a3f5f"
            },
            "baxis": {
             "endlinecolor": "#2a3f5f",
             "gridcolor": "white",
             "linecolor": "white",
             "minorgridcolor": "white",
             "startlinecolor": "#2a3f5f"
            },
            "type": "carpet"
           }
          ],
          "choropleth": [
           {
            "colorbar": {
             "outlinewidth": 0,
             "ticks": ""
            },
            "type": "choropleth"
           }
          ],
          "contour": [
           {
            "colorbar": {
             "outlinewidth": 0,
             "ticks": ""
            },
            "colorscale": [
             [
              0,
              "#0d0887"
             ],
             [
              0.1111111111111111,
              "#46039f"
             ],
             [
              0.2222222222222222,
              "#7201a8"
             ],
             [
              0.3333333333333333,
              "#9c179e"
             ],
             [
              0.4444444444444444,
              "#bd3786"
             ],
             [
              0.5555555555555556,
              "#d8576b"
             ],
             [
              0.6666666666666666,
              "#ed7953"
             ],
             [
              0.7777777777777778,
              "#fb9f3a"
             ],
             [
              0.8888888888888888,
              "#fdca26"
             ],
             [
              1,
              "#f0f921"
             ]
            ],
            "type": "contour"
           }
          ],
          "contourcarpet": [
           {
            "colorbar": {
             "outlinewidth": 0,
             "ticks": ""
            },
            "type": "contourcarpet"
           }
          ],
          "heatmap": [
           {
            "colorbar": {
             "outlinewidth": 0,
             "ticks": ""
            },
            "colorscale": [
             [
              0,
              "#0d0887"
             ],
             [
              0.1111111111111111,
              "#46039f"
             ],
             [
              0.2222222222222222,
              "#7201a8"
             ],
             [
              0.3333333333333333,
              "#9c179e"
             ],
             [
              0.4444444444444444,
              "#bd3786"
             ],
             [
              0.5555555555555556,
              "#d8576b"
             ],
             [
              0.6666666666666666,
              "#ed7953"
             ],
             [
              0.7777777777777778,
              "#fb9f3a"
             ],
             [
              0.8888888888888888,
              "#fdca26"
             ],
             [
              1,
              "#f0f921"
             ]
            ],
            "type": "heatmap"
           }
          ],
          "heatmapgl": [
           {
            "colorbar": {
             "outlinewidth": 0,
             "ticks": ""
            },
            "colorscale": [
             [
              0,
              "#0d0887"
             ],
             [
              0.1111111111111111,
              "#46039f"
             ],
             [
              0.2222222222222222,
              "#7201a8"
             ],
             [
              0.3333333333333333,
              "#9c179e"
             ],
             [
              0.4444444444444444,
              "#bd3786"
             ],
             [
              0.5555555555555556,
              "#d8576b"
             ],
             [
              0.6666666666666666,
              "#ed7953"
             ],
             [
              0.7777777777777778,
              "#fb9f3a"
             ],
             [
              0.8888888888888888,
              "#fdca26"
             ],
             [
              1,
              "#f0f921"
             ]
            ],
            "type": "heatmapgl"
           }
          ],
          "histogram": [
           {
            "marker": {
             "colorbar": {
              "outlinewidth": 0,
              "ticks": ""
             }
            },
            "type": "histogram"
           }
          ],
          "histogram2d": [
           {
            "colorbar": {
             "outlinewidth": 0,
             "ticks": ""
            },
            "colorscale": [
             [
              0,
              "#0d0887"
             ],
             [
              0.1111111111111111,
              "#46039f"
             ],
             [
              0.2222222222222222,
              "#7201a8"
             ],
             [
              0.3333333333333333,
              "#9c179e"
             ],
             [
              0.4444444444444444,
              "#bd3786"
             ],
             [
              0.5555555555555556,
              "#d8576b"
             ],
             [
              0.6666666666666666,
              "#ed7953"
             ],
             [
              0.7777777777777778,
              "#fb9f3a"
             ],
             [
              0.8888888888888888,
              "#fdca26"
             ],
             [
              1,
              "#f0f921"
             ]
            ],
            "type": "histogram2d"
           }
          ],
          "histogram2dcontour": [
           {
            "colorbar": {
             "outlinewidth": 0,
             "ticks": ""
            },
            "colorscale": [
             [
              0,
              "#0d0887"
             ],
             [
              0.1111111111111111,
              "#46039f"
             ],
             [
              0.2222222222222222,
              "#7201a8"
             ],
             [
              0.3333333333333333,
              "#9c179e"
             ],
             [
              0.4444444444444444,
              "#bd3786"
             ],
             [
              0.5555555555555556,
              "#d8576b"
             ],
             [
              0.6666666666666666,
              "#ed7953"
             ],
             [
              0.7777777777777778,
              "#fb9f3a"
             ],
             [
              0.8888888888888888,
              "#fdca26"
             ],
             [
              1,
              "#f0f921"
             ]
            ],
            "type": "histogram2dcontour"
           }
          ],
          "mesh3d": [
           {
            "colorbar": {
             "outlinewidth": 0,
             "ticks": ""
            },
            "type": "mesh3d"
           }
          ],
          "parcoords": [
           {
            "line": {
             "colorbar": {
              "outlinewidth": 0,
              "ticks": ""
             }
            },
            "type": "parcoords"
           }
          ],
          "pie": [
           {
            "automargin": true,
            "type": "pie"
           }
          ],
          "scatter": [
           {
            "marker": {
             "colorbar": {
              "outlinewidth": 0,
              "ticks": ""
             }
            },
            "type": "scatter"
           }
          ],
          "scatter3d": [
           {
            "line": {
             "colorbar": {
              "outlinewidth": 0,
              "ticks": ""
             }
            },
            "marker": {
             "colorbar": {
              "outlinewidth": 0,
              "ticks": ""
             }
            },
            "type": "scatter3d"
           }
          ],
          "scattercarpet": [
           {
            "marker": {
             "colorbar": {
              "outlinewidth": 0,
              "ticks": ""
             }
            },
            "type": "scattercarpet"
           }
          ],
          "scattergeo": [
           {
            "marker": {
             "colorbar": {
              "outlinewidth": 0,
              "ticks": ""
             }
            },
            "type": "scattergeo"
           }
          ],
          "scattergl": [
           {
            "marker": {
             "colorbar": {
              "outlinewidth": 0,
              "ticks": ""
             }
            },
            "type": "scattergl"
           }
          ],
          "scattermapbox": [
           {
            "marker": {
             "colorbar": {
              "outlinewidth": 0,
              "ticks": ""
             }
            },
            "type": "scattermapbox"
           }
          ],
          "scatterpolar": [
           {
            "marker": {
             "colorbar": {
              "outlinewidth": 0,
              "ticks": ""
             }
            },
            "type": "scatterpolar"
           }
          ],
          "scatterpolargl": [
           {
            "marker": {
             "colorbar": {
              "outlinewidth": 0,
              "ticks": ""
             }
            },
            "type": "scatterpolargl"
           }
          ],
          "scatterternary": [
           {
            "marker": {
             "colorbar": {
              "outlinewidth": 0,
              "ticks": ""
             }
            },
            "type": "scatterternary"
           }
          ],
          "surface": [
           {
            "colorbar": {
             "outlinewidth": 0,
             "ticks": ""
            },
            "colorscale": [
             [
              0,
              "#0d0887"
             ],
             [
              0.1111111111111111,
              "#46039f"
             ],
             [
              0.2222222222222222,
              "#7201a8"
             ],
             [
              0.3333333333333333,
              "#9c179e"
             ],
             [
              0.4444444444444444,
              "#bd3786"
             ],
             [
              0.5555555555555556,
              "#d8576b"
             ],
             [
              0.6666666666666666,
              "#ed7953"
             ],
             [
              0.7777777777777778,
              "#fb9f3a"
             ],
             [
              0.8888888888888888,
              "#fdca26"
             ],
             [
              1,
              "#f0f921"
             ]
            ],
            "type": "surface"
           }
          ],
          "table": [
           {
            "cells": {
             "fill": {
              "color": "#EBF0F8"
             },
             "line": {
              "color": "white"
             }
            },
            "header": {
             "fill": {
              "color": "#C8D4E3"
             },
             "line": {
              "color": "white"
             }
            },
            "type": "table"
           }
          ]
         },
         "layout": {
          "annotationdefaults": {
           "arrowcolor": "#2a3f5f",
           "arrowhead": 0,
           "arrowwidth": 1
          },
          "coloraxis": {
           "colorbar": {
            "outlinewidth": 0,
            "ticks": ""
           }
          },
          "colorscale": {
           "diverging": [
            [
             0,
             "#8e0152"
            ],
            [
             0.1,
             "#c51b7d"
            ],
            [
             0.2,
             "#de77ae"
            ],
            [
             0.3,
             "#f1b6da"
            ],
            [
             0.4,
             "#fde0ef"
            ],
            [
             0.5,
             "#f7f7f7"
            ],
            [
             0.6,
             "#e6f5d0"
            ],
            [
             0.7,
             "#b8e186"
            ],
            [
             0.8,
             "#7fbc41"
            ],
            [
             0.9,
             "#4d9221"
            ],
            [
             1,
             "#276419"
            ]
           ],
           "sequential": [
            [
             0,
             "#0d0887"
            ],
            [
             0.1111111111111111,
             "#46039f"
            ],
            [
             0.2222222222222222,
             "#7201a8"
            ],
            [
             0.3333333333333333,
             "#9c179e"
            ],
            [
             0.4444444444444444,
             "#bd3786"
            ],
            [
             0.5555555555555556,
             "#d8576b"
            ],
            [
             0.6666666666666666,
             "#ed7953"
            ],
            [
             0.7777777777777778,
             "#fb9f3a"
            ],
            [
             0.8888888888888888,
             "#fdca26"
            ],
            [
             1,
             "#f0f921"
            ]
           ],
           "sequentialminus": [
            [
             0,
             "#0d0887"
            ],
            [
             0.1111111111111111,
             "#46039f"
            ],
            [
             0.2222222222222222,
             "#7201a8"
            ],
            [
             0.3333333333333333,
             "#9c179e"
            ],
            [
             0.4444444444444444,
             "#bd3786"
            ],
            [
             0.5555555555555556,
             "#d8576b"
            ],
            [
             0.6666666666666666,
             "#ed7953"
            ],
            [
             0.7777777777777778,
             "#fb9f3a"
            ],
            [
             0.8888888888888888,
             "#fdca26"
            ],
            [
             1,
             "#f0f921"
            ]
           ]
          },
          "colorway": [
           "#636efa",
           "#EF553B",
           "#00cc96",
           "#ab63fa",
           "#FFA15A",
           "#19d3f3",
           "#FF6692",
           "#B6E880",
           "#FF97FF",
           "#FECB52"
          ],
          "font": {
           "color": "#2a3f5f"
          },
          "geo": {
           "bgcolor": "white",
           "lakecolor": "white",
           "landcolor": "#E5ECF6",
           "showlakes": true,
           "showland": true,
           "subunitcolor": "white"
          },
          "hoverlabel": {
           "align": "left"
          },
          "hovermode": "closest",
          "mapbox": {
           "style": "light"
          },
          "paper_bgcolor": "white",
          "plot_bgcolor": "#E5ECF6",
          "polar": {
           "angularaxis": {
            "gridcolor": "white",
            "linecolor": "white",
            "ticks": ""
           },
           "bgcolor": "#E5ECF6",
           "radialaxis": {
            "gridcolor": "white",
            "linecolor": "white",
            "ticks": ""
           }
          },
          "scene": {
           "xaxis": {
            "backgroundcolor": "#E5ECF6",
            "gridcolor": "white",
            "gridwidth": 2,
            "linecolor": "white",
            "showbackground": true,
            "ticks": "",
            "zerolinecolor": "white"
           },
           "yaxis": {
            "backgroundcolor": "#E5ECF6",
            "gridcolor": "white",
            "gridwidth": 2,
            "linecolor": "white",
            "showbackground": true,
            "ticks": "",
            "zerolinecolor": "white"
           },
           "zaxis": {
            "backgroundcolor": "#E5ECF6",
            "gridcolor": "white",
            "gridwidth": 2,
            "linecolor": "white",
            "showbackground": true,
            "ticks": "",
            "zerolinecolor": "white"
           }
          },
          "shapedefaults": {
           "line": {
            "color": "#2a3f5f"
           }
          },
          "ternary": {
           "aaxis": {
            "gridcolor": "white",
            "linecolor": "white",
            "ticks": ""
           },
           "baxis": {
            "gridcolor": "white",
            "linecolor": "white",
            "ticks": ""
           },
           "bgcolor": "#E5ECF6",
           "caxis": {
            "gridcolor": "white",
            "linecolor": "white",
            "ticks": ""
           }
          },
          "title": {
           "x": 0.05
          },
          "xaxis": {
           "automargin": true,
           "gridcolor": "white",
           "linecolor": "white",
           "ticks": "",
           "title": {
            "standoff": 15
           },
           "zerolinecolor": "white",
           "zerolinewidth": 2
          },
          "yaxis": {
           "automargin": true,
           "gridcolor": "white",
           "linecolor": "white",
           "ticks": "",
           "title": {
            "standoff": 15
           },
           "zerolinecolor": "white",
           "zerolinewidth": 2
          }
         }
        },
        "xaxis": {
         "range": [
          "2020-02-13T07:02:15.100000",
          "2020-02-13T07:19:45.200000"
         ],
         "showspikes": true,
         "type": "date"
        },
        "yaxis": {
         "range": [
          0,
          8
         ]
        }
       }
      },
      "image/png": "[encoded data removed]",
      "text/html": [
       "<div>\n",
       "        \n",
       "        \n",
       "            <div id=\"23527f47-d029-4718-bc84-43ad37c4c999\" class=\"plotly-graph-div\" style=\"height:525px; width:100%;\"></div>\n",
       "            <script type=\"text/javascript\">\n",
       "                require([\"plotly\"], function(Plotly) {\n",
       "                    window.PLOTLYENV=window.PLOTLYENV || {};\n",
       "                    \n",
       "                if (document.getElementById(\"23527f47-d029-4718-bc84-43ad37c4c999\")) {\n",
       "                    Plotly.newPlot(\n",
       "                        '23527f47-d029-4718-bc84-43ad37c4c999',\n",
       "                        [{\"opacity\": 0, \"type\": \"scatter\", \"x\": [\"2020-02-13T07:02:15.100000\", \"2020-02-13T07:19:45.200000\"]}],\n",
       "                        {\"hovermode\": \"closest\", \"shapes\": [{\"line\": {\"color\": \"yellow\", \"width\": 10}, \"type\": \"line\", \"x0\": \"2020-02-13T07:00:11\", \"x1\": \"2020-02-13T07:00:16\", \"xref\": \"x\", \"y0\": 2.2, \"y1\": 2.2, \"yref\": \"y\"}, {\"line\": {\"color\": \"yellow\", \"width\": 10}, \"type\": \"line\", \"x0\": \"2020-02-13T07:00:11\", \"x1\": \"2020-02-13T07:00:16\", \"xref\": \"x\", \"y0\": 6.2, \"y1\": 6.2, \"yref\": \"y\"}, {\"line\": {\"color\": \"Green\", \"width\": 10}, \"type\": \"line\", \"x0\": \"2020-02-13T07:00:16\", \"x1\": \"2020-02-13T07:00:27\", \"xref\": \"x\", \"y0\": 1.2, \"y1\": 1.2, \"yref\": \"y\"}, {\"line\": {\"color\": \"Green\", \"width\": 10}, \"type\": \"line\", \"x0\": \"2020-02-13T07:00:16\", \"x1\": \"2020-02-13T07:00:27\", \"xref\": \"x\", \"y0\": 5.2, \"y1\": 5.2, \"yref\": \"y\"}, {\"line\": {\"color\": \"red\", \"width\": 10}, \"type\": \"line\", \"x0\": \"2020-02-13T07:00:16\", \"x1\": \"2020-02-13T07:00:27\", \"xref\": \"x\", \"y0\": 2.2, \"y1\": 2.2, \"yref\": \"y\"}, {\"line\": {\"color\": \"red\", \"width\": 10}, \"type\": \"line\", \"x0\": \"2020-02-13T07:00:16\", \"x1\": \"2020-02-13T07:00:27\", \"xref\": \"x\", \"y0\": 6.2, \"y1\": 6.2, \"yref\": \"y\"}, {\"line\": {\"color\": \"yellow\", \"width\": 10}, \"type\": \"line\", \"x0\": \"2020-02-13T07:00:27\", \"x1\": \"2020-02-13T07:00:32\", \"xref\": \"x\", \"y0\": 1.2, \"y1\": 1.2, \"yref\": \"y\"}, {\"line\": {\"color\": \"yellow\", \"width\": 10}, \"type\": \"line\", \"x0\": \"2020-02-13T07:00:27\", \"x1\": \"2020-02-13T07:00:32\", \"xref\": \"x\", \"y0\": 5.2, \"y1\": 5.2, \"yref\": \"y\"}, {\"line\": {\"color\": \"Green\", \"width\": 10}, \"type\": \"line\", \"x0\": \"2020-02-13T07:00:32\", \"x1\": \"2020-02-13T07:00:38\", \"xref\": \"x\", \"y0\": 2.2, \"y1\": 2.2, \"yref\": \"y\"}, {\"line\": {\"color\": \"Green\", \"width\": 10}, \"type\": \"line\", \"x0\": \"2020-02-13T07:00:32\", \"x1\": \"2020-02-13T07:00:38\", \"xref\": \"x\", \"y0\": 4.2, \"y1\": 4.2, \"yref\": \"y\"}, {\"line\": {\"color\": \"red\", \"width\": 10}, \"type\": \"line\", \"x0\": \"2020-02-13T07:00:32\", \"x1\": \"2020-02-13T07:00:38\", \"xref\": \"x\", \"y0\": 1.2, \"y1\": 1.2, \"yref\": \"y\"}, {\"line\": {\"color\": \"red\", \"width\": 10}, \"type\": \"line\", \"x0\": \"2020-02-13T07:00:32\", \"x1\": \"2020-02-13T07:00:38\", \"xref\": \"x\", \"y0\": 5.2, \"y1\": 5.2, \"yref\": \"y\"}, {\"line\": {\"color\": \"yellow\", \"width\": 10}, \"type\": \"line\", \"x0\": \"2020-02-13T07:00:38\", \"x1\": \"2020-02-13T07:00:43\", \"xref\": \"x\", \"y0\": 2.2, \"y1\": 2.2, \"yref\": \"y\"}, {\"line\": {\"color\": \"yellow\", \"width\": 10}, \"type\": \"line\", \"x0\": \"2020-02-13T07:00:38\", \"x1\": \"2020-02-13T07:00:43\", \"xref\": \"x\", \"y0\": 4.2, \"y1\": 4.2, \"yref\": \"y\"}, {\"line\": {\"color\": \"Green\", \"width\": 10}, \"type\": \"line\", \"x0\": \"2020-02-13T07:00:43\", \"x1\": \"2020-02-13T07:00:49\", \"xref\": \"x\", \"y0\": 3.2, \"y1\": 3.2, \"yref\": \"y\"}, {\"line\": {\"color\": \"Green\", \"width\": 10}, \"type\": \"line\", \"x0\": \"2020-02-13T07:00:43\", \"x1\": \"2020-02-13T07:00:49\", \"xref\": \"x\", \"y0\": 6.2, \"y1\": 6.2, \"yref\": \"y\"}, {\"line\": {\"color\": \"red\", \"width\": 10}, \"type\": \"line\", \"x0\": \"2020-02-13T07:00:43\", \"x1\": \"2020-02-13T07:00:49\", \"xref\": \"x\", \"y0\": 2.2, \"y1\": 2.2, \"yref\": \"y\"}, {\"line\": {\"color\": \"red\", \"width\": 10}, \"type\": \"line\", \"x0\": \"2020-02-13T07:00:43\", \"x1\": \"2020-02-13T07:00:49\", \"xref\": \"x\", \"y0\": 4.2, \"y1\": 4.2, \"yref\": \"y\"}, {\"line\": {\"color\": \"yellow\", \"width\": 10}, \"type\": \"line\", \"x0\": \"2020-02-13T07:00:49\", \"x1\": \"2020-02-13T07:00:54\", \"xref\": \"x\", \"y0\": 3.2, \"y1\": 3.2, \"yref\": \"y\"}, {\"line\": {\"color\": \"yellow\", \"width\": 10}, \"type\": \"line\", \"x0\": \"2020-02-13T07:00:49\", \"x1\": \"2020-02-13T07:00:54\", \"xref\": \"x\", \"y0\": 6.2, \"y1\": 6.2, \"yref\": \"y\"}, {\"line\": {\"color\": \"Green\", \"width\": 10}, \"type\": \"line\", \"x0\": \"2020-02-13T07:00:54\", \"x1\": \"2020-02-13T07:01:05\", \"xref\": \"x\", \"y0\": 2.2, \"y1\": 2.2, \"yref\": \"y\"}, {\"line\": {\"color\": \"Green\", \"width\": 10}, \"type\": \"line\", \"x0\": \"2020-02-13T07:00:54\", \"x1\": \"2020-02-13T07:01:05\", \"xref\": \"x\", \"y0\": 6.2, \"y1\": 6.2, \"yref\": \"y\"}, {\"line\": {\"color\": \"red\", \"width\": 10}, \"type\": \"line\", \"x0\": \"2020-02-13T07:00:54\", \"x1\": \"2020-02-13T07:01:05\", \"xref\": \"x\", \"y0\": 3.2, \"y1\": 3.2, \"yref\": \"y\"}, {\"line\": {\"color\": \"yellow\", \"width\": 10}, \"type\": \"line\", \"x0\": \"2020-02-13T07:01:05\", \"x1\": \"2020-02-13T07:01:10\", \"xref\": \"x\", \"y0\": 2.2, \"y1\": 2.2, \"yref\": \"y\"}, {\"line\": {\"color\": \"yellow\", \"width\": 10}, \"type\": \"line\", \"x0\": \"2020-02-13T07:01:05\", \"x1\": \"2020-02-13T07:01:10\", \"xref\": \"x\", \"y0\": 6.2, \"y1\": 6.2, \"yref\": \"y\"}, {\"line\": {\"color\": \"Green\", \"width\": 10}, \"type\": \"line\", \"x0\": \"2020-02-13T07:01:10\", \"x1\": \"2020-02-13T07:01:21\", \"xref\": \"x\", \"y0\": 1.2, \"y1\": 1.2, \"yref\": \"y\"}, {\"line\": {\"color\": \"Green\", \"width\": 10}, \"type\": \"line\", \"x0\": \"2020-02-13T07:01:10\", \"x1\": \"2020-02-13T07:01:21\", \"xref\": \"x\", \"y0\": 5.2, \"y1\": 5.2, \"yref\": \"y\"}, {\"line\": {\"color\": \"red\", \"width\": 10}, \"type\": \"line\", \"x0\": \"2020-02-13T07:01:10\", \"x1\": \"2020-02-13T07:01:21\", \"xref\": \"x\", \"y0\": 2.2, \"y1\": 2.2, \"yref\": \"y\"}, {\"line\": {\"color\": \"red\", \"width\": 10}, \"type\": \"line\", \"x0\": \"2020-02-13T07:01:10\", \"x1\": \"2020-02-13T07:01:21\", \"xref\": \"x\", \"y0\": 6.2, \"y1\": 6.2, \"yref\": \"y\"}, {\"line\": {\"color\": \"yellow\", \"width\": 10}, \"type\": \"line\", \"x0\": \"2020-02-13T07:01:21\", \"x1\": \"2020-02-13T07:01:26\", \"xref\": \"x\", \"y0\": 1.2, \"y1\": 1.2, \"yref\": \"y\"}, {\"line\": {\"color\": \"yellow\", \"width\": 10}, \"type\": \"line\", \"x0\": \"2020-02-13T07:01:21\", \"x1\": \"2020-02-13T07:01:26\", \"xref\": \"x\", \"y0\": 5.2, \"y1\": 5.2, \"yref\": \"y\"}, {\"line\": {\"color\": \"Green\", \"width\": 10}, \"type\": \"line\", \"x0\": \"2020-02-13T07:01:26\", \"x1\": \"2020-02-13T07:01:32\", \"xref\": \"x\", \"y0\": 2.2, \"y1\": 2.2, \"yref\": \"y\"}, {\"line\": {\"color\": \"Green\", \"width\": 10}, \"type\": \"line\", \"x0\": \"2020-02-13T07:01:26\", \"x1\": \"2020-02-13T07:01:32\", \"xref\": \"x\", \"y0\": 4.2, \"y1\": 4.2, \"yref\": \"y\"}, {\"line\": {\"color\": \"red\", \"width\": 10}, \"type\": \"line\", \"x0\": \"2020-02-13T07:01:26\", \"x1\": \"2020-02-13T07:01:32\", \"xref\": \"x\", \"y0\": 1.2, \"y1\": 1.2, \"yref\": \"y\"}, {\"line\": {\"color\": \"red\", \"width\": 10}, \"type\": \"line\", \"x0\": \"2020-02-13T07:01:26\", \"x1\": \"2020-02-13T07:01:32\", \"xref\": \"x\", \"y0\": 5.2, \"y1\": 5.2, \"yref\": \"y\"}, {\"line\": {\"color\": \"yellow\", \"width\": 10}, \"type\": \"line\", \"x0\": \"2020-02-13T07:01:32\", \"x1\": \"2020-02-13T07:01:37\", \"xref\": \"x\", \"y0\": 2.2, \"y1\": 2.2, \"yref\": \"y\"}, {\"line\": {\"color\": \"yellow\", \"width\": 10}, \"type\": \"line\", \"x0\": \"2020-02-13T07:01:32\", \"x1\": \"2020-02-13T07:01:37\", \"xref\": \"x\", \"y0\": 4.2, \"y1\": 4.2, \"yref\": \"y\"}, {\"line\": {\"color\": \"Green\", \"width\": 10}, \"type\": \"line\", \"x0\": \"2020-02-13T07:01:37\", \"x1\": \"2020-02-13T07:01:43\", \"xref\": \"x\", \"y0\": 3.2, \"y1\": 3.2, \"yref\": \"y\"}, {\"line\": {\"color\": \"Green\", \"width\": 10}, \"type\": \"line\", \"x0\": \"2020-02-13T07:01:37\", \"x1\": \"2020-02-13T07:01:43\", \"xref\": \"x\", \"y0\": 6.2, \"y1\": 6.2, \"yref\": \"y\"}, {\"line\": {\"color\": \"red\", \"width\": 10}, \"type\": \"line\", \"x0\": \"2020-02-13T07:01:37\", \"x1\": \"2020-02-13T07:01:43\", \"xref\": \"x\", \"y0\": 2.2, \"y1\": 2.2, \"yref\": \"y\"}, {\"line\": {\"color\": \"red\", \"width\": 10}, \"type\": \"line\", \"x0\": \"2020-02-13T07:01:37\", \"x1\": \"2020-02-13T07:01:43\", \"xref\": \"x\", \"y0\": 4.2, \"y1\": 4.2, \"yref\": \"y\"}, {\"line\": {\"color\": \"yellow\", \"width\": 10}, \"type\": \"line\", \"x0\": \"2020-02-13T07:01:43\", \"x1\": \"2020-02-13T07:01:48\", \"xref\": \"x\", \"y0\": 3.2, \"y1\": 3.2, \"yref\": \"y\"}, {\"line\": {\"color\": \"yellow\", \"width\": 10}, \"type\": \"line\", \"x0\": \"2020-02-13T07:01:43\", \"x1\": \"2020-02-13T07:01:48\", \"xref\": \"x\", \"y0\": 6.2, \"y1\": 6.2, \"yref\": \"y\"}, {\"line\": {\"color\": \"Green\", \"width\": 10}, \"type\": \"line\", \"x0\": \"2020-02-13T07:01:48\", \"x1\": \"2020-02-13T07:01:59\", \"xref\": \"x\", \"y0\": 2.2, \"y1\": 2.2, \"yref\": \"y\"}, {\"line\": {\"color\": \"Green\", \"width\": 10}, \"type\": \"line\", \"x0\": \"2020-02-13T07:01:48\", \"x1\": \"2020-02-13T07:01:59\", \"xref\": \"x\", \"y0\": 6.2, \"y1\": 6.2, \"yref\": \"y\"}, {\"line\": {\"color\": \"red\", \"width\": 10}, \"type\": \"line\", \"x0\": \"2020-02-13T07:01:48\", \"x1\": \"2020-02-13T07:01:59\", \"xref\": \"x\", \"y0\": 3.2, \"y1\": 3.2, \"yref\": \"y\"}, {\"line\": {\"color\": \"yellow\", \"width\": 10}, \"type\": \"line\", \"x0\": \"2020-02-13T07:01:59\", \"x1\": \"2020-02-13T07:02:04\", \"xref\": \"x\", \"y0\": 2.2, \"y1\": 2.2, \"yref\": \"y\"}, {\"line\": {\"color\": \"yellow\", \"width\": 10}, \"type\": \"line\", \"x0\": \"2020-02-13T07:01:59\", \"x1\": \"2020-02-13T07:02:04\", \"xref\": \"x\", \"y0\": 6.2, \"y1\": 6.2, \"yref\": \"y\"}, {\"line\": {\"color\": \"Green\", \"width\": 10}, \"type\": \"line\", \"x0\": \"2020-02-13T07:02:04\", \"x1\": \"2020-02-13T07:02:08.800000\", \"xref\": \"x\", \"y0\": 1.2, \"y1\": 1.2, \"yref\": \"y\"}, {\"line\": {\"color\": \"Green\", \"width\": 10}, \"type\": \"line\", \"x0\": \"2020-02-13T07:02:04\", \"x1\": \"2020-02-13T07:02:08.800000\", \"xref\": \"x\", \"y0\": 5.2, \"y1\": 5.2, \"yref\": \"y\"}, {\"line\": {\"color\": \"red\", \"width\": 10}, \"type\": \"line\", \"x0\": \"2020-02-13T07:02:04\", \"x1\": \"2020-02-13T07:02:08.800000\", \"xref\": \"x\", \"y0\": 2.2, \"y1\": 2.2, \"yref\": \"y\"}, {\"line\": {\"color\": \"red\", \"width\": 10}, \"type\": \"line\", \"x0\": \"2020-02-13T07:02:04\", \"x1\": \"2020-02-13T07:02:08.800000\", \"xref\": \"x\", \"y0\": 6.2, \"y1\": 6.2, \"yref\": \"y\"}, {\"line\": {\"color\": \"yellow\", \"width\": 10}, \"type\": \"line\", \"x0\": \"2020-02-13T07:02:08.800000\", \"x1\": \"2020-02-13T07:02:14.100000\", \"xref\": \"x\", \"y0\": 2.2, \"y1\": 2.2, \"yref\": \"y\"}, {\"line\": {\"color\": \"yellow\", \"width\": 10}, \"type\": \"line\", \"x0\": \"2020-02-13T07:02:08.800000\", \"x1\": \"2020-02-13T07:02:14.100000\", \"xref\": \"x\", \"y0\": 5.2, \"y1\": 5.2, \"yref\": \"y\"}, {\"line\": {\"color\": \"yellow\", \"width\": 10}, \"type\": \"line\", \"x0\": \"2020-02-13T07:02:08.800000\", \"x1\": \"2020-02-13T07:02:14.100000\", \"xref\": \"x\", \"y0\": 6.2, \"y1\": 6.2, \"yref\": \"y\"}, {\"line\": {\"color\": \"red\", \"width\": 10}, \"type\": \"line\", \"x0\": \"2020-02-13T07:02:08.800000\", \"x1\": \"2020-02-13T07:02:14.100000\", \"xref\": \"x\", \"y0\": 1.2, \"y1\": 1.2, \"yref\": \"y\"}, {\"line\": {\"color\": \"red\", \"width\": 10}, \"type\": \"line\", \"x0\": \"2020-02-13T07:02:14.100000\", \"x1\": \"2020-02-13T07:02:15.100000\", \"xref\": \"x\", \"y0\": 2.2, \"y1\": 2.2, \"yref\": \"y\"}, {\"line\": {\"color\": \"red\", \"width\": 10}, \"type\": \"line\", \"x0\": \"2020-02-13T07:02:14.100000\", \"x1\": \"2020-02-13T07:02:15.100000\", \"xref\": \"x\", \"y0\": 5.2, \"y1\": 5.2, \"yref\": \"y\"}, {\"line\": {\"color\": \"red\", \"width\": 10}, \"type\": \"line\", \"x0\": \"2020-02-13T07:02:14.100000\", \"x1\": \"2020-02-13T07:02:15.100000\", \"xref\": \"x\", \"y0\": 6.2, \"y1\": 6.2, \"yref\": \"y\"}, {\"line\": {\"color\": \"Green\", \"width\": 10}, \"type\": \"line\", \"x0\": \"2020-02-13T07:02:15.100000\", \"x1\": \"2020-02-13T07:02:28.200000\", \"xref\": \"x\", \"y0\": 3.2, \"y1\": 3.2, \"yref\": \"y\"}, {\"line\": {\"color\": \"yellow\", \"width\": 10}, \"type\": \"line\", \"x0\": \"2020-02-13T07:02:28.200000\", \"x1\": \"2020-02-13T07:02:31.200000\", \"xref\": \"x\", \"y0\": 3.2, \"y1\": 3.2, \"yref\": \"y\"}, {\"line\": {\"color\": \"red\", \"width\": 10}, \"type\": \"line\", \"x0\": \"2020-02-13T07:02:31.200000\", \"x1\": \"2020-02-13T07:02:33.700000\", \"xref\": \"x\", \"y0\": 3.2, \"y1\": 3.2, \"yref\": \"y\"}, {\"line\": {\"color\": \"Green\", \"width\": 10}, \"type\": \"line\", \"x0\": \"2020-02-13T07:02:33.700000\", \"x1\": \"2020-02-13T07:02:48.600000\", \"xref\": \"x\", \"y0\": 4.2, \"y1\": 4.2, \"yref\": \"y\"}, {\"line\": {\"color\": \"yellow\", \"width\": 10}, \"type\": \"line\", \"x0\": \"2020-02-13T07:02:48.600000\", \"x1\": \"2020-02-13T07:02:52.200000\", \"xref\": \"x\", \"y0\": 4.2, \"y1\": 4.2, \"yref\": \"y\"}, {\"line\": {\"color\": \"red\", \"width\": 10}, \"type\": \"line\", \"x0\": \"2020-02-13T07:02:52.200000\", \"x1\": \"2020-02-13T07:02:53.900000\", \"xref\": \"x\", \"y0\": 4.2, \"y1\": 4.2, \"yref\": \"y\"}, {\"line\": {\"color\": \"Green\", \"width\": 10}, \"type\": \"line\", \"x0\": \"2020-02-13T07:02:53.900000\", \"x1\": \"2020-02-13T07:04:51.100000\", \"xref\": \"x\", \"y0\": 2.2, \"y1\": 2.2, \"yref\": \"y\"}, {\"line\": {\"color\": \"Green\", \"width\": 10}, \"type\": \"line\", \"x0\": \"2020-02-13T07:02:53.900000\", \"x1\": \"2020-02-13T07:04:51.100000\", \"xref\": \"x\", \"y0\": 6.2, \"y1\": 6.2, \"yref\": \"y\"}, {\"line\": {\"color\": \"limegreen\", \"width\": 10}, \"type\": \"line\", \"x0\": \"2020-02-13T07:02:53.900000\", \"x1\": \"2020-02-13T07:04:51.100000\", \"xref\": \"x\", \"y0\": 5.2, \"y1\": 5.2, \"yref\": \"y\"}, {\"line\": {\"color\": \"Green\", \"width\": 10}, \"type\": \"line\", \"x0\": \"2020-02-13T07:04:51.100000\", \"x1\": \"2020-02-13T07:04:56.500000\", \"xref\": \"x\", \"y0\": 6.2, \"y1\": 6.2, \"yref\": \"y\"}, {\"line\": {\"color\": \"yellow\", \"width\": 10}, \"type\": \"line\", \"x0\": \"2020-02-13T07:04:51.100000\", \"x1\": \"2020-02-13T07:04:56.500000\", \"xref\": \"x\", \"y0\": 2.2, \"y1\": 2.2, \"yref\": \"y\"}, {\"line\": {\"color\": \"yellow\", \"width\": 10}, \"type\": \"line\", \"x0\": \"2020-02-13T07:04:51.100000\", \"x1\": \"2020-02-13T07:04:56.500000\", \"xref\": \"x\", \"y0\": 5.2, \"y1\": 5.2, \"yref\": \"y\"}, {\"line\": {\"color\": \"Green\", \"width\": 10}, \"type\": \"line\", \"x0\": \"2020-02-13T07:04:56.500000\", \"x1\": \"2020-02-13T07:04:57.500000\", \"xref\": \"x\", \"y0\": 6.2, \"y1\": 6.2, \"yref\": \"y\"}, {\"line\": {\"color\": \"red\", \"width\": 10}, \"type\": \"line\", \"x0\": \"2020-02-13T07:04:56.500000\", \"x1\": \"2020-02-13T07:04:57.500000\", \"xref\": \"x\", \"y0\": 2.2, \"y1\": 2.2, \"yref\": \"y\"}, {\"line\": {\"color\": \"red\", \"width\": 10}, \"type\": \"line\", \"x0\": \"2020-02-13T07:04:56.500000\", \"x1\": \"2020-02-13T07:04:57.500000\", \"xref\": \"x\", \"y0\": 5.2, \"y1\": 5.2, \"yref\": \"y\"}, {\"line\": {\"color\": \"Green\", \"width\": 10}, \"type\": \"line\", \"x0\": \"2020-02-13T07:04:57.500000\", \"x1\": \"2020-02-13T07:05:08.500000\", \"xref\": \"x\", \"y0\": 1.2, \"y1\": 1.2, \"yref\": \"y\"}, {\"line\": {\"color\": \"Green\", \"width\": 10}, \"type\": \"line\", \"x0\": \"2020-02-13T07:04:57.500000\", \"x1\": \"2020-02-13T07:05:08.500000\", \"xref\": \"x\", \"y0\": 6.2, \"y1\": 6.2, \"yref\": \"y\"}, {\"line\": {\"color\": \"yellow\", \"width\": 10}, \"type\": \"line\", \"x0\": \"2020-02-13T07:05:08.500000\", \"x1\": \"2020-02-13T07:05:11.400000\", \"xref\": \"x\", \"y0\": 1.2, \"y1\": 1.2, \"yref\": \"y\"}, {\"line\": {\"color\": \"yellow\", \"width\": 10}, \"type\": \"line\", \"x0\": \"2020-02-13T07:05:08.500000\", \"x1\": \"2020-02-13T07:05:11.400000\", \"xref\": \"x\", \"y0\": 6.2, \"y1\": 6.2, \"yref\": \"y\"}, {\"line\": {\"color\": \"yellow\", \"width\": 10}, \"type\": \"line\", \"x0\": \"2020-02-13T07:05:11.400000\", \"x1\": \"2020-02-13T07:05:13.900000\", \"xref\": \"x\", \"y0\": 6.2, \"y1\": 6.2, \"yref\": \"y\"}, {\"line\": {\"color\": \"red\", \"width\": 10}, \"type\": \"line\", \"x0\": \"2020-02-13T07:05:11.400000\", \"x1\": \"2020-02-13T07:05:13.900000\", \"xref\": \"x\", \"y0\": 1.2, \"y1\": 1.2, \"yref\": \"y\"}, {\"line\": {\"color\": \"red\", \"width\": 10}, \"type\": \"line\", \"x0\": \"2020-02-13T07:05:13.900000\", \"x1\": \"2020-02-13T07:05:14.800000\", \"xref\": \"x\", \"y0\": 6.2, \"y1\": 6.2, \"yref\": \"y\"}, {\"line\": {\"color\": \"Green\", \"width\": 10}, \"type\": \"line\", \"x0\": \"2020-02-13T07:05:14.800000\", \"x1\": \"2020-02-13T07:05:25\", \"xref\": \"x\", \"y0\": 3.2, \"y1\": 3.2, \"yref\": \"y\"}, {\"line\": {\"color\": \"yellow\", \"width\": 10}, \"type\": \"line\", \"x0\": \"2020-02-13T07:05:25\", \"x1\": \"2020-02-13T07:05:28\", \"xref\": \"x\", \"y0\": 3.2, \"y1\": 3.2, \"yref\": \"y\"}, {\"line\": {\"color\": \"red\", \"width\": 10}, \"type\": \"line\", \"x0\": \"2020-02-13T07:05:28\", \"x1\": \"2020-02-13T07:05:30.500000\", \"xref\": \"x\", \"y0\": 3.2, \"y1\": 3.2, \"yref\": \"y\"}, {\"line\": {\"color\": \"Green\", \"width\": 10}, \"type\": \"line\", \"x0\": \"2020-02-13T07:05:30.500000\", \"x1\": \"2020-02-13T07:05:36.800000\", \"xref\": \"x\", \"y0\": 4.2, \"y1\": 4.2, \"yref\": \"y\"}, {\"line\": {\"color\": \"yellow\", \"width\": 10}, \"type\": \"line\", \"x0\": \"2020-02-13T07:05:36.800000\", \"x1\": \"2020-02-13T07:05:40.400000\", \"xref\": \"x\", \"y0\": 4.2, \"y1\": 4.2, \"yref\": \"y\"}, {\"line\": {\"color\": \"red\", \"width\": 10}, \"type\": \"line\", \"x0\": \"2020-02-13T07:05:40.400000\", \"x1\": \"2020-02-13T07:05:42.100000\", \"xref\": \"x\", \"y0\": 4.2, \"y1\": 4.2, \"yref\": \"y\"}, {\"line\": {\"color\": \"Green\", \"width\": 10}, \"type\": \"line\", \"x0\": \"2020-02-13T07:05:42.100000\", \"x1\": \"2020-02-13T07:07:38.700000\", \"xref\": \"x\", \"y0\": 2.2, \"y1\": 2.2, \"yref\": \"y\"}, {\"line\": {\"color\": \"Green\", \"width\": 10}, \"type\": \"line\", \"x0\": \"2020-02-13T07:05:42.100000\", \"x1\": \"2020-02-13T07:07:38.700000\", \"xref\": \"x\", \"y0\": 6.2, \"y1\": 6.2, \"yref\": \"y\"}, {\"line\": {\"color\": \"limegreen\", \"width\": 10}, \"type\": \"line\", \"x0\": \"2020-02-13T07:05:42.100000\", \"x1\": \"2020-02-13T07:07:38.700000\", \"xref\": \"x\", \"y0\": 5.2, \"y1\": 5.2, \"yref\": \"y\"}, {\"line\": {\"color\": \"Green\", \"width\": 10}, \"type\": \"line\", \"x0\": \"2020-02-13T07:07:38.700000\", \"x1\": \"2020-02-13T07:07:44.100000\", \"xref\": \"x\", \"y0\": 6.2, \"y1\": 6.2, \"yref\": \"y\"}, {\"line\": {\"color\": \"yellow\", \"width\": 10}, \"type\": \"line\", \"x0\": \"2020-02-13T07:07:38.700000\", \"x1\": \"2020-02-13T07:07:44.100000\", \"xref\": \"x\", \"y0\": 2.2, \"y1\": 2.2, \"yref\": \"y\"}, {\"line\": {\"color\": \"yellow\", \"width\": 10}, \"type\": \"line\", \"x0\": \"2020-02-13T07:07:38.700000\", \"x1\": \"2020-02-13T07:07:44.100000\", \"xref\": \"x\", \"y0\": 5.2, \"y1\": 5.2, \"yref\": \"y\"}, {\"line\": {\"color\": \"Green\", \"width\": 10}, \"type\": \"line\", \"x0\": \"2020-02-13T07:07:44.100000\", \"x1\": \"2020-02-13T07:07:45.100000\", \"xref\": \"x\", \"y0\": 6.2, \"y1\": 6.2, \"yref\": \"y\"}, {\"line\": {\"color\": \"red\", \"width\": 10}, \"type\": \"line\", \"x0\": \"2020-02-13T07:07:44.100000\", \"x1\": \"2020-02-13T07:07:45.100000\", \"xref\": \"x\", \"y0\": 2.2, \"y1\": 2.2, \"yref\": \"y\"}, {\"line\": {\"color\": \"red\", \"width\": 10}, \"type\": \"line\", \"x0\": \"2020-02-13T07:07:44.100000\", \"x1\": \"2020-02-13T07:07:45.100000\", \"xref\": \"x\", \"y0\": 5.2, \"y1\": 5.2, \"yref\": \"y\"}, {\"line\": {\"color\": \"Green\", \"width\": 10}, \"type\": \"line\", \"x0\": \"2020-02-13T07:07:45.100000\", \"x1\": \"2020-02-13T07:08:08.600000\", \"xref\": \"x\", \"y0\": 1.2, \"y1\": 1.2, \"yref\": \"y\"}, {\"line\": {\"color\": \"Green\", \"width\": 10}, \"type\": \"line\", \"x0\": \"2020-02-13T07:07:45.100000\", \"x1\": \"2020-02-13T07:08:08.600000\", \"xref\": \"x\", \"y0\": 6.2, \"y1\": 6.2, \"yref\": \"y\"}, {\"line\": {\"color\": \"yellow\", \"width\": 10}, \"type\": \"line\", \"x0\": \"2020-02-13T07:08:08.600000\", \"x1\": \"2020-02-13T07:08:11.600000\", \"xref\": \"x\", \"y0\": 1.2, \"y1\": 1.2, \"yref\": \"y\"}, {\"line\": {\"color\": \"yellow\", \"width\": 10}, \"type\": \"line\", \"x0\": \"2020-02-13T07:08:08.600000\", \"x1\": \"2020-02-13T07:08:11.600000\", \"xref\": \"x\", \"y0\": 6.2, \"y1\": 6.2, \"yref\": \"y\"}, {\"line\": {\"color\": \"yellow\", \"width\": 10}, \"type\": \"line\", \"x0\": \"2020-02-13T07:08:11.600000\", \"x1\": \"2020-02-13T07:08:14\", \"xref\": \"x\", \"y0\": 6.2, \"y1\": 6.2, \"yref\": \"y\"}, {\"line\": {\"color\": \"red\", \"width\": 10}, \"type\": \"line\", \"x0\": \"2020-02-13T07:08:11.600000\", \"x1\": \"2020-02-13T07:08:14\", \"xref\": \"x\", \"y0\": 1.2, \"y1\": 1.2, \"yref\": \"y\"}, {\"line\": {\"color\": \"red\", \"width\": 10}, \"type\": \"line\", \"x0\": \"2020-02-13T07:08:14\", \"x1\": \"2020-02-13T07:08:15\", \"xref\": \"x\", \"y0\": 6.2, \"y1\": 6.2, \"yref\": \"y\"}, {\"line\": {\"color\": \"Green\", \"width\": 10}, \"type\": \"line\", \"x0\": \"2020-02-13T07:08:15\", \"x1\": \"2020-02-13T07:08:27.100000\", \"xref\": \"x\", \"y0\": 3.2, \"y1\": 3.2, \"yref\": \"y\"}, {\"line\": {\"color\": \"yellow\", \"width\": 10}, \"type\": \"line\", \"x0\": \"2020-02-13T07:08:27.100000\", \"x1\": \"2020-02-13T07:08:30.100000\", \"xref\": \"x\", \"y0\": 3.2, \"y1\": 3.2, \"yref\": \"y\"}, {\"line\": {\"color\": \"red\", \"width\": 10}, \"type\": \"line\", \"x0\": \"2020-02-13T07:08:30.100000\", \"x1\": \"2020-02-13T07:08:32.600000\", \"xref\": \"x\", \"y0\": 3.2, \"y1\": 3.2, \"yref\": \"y\"}, {\"line\": {\"color\": \"Green\", \"width\": 10}, \"type\": \"line\", \"x0\": \"2020-02-13T07:08:32.600000\", \"x1\": \"2020-02-13T07:08:43.500000\", \"xref\": \"x\", \"y0\": 4.2, \"y1\": 4.2, \"yref\": \"y\"}, {\"line\": {\"color\": \"yellow\", \"width\": 10}, \"type\": \"line\", \"x0\": \"2020-02-13T07:08:43.500000\", \"x1\": \"2020-02-13T07:08:47.100000\", \"xref\": \"x\", \"y0\": 4.2, \"y1\": 4.2, \"yref\": \"y\"}, {\"line\": {\"color\": \"red\", \"width\": 10}, \"type\": \"line\", \"x0\": \"2020-02-13T07:08:47.100000\", \"x1\": \"2020-02-13T07:08:48.800000\", \"xref\": \"x\", \"y0\": 4.2, \"y1\": 4.2, \"yref\": \"y\"}, {\"line\": {\"color\": \"Green\", \"width\": 10}, \"type\": \"line\", \"x0\": \"2020-02-13T07:08:48.800000\", \"x1\": \"2020-02-13T07:08:54.700000\", \"xref\": \"x\", \"y0\": 2.2, \"y1\": 2.2, \"yref\": \"y\"}, {\"line\": {\"color\": \"Green\", \"width\": 10}, \"type\": \"line\", \"x0\": \"2020-02-13T07:08:48.800000\", \"x1\": \"2020-02-13T07:08:54.700000\", \"xref\": \"x\", \"y0\": 5.2, \"y1\": 5.2, \"yref\": \"y\"}, {\"line\": {\"color\": \"Green\", \"width\": 10}, \"type\": \"line\", \"x0\": \"2020-02-13T07:08:54.700000\", \"x1\": \"2020-02-13T07:08:57.700000\", \"xref\": \"x\", \"y0\": 2.2, \"y1\": 2.2, \"yref\": \"y\"}, {\"line\": {\"color\": \"yellow\", \"width\": 10}, \"type\": \"line\", \"x0\": \"2020-02-13T07:08:54.700000\", \"x1\": \"2020-02-13T07:08:57.700000\", \"xref\": \"x\", \"y0\": 5.2, \"y1\": 5.2, \"yref\": \"y\"}, {\"line\": {\"color\": \"Green\", \"width\": 10}, \"type\": \"line\", \"x0\": \"2020-02-13T07:08:57.700000\", \"x1\": \"2020-02-13T07:09:00.200000\", \"xref\": \"x\", \"y0\": 2.2, \"y1\": 2.2, \"yref\": \"y\"}, {\"line\": {\"color\": \"red\", \"width\": 10}, \"type\": \"line\", \"x0\": \"2020-02-13T07:08:57.700000\", \"x1\": \"2020-02-13T07:09:00.200000\", \"xref\": \"x\", \"y0\": 5.2, \"y1\": 5.2, \"yref\": \"y\"}, {\"line\": {\"color\": \"Green\", \"width\": 10}, \"type\": \"line\", \"x0\": \"2020-02-13T07:09:00.200000\", \"x1\": \"2020-02-13T07:10:38.700000\", \"xref\": \"x\", \"y0\": 2.2, \"y1\": 2.2, \"yref\": \"y\"}, {\"line\": {\"color\": \"Green\", \"width\": 10}, \"type\": \"line\", \"x0\": \"2020-02-13T07:09:00.200000\", \"x1\": \"2020-02-13T07:10:38.700000\", \"xref\": \"x\", \"y0\": 6.2, \"y1\": 6.2, \"yref\": \"y\"}, {\"line\": {\"color\": \"limegreen\", \"width\": 10}, \"type\": \"line\", \"x0\": \"2020-02-13T07:09:00.200000\", \"x1\": \"2020-02-13T07:10:38.700000\", \"xref\": \"x\", \"y0\": 5.2, \"y1\": 5.2, \"yref\": \"y\"}, {\"line\": {\"color\": \"Green\", \"width\": 10}, \"type\": \"line\", \"x0\": \"2020-02-13T07:10:38.700000\", \"x1\": \"2020-02-13T07:10:44.100000\", \"xref\": \"x\", \"y0\": 6.2, \"y1\": 6.2, \"yref\": \"y\"}, {\"line\": {\"color\": \"yellow\", \"width\": 10}, \"type\": \"line\", \"x0\": \"2020-02-13T07:10:38.700000\", \"x1\": \"2020-02-13T07:10:44.100000\", \"xref\": \"x\", \"y0\": 2.2, \"y1\": 2.2, \"yref\": \"y\"}, {\"line\": {\"color\": \"yellow\", \"width\": 10}, \"type\": \"line\", \"x0\": \"2020-02-13T07:10:38.700000\", \"x1\": \"2020-02-13T07:10:44.100000\", \"xref\": \"x\", \"y0\": 5.2, \"y1\": 5.2, \"yref\": \"y\"}, {\"line\": {\"color\": \"Green\", \"width\": 10}, \"type\": \"line\", \"x0\": \"2020-02-13T07:10:44.100000\", \"x1\": \"2020-02-13T07:10:45.100000\", \"xref\": \"x\", \"y0\": 6.2, \"y1\": 6.2, \"yref\": \"y\"}, {\"line\": {\"color\": \"red\", \"width\": 10}, \"type\": \"line\", \"x0\": \"2020-02-13T07:10:44.100000\", \"x1\": \"2020-02-13T07:10:45.100000\", \"xref\": \"x\", \"y0\": 2.2, \"y1\": 2.2, \"yref\": \"y\"}, {\"line\": {\"color\": \"red\", \"width\": 10}, \"type\": \"line\", \"x0\": \"2020-02-13T07:10:44.100000\", \"x1\": \"2020-02-13T07:10:45.100000\", \"xref\": \"x\", \"y0\": 5.2, \"y1\": 5.2, \"yref\": \"y\"}, {\"line\": {\"color\": \"Green\", \"width\": 10}, \"type\": \"line\", \"x0\": \"2020-02-13T07:10:45.100000\", \"x1\": \"2020-02-13T07:11:08.600000\", \"xref\": \"x\", \"y0\": 1.2, \"y1\": 1.2, \"yref\": \"y\"}, {\"line\": {\"color\": \"Green\", \"width\": 10}, \"type\": \"line\", \"x0\": \"2020-02-13T07:10:45.100000\", \"x1\": \"2020-02-13T07:11:08.600000\", \"xref\": \"x\", \"y0\": 6.2, \"y1\": 6.2, \"yref\": \"y\"}, {\"line\": {\"color\": \"Green\", \"width\": 10}, \"type\": \"line\", \"x0\": \"2020-02-13T07:11:08.600000\", \"x1\": \"2020-02-13T07:11:09.600000\", \"xref\": \"x\", \"y0\": 1.2, \"y1\": 1.2, \"yref\": \"y\"}, {\"line\": {\"color\": \"yellow\", \"width\": 10}, \"type\": \"line\", \"x0\": \"2020-02-13T07:11:08.600000\", \"x1\": \"2020-02-13T07:11:09.600000\", \"xref\": \"x\", \"y0\": 6.2, \"y1\": 6.2, \"yref\": \"y\"}, {\"line\": {\"color\": \"yellow\", \"width\": 10}, \"type\": \"line\", \"x0\": \"2020-02-13T07:11:09.600000\", \"x1\": \"2020-02-13T07:11:12.600000\", \"xref\": \"x\", \"y0\": 1.2, \"y1\": 1.2, \"yref\": \"y\"}, {\"line\": {\"color\": \"yellow\", \"width\": 10}, \"type\": \"line\", \"x0\": \"2020-02-13T07:11:09.600000\", \"x1\": \"2020-02-13T07:11:12.600000\", \"xref\": \"x\", \"y0\": 6.2, \"y1\": 6.2, \"yref\": \"y\"}, {\"line\": {\"color\": \"yellow\", \"width\": 10}, \"type\": \"line\", \"x0\": \"2020-02-13T07:11:12.600000\", \"x1\": \"2020-02-13T07:11:14\", \"xref\": \"x\", \"y0\": 6.2, \"y1\": 6.2, \"yref\": \"y\"}, {\"line\": {\"color\": \"red\", \"width\": 10}, \"type\": \"line\", \"x0\": \"2020-02-13T07:11:12.600000\", \"x1\": \"2020-02-13T07:11:14\", \"xref\": \"x\", \"y0\": 1.2, \"y1\": 1.2, \"yref\": \"y\"}, {\"line\": {\"color\": \"red\", \"width\": 10}, \"type\": \"line\", \"x0\": \"2020-02-13T07:11:14\", \"x1\": \"2020-02-13T07:11:15.100000\", \"xref\": \"x\", \"y0\": 6.2, \"y1\": 6.2, \"yref\": \"y\"}, {\"line\": {\"color\": \"Green\", \"width\": 10}, \"type\": \"line\", \"x0\": \"2020-02-13T07:11:15.100000\", \"x1\": \"2020-02-13T07:11:28.900000\", \"xref\": \"x\", \"y0\": 3.2, \"y1\": 3.2, \"yref\": \"y\"}, {\"line\": {\"color\": \"yellow\", \"width\": 10}, \"type\": \"line\", \"x0\": \"2020-02-13T07:11:28.900000\", \"x1\": \"2020-02-13T07:11:31.900000\", \"xref\": \"x\", \"y0\": 3.2, \"y1\": 3.2, \"yref\": \"y\"}, {\"line\": {\"color\": \"red\", \"width\": 10}, \"type\": \"line\", \"x0\": \"2020-02-13T07:11:31.900000\", \"x1\": \"2020-02-13T07:11:34.400000\", \"xref\": \"x\", \"y0\": 3.2, \"y1\": 3.2, \"yref\": \"y\"}, {\"line\": {\"color\": \"Green\", \"width\": 10}, \"type\": \"line\", \"x0\": \"2020-02-13T07:11:34.400000\", \"x1\": \"2020-02-13T07:11:51.400000\", \"xref\": \"x\", \"y0\": 4.2, \"y1\": 4.2, \"yref\": \"y\"}, {\"line\": {\"color\": \"yellow\", \"width\": 10}, \"type\": \"line\", \"x0\": \"2020-02-13T07:11:51.400000\", \"x1\": \"2020-02-13T07:11:55\", \"xref\": \"x\", \"y0\": 4.2, \"y1\": 4.2, \"yref\": \"y\"}, {\"line\": {\"color\": \"red\", \"width\": 10}, \"type\": \"line\", \"x0\": \"2020-02-13T07:11:55\", \"x1\": \"2020-02-13T07:11:56.700000\", \"xref\": \"x\", \"y0\": 4.2, \"y1\": 4.2, \"yref\": \"y\"}, {\"line\": {\"color\": \"Green\", \"width\": 10}, \"type\": \"line\", \"x0\": \"2020-02-13T07:11:56.700000\", \"x1\": \"2020-02-13T07:13:38.700000\", \"xref\": \"x\", \"y0\": 2.2, \"y1\": 2.2, \"yref\": \"y\"}, {\"line\": {\"color\": \"Green\", \"width\": 10}, \"type\": \"line\", \"x0\": \"2020-02-13T07:11:56.700000\", \"x1\": \"2020-02-13T07:13:38.700000\", \"xref\": \"x\", \"y0\": 6.2, \"y1\": 6.2, \"yref\": \"y\"}, {\"line\": {\"color\": \"limegreen\", \"width\": 10}, \"type\": \"line\", \"x0\": \"2020-02-13T07:11:56.700000\", \"x1\": \"2020-02-13T07:13:38.700000\", \"xref\": \"x\", \"y0\": 5.2, \"y1\": 5.2, \"yref\": \"y\"}, {\"line\": {\"color\": \"Green\", \"width\": 10}, \"type\": \"line\", \"x0\": \"2020-02-13T07:13:38.700000\", \"x1\": \"2020-02-13T07:13:44.100000\", \"xref\": \"x\", \"y0\": 6.2, \"y1\": 6.2, \"yref\": \"y\"}, {\"line\": {\"color\": \"yellow\", \"width\": 10}, \"type\": \"line\", \"x0\": \"2020-02-13T07:13:38.700000\", \"x1\": \"2020-02-13T07:13:44.100000\", \"xref\": \"x\", \"y0\": 2.2, \"y1\": 2.2, \"yref\": \"y\"}, {\"line\": {\"color\": \"yellow\", \"width\": 10}, \"type\": \"line\", \"x0\": \"2020-02-13T07:13:38.700000\", \"x1\": \"2020-02-13T07:13:44.100000\", \"xref\": \"x\", \"y0\": 5.2, \"y1\": 5.2, \"yref\": \"y\"}, {\"line\": {\"color\": \"Green\", \"width\": 10}, \"type\": \"line\", \"x0\": \"2020-02-13T07:13:44.100000\", \"x1\": \"2020-02-13T07:13:45.100000\", \"xref\": \"x\", \"y0\": 6.2, \"y1\": 6.2, \"yref\": \"y\"}, {\"line\": {\"color\": \"red\", \"width\": 10}, \"type\": \"line\", \"x0\": \"2020-02-13T07:13:44.100000\", \"x1\": \"2020-02-13T07:13:45.100000\", \"xref\": \"x\", \"y0\": 2.2, \"y1\": 2.2, \"yref\": \"y\"}, {\"line\": {\"color\": \"red\", \"width\": 10}, \"type\": \"line\", \"x0\": \"2020-02-13T07:13:44.100000\", \"x1\": \"2020-02-13T07:13:45.100000\", \"xref\": \"x\", \"y0\": 5.2, \"y1\": 5.2, \"yref\": \"y\"}, {\"line\": {\"color\": \"Green\", \"width\": 10}, \"type\": \"line\", \"x0\": \"2020-02-13T07:13:45.100000\", \"x1\": \"2020-02-13T07:14:08.600000\", \"xref\": \"x\", \"y0\": 1.2, \"y1\": 1.2, \"yref\": \"y\"}, {\"line\": {\"color\": \"Green\", \"width\": 10}, \"type\": \"line\", \"x0\": \"2020-02-13T07:13:45.100000\", \"x1\": \"2020-02-13T07:14:08.600000\", \"xref\": \"x\", \"y0\": 6.2, \"y1\": 6.2, \"yref\": \"y\"}, {\"line\": {\"color\": \"yellow\", \"width\": 10}, \"type\": \"line\", \"x0\": \"2020-02-13T07:14:08.600000\", \"x1\": \"2020-02-13T07:14:11.600000\", \"xref\": \"x\", \"y0\": 1.2, \"y1\": 1.2, \"yref\": \"y\"}, {\"line\": {\"color\": \"yellow\", \"width\": 10}, \"type\": \"line\", \"x0\": \"2020-02-13T07:14:08.600000\", \"x1\": \"2020-02-13T07:14:11.600000\", \"xref\": \"x\", \"y0\": 6.2, \"y1\": 6.2, \"yref\": \"y\"}, {\"line\": {\"color\": \"yellow\", \"width\": 10}, \"type\": \"line\", \"x0\": \"2020-02-13T07:14:11.600000\", \"x1\": \"2020-02-13T07:14:14\", \"xref\": \"x\", \"y0\": 6.2, \"y1\": 6.2, \"yref\": \"y\"}, {\"line\": {\"color\": \"red\", \"width\": 10}, \"type\": \"line\", \"x0\": \"2020-02-13T07:14:11.600000\", \"x1\": \"2020-02-13T07:14:14\", \"xref\": \"x\", \"y0\": 1.2, \"y1\": 1.2, \"yref\": \"y\"}, {\"line\": {\"color\": \"red\", \"width\": 10}, \"type\": \"line\", \"x0\": \"2020-02-13T07:14:14\", \"x1\": \"2020-02-13T07:14:15\", \"xref\": \"x\", \"y0\": 6.2, \"y1\": 6.2, \"yref\": \"y\"}, {\"line\": {\"color\": \"Green\", \"width\": 10}, \"type\": \"line\", \"x0\": \"2020-02-13T07:14:15\", \"x1\": \"2020-02-13T07:14:33.500000\", \"xref\": \"x\", \"y0\": 3.2, \"y1\": 3.2, \"yref\": \"y\"}, {\"line\": {\"color\": \"yellow\", \"width\": 10}, \"type\": \"line\", \"x0\": \"2020-02-13T07:14:33.500000\", \"x1\": \"2020-02-13T07:14:36.500000\", \"xref\": \"x\", \"y0\": 3.2, \"y1\": 3.2, \"yref\": \"y\"}, {\"line\": {\"color\": \"red\", \"width\": 10}, \"type\": \"line\", \"x0\": \"2020-02-13T07:14:36.500000\", \"x1\": \"2020-02-13T07:14:39\", \"xref\": \"x\", \"y0\": 3.2, \"y1\": 3.2, \"yref\": \"y\"}, {\"line\": {\"color\": \"Green\", \"width\": 10}, \"type\": \"line\", \"x0\": \"2020-02-13T07:14:39\", \"x1\": \"2020-02-13T07:14:52\", \"xref\": \"x\", \"y0\": 4.2, \"y1\": 4.2, \"yref\": \"y\"}, {\"line\": {\"color\": \"yellow\", \"width\": 10}, \"type\": \"line\", \"x0\": \"2020-02-13T07:14:52\", \"x1\": \"2020-02-13T07:14:55.600000\", \"xref\": \"x\", \"y0\": 4.2, \"y1\": 4.2, \"yref\": \"y\"}, {\"line\": {\"color\": \"red\", \"width\": 10}, \"type\": \"line\", \"x0\": \"2020-02-13T07:14:55.600000\", \"x1\": \"2020-02-13T07:14:57.300000\", \"xref\": \"x\", \"y0\": 4.2, \"y1\": 4.2, \"yref\": \"y\"}, {\"line\": {\"color\": \"Green\", \"width\": 10}, \"type\": \"line\", \"x0\": \"2020-02-13T07:14:57.300000\", \"x1\": \"2020-02-13T07:16:38.700000\", \"xref\": \"x\", \"y0\": 2.2, \"y1\": 2.2, \"yref\": \"y\"}, {\"line\": {\"color\": \"Green\", \"width\": 10}, \"type\": \"line\", \"x0\": \"2020-02-13T07:14:57.300000\", \"x1\": \"2020-02-13T07:16:38.700000\", \"xref\": \"x\", \"y0\": 6.2, \"y1\": 6.2, \"yref\": \"y\"}, {\"line\": {\"color\": \"limegreen\", \"width\": 10}, \"type\": \"line\", \"x0\": \"2020-02-13T07:14:57.300000\", \"x1\": \"2020-02-13T07:16:38.700000\", \"xref\": \"x\", \"y0\": 5.2, \"y1\": 5.2, \"yref\": \"y\"}, {\"line\": {\"color\": \"Green\", \"width\": 10}, \"type\": \"line\", \"x0\": \"2020-02-13T07:16:38.700000\", \"x1\": \"2020-02-13T07:16:44.100000\", \"xref\": \"x\", \"y0\": 6.2, \"y1\": 6.2, \"yref\": \"y\"}, {\"line\": {\"color\": \"yellow\", \"width\": 10}, \"type\": \"line\", \"x0\": \"2020-02-13T07:16:38.700000\", \"x1\": \"2020-02-13T07:16:44.100000\", \"xref\": \"x\", \"y0\": 2.2, \"y1\": 2.2, \"yref\": \"y\"}, {\"line\": {\"color\": \"yellow\", \"width\": 10}, \"type\": \"line\", \"x0\": \"2020-02-13T07:16:38.700000\", \"x1\": \"2020-02-13T07:16:44.100000\", \"xref\": \"x\", \"y0\": 5.2, \"y1\": 5.2, \"yref\": \"y\"}, {\"line\": {\"color\": \"Green\", \"width\": 10}, \"type\": \"line\", \"x0\": \"2020-02-13T07:16:44.100000\", \"x1\": \"2020-02-13T07:16:45.100000\", \"xref\": \"x\", \"y0\": 6.2, \"y1\": 6.2, \"yref\": \"y\"}, {\"line\": {\"color\": \"red\", \"width\": 10}, \"type\": \"line\", \"x0\": \"2020-02-13T07:16:44.100000\", \"x1\": \"2020-02-13T07:16:45.100000\", \"xref\": \"x\", \"y0\": 2.2, \"y1\": 2.2, \"yref\": \"y\"}, {\"line\": {\"color\": \"red\", \"width\": 10}, \"type\": \"line\", \"x0\": \"2020-02-13T07:16:44.100000\", \"x1\": \"2020-02-13T07:16:45.100000\", \"xref\": \"x\", \"y0\": 5.2, \"y1\": 5.2, \"yref\": \"y\"}, {\"line\": {\"color\": \"Green\", \"width\": 10}, \"type\": \"line\", \"x0\": \"2020-02-13T07:16:45.100000\", \"x1\": \"2020-02-13T07:17:08.600000\", \"xref\": \"x\", \"y0\": 1.2, \"y1\": 1.2, \"yref\": \"y\"}, {\"line\": {\"color\": \"Green\", \"width\": 10}, \"type\": \"line\", \"x0\": \"2020-02-13T07:16:45.100000\", \"x1\": \"2020-02-13T07:17:08.600000\", \"xref\": \"x\", \"y0\": 6.2, \"y1\": 6.2, \"yref\": \"y\"}, {\"line\": {\"color\": \"yellow\", \"width\": 10}, \"type\": \"line\", \"x0\": \"2020-02-13T07:17:08.600000\", \"x1\": \"2020-02-13T07:17:11.600000\", \"xref\": \"x\", \"y0\": 1.2, \"y1\": 1.2, \"yref\": \"y\"}, {\"line\": {\"color\": \"yellow\", \"width\": 10}, \"type\": \"line\", \"x0\": \"2020-02-13T07:17:08.600000\", \"x1\": \"2020-02-13T07:17:11.600000\", \"xref\": \"x\", \"y0\": 6.2, \"y1\": 6.2, \"yref\": \"y\"}, {\"line\": {\"color\": \"yellow\", \"width\": 10}, \"type\": \"line\", \"x0\": \"2020-02-13T07:17:11.600000\", \"x1\": \"2020-02-13T07:17:14\", \"xref\": \"x\", \"y0\": 6.2, \"y1\": 6.2, \"yref\": \"y\"}, {\"line\": {\"color\": \"red\", \"width\": 10}, \"type\": \"line\", \"x0\": \"2020-02-13T07:17:11.600000\", \"x1\": \"2020-02-13T07:17:14\", \"xref\": \"x\", \"y0\": 1.2, \"y1\": 1.2, \"yref\": \"y\"}, {\"line\": {\"color\": \"red\", \"width\": 10}, \"type\": \"line\", \"x0\": \"2020-02-13T07:17:14\", \"x1\": \"2020-02-13T07:17:14.900000\", \"xref\": \"x\", \"y0\": 6.2, \"y1\": 6.2, \"yref\": \"y\"}, {\"line\": {\"color\": \"Green\", \"width\": 10}, \"type\": \"line\", \"x0\": \"2020-02-13T07:17:14.900000\", \"x1\": \"2020-02-13T07:17:32.500000\", \"xref\": \"x\", \"y0\": 3.2, \"y1\": 3.2, \"yref\": \"y\"}, {\"line\": {\"color\": \"yellow\", \"width\": 10}, \"type\": \"line\", \"x0\": \"2020-02-13T07:17:32.500000\", \"x1\": \"2020-02-13T07:17:35.500000\", \"xref\": \"x\", \"y0\": 3.2, \"y1\": 3.2, \"yref\": \"y\"}, {\"line\": {\"color\": \"red\", \"width\": 10}, \"type\": \"line\", \"x0\": \"2020-02-13T07:17:35.500000\", \"x1\": \"2020-02-13T07:17:38\", \"xref\": \"x\", \"y0\": 3.2, \"y1\": 3.2, \"yref\": \"y\"}, {\"line\": {\"color\": \"Green\", \"width\": 10}, \"type\": \"line\", \"x0\": \"2020-02-13T07:17:38\", \"x1\": \"2020-02-13T07:17:53.400000\", \"xref\": \"x\", \"y0\": 4.2, \"y1\": 4.2, \"yref\": \"y\"}, {\"line\": {\"color\": \"yellow\", \"width\": 10}, \"type\": \"line\", \"x0\": \"2020-02-13T07:17:53.400000\", \"x1\": \"2020-02-13T07:17:57\", \"xref\": \"x\", \"y0\": 4.2, \"y1\": 4.2, \"yref\": \"y\"}, {\"line\": {\"color\": \"red\", \"width\": 10}, \"type\": \"line\", \"x0\": \"2020-02-13T07:17:57\", \"x1\": \"2020-02-13T07:17:58.700000\", \"xref\": \"x\", \"y0\": 4.2, \"y1\": 4.2, \"yref\": \"y\"}, {\"line\": {\"color\": \"Green\", \"width\": 10}, \"type\": \"line\", \"x0\": \"2020-02-13T07:17:58.700000\", \"x1\": \"2020-02-13T07:19:38.700000\", \"xref\": \"x\", \"y0\": 2.2, \"y1\": 2.2, \"yref\": \"y\"}, {\"line\": {\"color\": \"Green\", \"width\": 10}, \"type\": \"line\", \"x0\": \"2020-02-13T07:17:58.700000\", \"x1\": \"2020-02-13T07:19:38.700000\", \"xref\": \"x\", \"y0\": 6.2, \"y1\": 6.2, \"yref\": \"y\"}, {\"line\": {\"color\": \"limegreen\", \"width\": 10}, \"type\": \"line\", \"x0\": \"2020-02-13T07:17:58.700000\", \"x1\": \"2020-02-13T07:19:38.700000\", \"xref\": \"x\", \"y0\": 5.2, \"y1\": 5.2, \"yref\": \"y\"}, {\"line\": {\"color\": \"Green\", \"width\": 10}, \"type\": \"line\", \"x0\": \"2020-02-13T07:19:38.700000\", \"x1\": \"2020-02-13T07:19:44.100000\", \"xref\": \"x\", \"y0\": 6.2, \"y1\": 6.2, \"yref\": \"y\"}, {\"line\": {\"color\": \"yellow\", \"width\": 10}, \"type\": \"line\", \"x0\": \"2020-02-13T07:19:38.700000\", \"x1\": \"2020-02-13T07:19:44.100000\", \"xref\": \"x\", \"y0\": 2.2, \"y1\": 2.2, \"yref\": \"y\"}, {\"line\": {\"color\": \"yellow\", \"width\": 10}, \"type\": \"line\", \"x0\": \"2020-02-13T07:19:38.700000\", \"x1\": \"2020-02-13T07:19:44.100000\", \"xref\": \"x\", \"y0\": 5.2, \"y1\": 5.2, \"yref\": \"y\"}, {\"line\": {\"color\": \"Green\", \"width\": 10}, \"type\": \"line\", \"x0\": \"2020-02-13T07:19:44.100000\", \"x1\": \"2020-02-13T07:19:45.100000\", \"xref\": \"x\", \"y0\": 6.2, \"y1\": 6.2, \"yref\": \"y\"}, {\"line\": {\"color\": \"red\", \"width\": 10}, \"type\": \"line\", \"x0\": \"2020-02-13T07:19:44.100000\", \"x1\": \"2020-02-13T07:19:45.100000\", \"xref\": \"x\", \"y0\": 2.2, \"y1\": 2.2, \"yref\": \"y\"}, {\"line\": {\"color\": \"red\", \"width\": 10}, \"type\": \"line\", \"x0\": \"2020-02-13T07:19:44.100000\", \"x1\": \"2020-02-13T07:19:45.100000\", \"xref\": \"x\", \"y0\": 5.2, \"y1\": 5.2, \"yref\": \"y\"}, {\"line\": {\"color\": \"Green\", \"width\": 10}, \"type\": \"line\", \"x0\": \"2020-02-13T07:19:45.100000\", \"x1\": \"2020-02-13T07:20:08.700000\", \"xref\": \"x\", \"y0\": 1.2, \"y1\": 1.2, \"yref\": \"y\"}, {\"line\": {\"color\": \"Green\", \"width\": 10}, \"type\": \"line\", \"x0\": \"2020-02-13T07:19:45.100000\", \"x1\": \"2020-02-13T07:20:08.700000\", \"xref\": \"x\", \"y0\": 6.2, \"y1\": 6.2, \"yref\": \"y\"}, {\"line\": {\"color\": \"green\", \"width\": 10}, \"type\": \"line\", \"x0\": \"2020-02-13T07:02:15.100000\", \"x1\": \"2020-02-13T07:02:28.200000\", \"xref\": \"x\", \"y0\": 2.8, \"y1\": 2.8, \"yref\": \"y\"}, {\"line\": {\"color\": \"green\", \"width\": 10}, \"type\": \"line\", \"x0\": \"2020-02-13T07:02:33.700000\", \"x1\": \"2020-02-13T07:02:48.600000\", \"xref\": \"x\", \"y0\": 3.8, \"y1\": 3.8, \"yref\": \"y\"}, {\"line\": {\"color\": \"green\", \"width\": 10}, \"type\": \"line\", \"x0\": \"2020-02-13T07:02:53.900000\", \"x1\": \"2020-02-13T07:04:51.100000\", \"xref\": \"x\", \"y0\": 1.8, \"y1\": 1.8, \"yref\": \"y\"}, {\"line\": {\"color\": \"green\", \"width\": 10}, \"type\": \"line\", \"x0\": \"2020-02-13T07:02:53.900000\", \"x1\": \"2020-02-13T07:05:08.600000\", \"xref\": \"x\", \"y0\": 5.8, \"y1\": 5.8, \"yref\": \"y\"}, {\"line\": {\"color\": \"green\", \"width\": 10}, \"type\": \"line\", \"x0\": \"2020-02-13T07:04:57.500000\", \"x1\": \"2020-02-13T07:05:08.600000\", \"xref\": \"x\", \"y0\": 0.8, \"y1\": 0.8, \"yref\": \"y\"}, {\"line\": {\"color\": \"green\", \"width\": 10}, \"type\": \"line\", \"x0\": \"2020-02-13T07:04:57.500000\", \"x1\": \"2020-02-13T07:05:08.600000\", \"xref\": \"x\", \"y0\": 5.8, \"y1\": 5.8, \"yref\": \"y\"}, {\"line\": {\"color\": \"green\", \"width\": 10}, \"type\": \"line\", \"x0\": \"2020-02-13T07:05:15\", \"x1\": \"2020-02-13T07:05:25.100000\", \"xref\": \"x\", \"y0\": 2.8, \"y1\": 2.8, \"yref\": \"y\"}, {\"line\": {\"color\": \"green\", \"width\": 10}, \"type\": \"line\", \"x0\": \"2020-02-13T07:05:30.600000\", \"x1\": \"2020-02-13T07:05:36.900000\", \"xref\": \"x\", \"y0\": 3.8, \"y1\": 3.8, \"yref\": \"y\"}, {\"line\": {\"color\": \"green\", \"width\": 10}, \"type\": \"line\", \"x0\": \"2020-02-13T07:05:42.200000\", \"x1\": \"2020-02-13T07:07:38.800000\", \"xref\": \"x\", \"y0\": 1.8, \"y1\": 1.8, \"yref\": \"y\"}, {\"line\": {\"color\": \"green\", \"width\": 10}, \"type\": \"line\", \"x0\": \"2020-02-13T07:05:42.200000\", \"x1\": \"2020-02-13T07:08:08.700000\", \"xref\": \"x\", \"y0\": 5.8, \"y1\": 5.8, \"yref\": \"y\"}, {\"line\": {\"color\": \"green\", \"width\": 10}, \"type\": \"line\", \"x0\": \"2020-02-13T07:07:45.200000\", \"x1\": \"2020-02-13T07:08:08.700000\", \"xref\": \"x\", \"y0\": 0.8, \"y1\": 0.8, \"yref\": \"y\"}, {\"line\": {\"color\": \"green\", \"width\": 10}, \"type\": \"line\", \"x0\": \"2020-02-13T07:07:45.200000\", \"x1\": \"2020-02-13T07:08:08.700000\", \"xref\": \"x\", \"y0\": 5.8, \"y1\": 5.8, \"yref\": \"y\"}, {\"line\": {\"color\": \"green\", \"width\": 10}, \"type\": \"line\", \"x0\": \"2020-02-13T07:08:15.100000\", \"x1\": \"2020-02-13T07:08:27.200000\", \"xref\": \"x\", \"y0\": 2.8, \"y1\": 2.8, \"yref\": \"y\"}, {\"line\": {\"color\": \"green\", \"width\": 10}, \"type\": \"line\", \"x0\": \"2020-02-13T07:08:32.700000\", \"x1\": \"2020-02-13T07:08:43.600000\", \"xref\": \"x\", \"y0\": 3.8, \"y1\": 3.8, \"yref\": \"y\"}, {\"line\": {\"color\": \"green\", \"width\": 10}, \"type\": \"line\", \"x0\": \"2020-02-13T07:08:48.900000\", \"x1\": \"2020-02-13T07:10:38.800000\", \"xref\": \"x\", \"y0\": 1.8, \"y1\": 1.8, \"yref\": \"y\"}, {\"line\": {\"color\": \"green\", \"width\": 10}, \"type\": \"line\", \"x0\": \"2020-02-13T07:08:48.900000\", \"x1\": \"2020-02-13T07:08:54.800000\", \"xref\": \"x\", \"y0\": 4.8, \"y1\": 4.8, \"yref\": \"y\"}, {\"line\": {\"color\": \"green\", \"width\": 10}, \"type\": \"line\", \"x0\": \"2020-02-13T07:09:00.300000\", \"x1\": \"2020-02-13T07:10:38.800000\", \"xref\": \"x\", \"y0\": 1.8, \"y1\": 1.8, \"yref\": \"y\"}, {\"line\": {\"color\": \"green\", \"width\": 10}, \"type\": \"line\", \"x0\": \"2020-02-13T07:09:00.300000\", \"x1\": \"2020-02-13T07:11:08.700000\", \"xref\": \"x\", \"y0\": 5.8, \"y1\": 5.8, \"yref\": \"y\"}, {\"line\": {\"color\": \"green\", \"width\": 10}, \"type\": \"line\", \"x0\": \"2020-02-13T07:10:45.200000\", \"x1\": \"2020-02-13T07:11:09.700000\", \"xref\": \"x\", \"y0\": 0.8, \"y1\": 0.8, \"yref\": \"y\"}, {\"line\": {\"color\": \"green\", \"width\": 10}, \"type\": \"line\", \"x0\": \"2020-02-13T07:10:45.200000\", \"x1\": \"2020-02-13T07:11:08.700000\", \"xref\": \"x\", \"y0\": 5.8, \"y1\": 5.8, \"yref\": \"y\"}, {\"line\": {\"color\": \"green\", \"width\": 10}, \"type\": \"line\", \"x0\": \"2020-02-13T07:11:15.200000\", \"x1\": \"2020-02-13T07:11:29\", \"xref\": \"x\", \"y0\": 2.8, \"y1\": 2.8, \"yref\": \"y\"}, {\"line\": {\"color\": \"green\", \"width\": 10}, \"type\": \"line\", \"x0\": \"2020-02-13T07:11:34.500000\", \"x1\": \"2020-02-13T07:11:51.500000\", \"xref\": \"x\", \"y0\": 3.8, \"y1\": 3.8, \"yref\": \"y\"}, {\"line\": {\"color\": \"green\", \"width\": 10}, \"type\": \"line\", \"x0\": \"2020-02-13T07:11:56.800000\", \"x1\": \"2020-02-13T07:13:38.800000\", \"xref\": \"x\", \"y0\": 1.8, \"y1\": 1.8, \"yref\": \"y\"}, {\"line\": {\"color\": \"green\", \"width\": 10}, \"type\": \"line\", \"x0\": \"2020-02-13T07:11:56.800000\", \"x1\": \"2020-02-13T07:14:08.700000\", \"xref\": \"x\", \"y0\": 5.8, \"y1\": 5.8, \"yref\": \"y\"}, {\"line\": {\"color\": \"green\", \"width\": 10}, \"type\": \"line\", \"x0\": \"2020-02-13T07:13:45.200000\", \"x1\": \"2020-02-13T07:14:08.700000\", \"xref\": \"x\", \"y0\": 0.8, \"y1\": 0.8, \"yref\": \"y\"}, {\"line\": {\"color\": \"green\", \"width\": 10}, \"type\": \"line\", \"x0\": \"2020-02-13T07:13:45.200000\", \"x1\": \"2020-02-13T07:14:08.700000\", \"xref\": \"x\", \"y0\": 5.8, \"y1\": 5.8, \"yref\": \"y\"}, {\"line\": {\"color\": \"green\", \"width\": 10}, \"type\": \"line\", \"x0\": \"2020-02-13T07:14:15.100000\", \"x1\": \"2020-02-13T07:14:33.600000\", \"xref\": \"x\", \"y0\": 2.8, \"y1\": 2.8, \"yref\": \"y\"}, {\"line\": {\"color\": \"green\", \"width\": 10}, \"type\": \"line\", \"x0\": \"2020-02-13T07:14:39.100000\", \"x1\": \"2020-02-13T07:14:52.100000\", \"xref\": \"x\", \"y0\": 3.8, \"y1\": 3.8, \"yref\": \"y\"}, {\"line\": {\"color\": \"green\", \"width\": 10}, \"type\": \"line\", \"x0\": \"2020-02-13T07:14:57.400000\", \"x1\": \"2020-02-13T07:16:38.800000\", \"xref\": \"x\", \"y0\": 1.8, \"y1\": 1.8, \"yref\": \"y\"}, {\"line\": {\"color\": \"green\", \"width\": 10}, \"type\": \"line\", \"x0\": \"2020-02-13T07:14:57.400000\", \"x1\": \"2020-02-13T07:17:08.700000\", \"xref\": \"x\", \"y0\": 5.8, \"y1\": 5.8, \"yref\": \"y\"}, {\"line\": {\"color\": \"green\", \"width\": 10}, \"type\": \"line\", \"x0\": \"2020-02-13T07:16:45.200000\", \"x1\": \"2020-02-13T07:17:08.700000\", \"xref\": \"x\", \"y0\": 0.8, \"y1\": 0.8, \"yref\": \"y\"}, {\"line\": {\"color\": \"green\", \"width\": 10}, \"type\": \"line\", \"x0\": \"2020-02-13T07:16:45.200000\", \"x1\": \"2020-02-13T07:17:08.700000\", \"xref\": \"x\", \"y0\": 5.8, \"y1\": 5.8, \"yref\": \"y\"}, {\"line\": {\"color\": \"green\", \"width\": 10}, \"type\": \"line\", \"x0\": \"2020-02-13T07:17:15.100000\", \"x1\": \"2020-02-13T07:17:32.600000\", \"xref\": \"x\", \"y0\": 2.8, \"y1\": 2.8, \"yref\": \"y\"}, {\"line\": {\"color\": \"green\", \"width\": 10}, \"type\": \"line\", \"x0\": \"2020-02-13T07:17:38.100000\", \"x1\": \"2020-02-13T07:17:53.500000\", \"xref\": \"x\", \"y0\": 3.8, \"y1\": 3.8, \"yref\": \"y\"}, {\"line\": {\"color\": \"green\", \"width\": 10}, \"type\": \"line\", \"x0\": \"2020-02-13T07:17:58.800000\", \"x1\": \"2020-02-13T07:19:38.800000\", \"xref\": \"x\", \"y0\": 1.8, \"y1\": 1.8, \"yref\": \"y\"}, {\"line\": {\"color\": \"green\", \"width\": 10}, \"type\": \"line\", \"x0\": \"2020-02-13T07:17:58.800000\", \"x1\": \"2020-02-13T07:20:08.700000\", \"xref\": \"x\", \"y0\": 5.8, \"y1\": 5.8, \"yref\": \"y\"}, {\"line\": {\"color\": \"green\", \"width\": 10}, \"type\": \"line\", \"x0\": \"2020-02-13T07:19:45.200000\", \"x1\": \"2020-02-13T07:20:08.700000\", \"xref\": \"x\", \"y0\": 0.8, \"y1\": 0.8, \"yref\": \"y\"}, {\"line\": {\"color\": \"green\", \"width\": 10}, \"type\": \"line\", \"x0\": \"2020-02-13T07:19:45.200000\", \"x1\": \"2020-02-13T07:20:08.700000\", \"xref\": \"x\", \"y0\": 5.8, \"y1\": 5.8, \"yref\": \"y\"}, {\"line\": {\"color\": \"yellow\", \"width\": 10}, \"type\": \"line\", \"x0\": \"2020-02-13T07:02:08.800000\", \"x1\": \"2020-02-13T07:02:14.100000\", \"xref\": \"x\", \"y0\": 1.8, \"y1\": 1.8, \"yref\": \"y\"}, {\"line\": {\"color\": \"yellow\", \"width\": 10}, \"type\": \"line\", \"x0\": \"2020-02-13T07:02:08.800000\", \"x1\": \"2020-02-13T07:02:14.100000\", \"xref\": \"x\", \"y0\": 5.8, \"y1\": 5.8, \"yref\": \"y\"}, {\"line\": {\"color\": \"yellow\", \"width\": 10}, \"type\": \"line\", \"x0\": \"2020-02-13T07:02:28.200000\", \"x1\": \"2020-02-13T07:02:31.200000\", \"xref\": \"x\", \"y0\": 2.8, \"y1\": 2.8, \"yref\": \"y\"}, {\"line\": {\"color\": \"yellow\", \"width\": 10}, \"type\": \"line\", \"x0\": \"2020-02-13T07:02:48.600000\", \"x1\": \"2020-02-13T07:02:52.200000\", \"xref\": \"x\", \"y0\": 3.8, \"y1\": 3.8, \"yref\": \"y\"}, {\"line\": {\"color\": \"yellow\", \"width\": 10}, \"type\": \"line\", \"x0\": \"2020-02-13T07:04:51.100000\", \"x1\": \"2020-02-13T07:04:56.500000\", \"xref\": \"x\", \"y0\": 1.8, \"y1\": 1.8, \"yref\": \"y\"}, {\"line\": {\"color\": \"yellow\", \"width\": 10}, \"type\": \"line\", \"x0\": \"2020-02-13T07:05:08.600000\", \"x1\": \"2020-02-13T07:05:11.600000\", \"xref\": \"x\", \"y0\": 0.8, \"y1\": 0.8, \"yref\": \"y\"}, {\"line\": {\"color\": \"yellow\", \"width\": 10}, \"type\": \"line\", \"x0\": \"2020-02-13T07:05:08.600000\", \"x1\": \"2020-02-13T07:05:14\", \"xref\": \"x\", \"y0\": 5.8, \"y1\": 5.8, \"yref\": \"y\"}, {\"line\": {\"color\": \"yellow\", \"width\": 10}, \"type\": \"line\", \"x0\": \"2020-02-13T07:05:25.100000\", \"x1\": \"2020-02-13T07:05:28.100000\", \"xref\": \"x\", \"y0\": 2.8, \"y1\": 2.8, \"yref\": \"y\"}, {\"line\": {\"color\": \"yellow\", \"width\": 10}, \"type\": \"line\", \"x0\": \"2020-02-13T07:05:36.900000\", \"x1\": \"2020-02-13T07:05:40.500000\", \"xref\": \"x\", \"y0\": 3.8, \"y1\": 3.8, \"yref\": \"y\"}, {\"line\": {\"color\": \"yellow\", \"width\": 10}, \"type\": \"line\", \"x0\": \"2020-02-13T07:07:38.800000\", \"x1\": \"2020-02-13T07:07:44.200000\", \"xref\": \"x\", \"y0\": 1.8, \"y1\": 1.8, \"yref\": \"y\"}, {\"line\": {\"color\": \"yellow\", \"width\": 10}, \"type\": \"line\", \"x0\": \"2020-02-13T07:08:08.700000\", \"x1\": \"2020-02-13T07:08:11.700000\", \"xref\": \"x\", \"y0\": 0.8, \"y1\": 0.8, \"yref\": \"y\"}, {\"line\": {\"color\": \"yellow\", \"width\": 10}, \"type\": \"line\", \"x0\": \"2020-02-13T07:08:08.700000\", \"x1\": \"2020-02-13T07:08:14.100000\", \"xref\": \"x\", \"y0\": 5.8, \"y1\": 5.8, \"yref\": \"y\"}, {\"line\": {\"color\": \"yellow\", \"width\": 10}, \"type\": \"line\", \"x0\": \"2020-02-13T07:08:27.200000\", \"x1\": \"2020-02-13T07:08:30.200000\", \"xref\": \"x\", \"y0\": 2.8, \"y1\": 2.8, \"yref\": \"y\"}, {\"line\": {\"color\": \"yellow\", \"width\": 10}, \"type\": \"line\", \"x0\": \"2020-02-13T07:08:43.600000\", \"x1\": \"2020-02-13T07:08:47.200000\", \"xref\": \"x\", \"y0\": 3.8, \"y1\": 3.8, \"yref\": \"y\"}, {\"line\": {\"color\": \"yellow\", \"width\": 10}, \"type\": \"line\", \"x0\": \"2020-02-13T07:08:54.800000\", \"x1\": \"2020-02-13T07:08:57.800000\", \"xref\": \"x\", \"y0\": 4.8, \"y1\": 4.8, \"yref\": \"y\"}, {\"line\": {\"color\": \"yellow\", \"width\": 10}, \"type\": \"line\", \"x0\": \"2020-02-13T07:10:38.800000\", \"x1\": \"2020-02-13T07:10:44.200000\", \"xref\": \"x\", \"y0\": 1.8, \"y1\": 1.8, \"yref\": \"y\"}, {\"line\": {\"color\": \"yellow\", \"width\": 10}, \"type\": \"line\", \"x0\": \"2020-02-13T07:11:08.700000\", \"x1\": \"2020-02-13T07:11:14.100000\", \"xref\": \"x\", \"y0\": 5.8, \"y1\": 5.8, \"yref\": \"y\"}, {\"line\": {\"color\": \"yellow\", \"width\": 10}, \"type\": \"line\", \"x0\": \"2020-02-13T07:11:09.700000\", \"x1\": \"2020-02-13T07:11:12.700000\", \"xref\": \"x\", \"y0\": 0.8, \"y1\": 0.8, \"yref\": \"y\"}, {\"line\": {\"color\": \"yellow\", \"width\": 10}, \"type\": \"line\", \"x0\": \"2020-02-13T07:11:29\", \"x1\": \"2020-02-13T07:11:32\", \"xref\": \"x\", \"y0\": 2.8, \"y1\": 2.8, \"yref\": \"y\"}, {\"line\": {\"color\": \"yellow\", \"width\": 10}, \"type\": \"line\", \"x0\": \"2020-02-13T07:11:51.500000\", \"x1\": \"2020-02-13T07:11:55.100000\", \"xref\": \"x\", \"y0\": 3.8, \"y1\": 3.8, \"yref\": \"y\"}, {\"line\": {\"color\": \"yellow\", \"width\": 10}, \"type\": \"line\", \"x0\": \"2020-02-13T07:13:38.800000\", \"x1\": \"2020-02-13T07:13:44.200000\", \"xref\": \"x\", \"y0\": 1.8, \"y1\": 1.8, \"yref\": \"y\"}, {\"line\": {\"color\": \"yellow\", \"width\": 10}, \"type\": \"line\", \"x0\": \"2020-02-13T07:14:08.700000\", \"x1\": \"2020-02-13T07:14:11.700000\", \"xref\": \"x\", \"y0\": 0.8, \"y1\": 0.8, \"yref\": \"y\"}, {\"line\": {\"color\": \"yellow\", \"width\": 10}, \"type\": \"line\", \"x0\": \"2020-02-13T07:14:08.700000\", \"x1\": \"2020-02-13T07:14:14.100000\", \"xref\": \"x\", \"y0\": 5.8, \"y1\": 5.8, \"yref\": \"y\"}, {\"line\": {\"color\": \"yellow\", \"width\": 10}, \"type\": \"line\", \"x0\": \"2020-02-13T07:14:33.600000\", \"x1\": \"2020-02-13T07:14:36.600000\", \"xref\": \"x\", \"y0\": 2.8, \"y1\": 2.8, \"yref\": \"y\"}, {\"line\": {\"color\": \"yellow\", \"width\": 10}, \"type\": \"line\", \"x0\": \"2020-02-13T07:14:52.100000\", \"x1\": \"2020-02-13T07:14:55.700000\", \"xref\": \"x\", \"y0\": 3.8, \"y1\": 3.8, \"yref\": \"y\"}, {\"line\": {\"color\": \"yellow\", \"width\": 10}, \"type\": \"line\", \"x0\": \"2020-02-13T07:16:38.800000\", \"x1\": \"2020-02-13T07:16:44.200000\", \"xref\": \"x\", \"y0\": 1.8, \"y1\": 1.8, \"yref\": \"y\"}, {\"line\": {\"color\": \"yellow\", \"width\": 10}, \"type\": \"line\", \"x0\": \"2020-02-13T07:17:08.700000\", \"x1\": \"2020-02-13T07:17:11.700000\", \"xref\": \"x\", \"y0\": 0.8, \"y1\": 0.8, \"yref\": \"y\"}, {\"line\": {\"color\": \"yellow\", \"width\": 10}, \"type\": \"line\", \"x0\": \"2020-02-13T07:17:08.700000\", \"x1\": \"2020-02-13T07:17:14.100000\", \"xref\": \"x\", \"y0\": 5.8, \"y1\": 5.8, \"yref\": \"y\"}, {\"line\": {\"color\": \"yellow\", \"width\": 10}, \"type\": \"line\", \"x0\": \"2020-02-13T07:17:32.600000\", \"x1\": \"2020-02-13T07:17:35.600000\", \"xref\": \"x\", \"y0\": 2.8, \"y1\": 2.8, \"yref\": \"y\"}, {\"line\": {\"color\": \"yellow\", \"width\": 10}, \"type\": \"line\", \"x0\": \"2020-02-13T07:17:53.500000\", \"x1\": \"2020-02-13T07:17:57.100000\", \"xref\": \"x\", \"y0\": 3.8, \"y1\": 3.8, \"yref\": \"y\"}, {\"line\": {\"color\": \"yellow\", \"width\": 10}, \"type\": \"line\", \"x0\": \"2020-02-13T07:19:38.800000\", \"x1\": \"2020-02-13T07:19:44.200000\", \"xref\": \"x\", \"y0\": 1.8, \"y1\": 1.8, \"yref\": \"y\"}, {\"line\": {\"color\": \"red\", \"width\": 10}, \"type\": \"line\", \"x0\": \"2020-02-13T07:02:14.100000\", \"x1\": \"2020-02-13T07:02:15.100000\", \"xref\": \"x\", \"y0\": 1.8, \"y1\": 1.8, \"yref\": \"y\"}, {\"line\": {\"color\": \"red\", \"width\": 10}, \"type\": \"line\", \"x0\": \"2020-02-13T07:02:14.100000\", \"x1\": \"2020-02-13T07:02:15.100000\", \"xref\": \"x\", \"y0\": 5.8, \"y1\": 5.8, \"yref\": \"y\"}, {\"line\": {\"color\": \"red\", \"width\": 10}, \"type\": \"line\", \"x0\": \"2020-02-13T07:02:31.200000\", \"x1\": \"2020-02-13T07:02:33.700000\", \"xref\": \"x\", \"y0\": 2.8, \"y1\": 2.8, \"yref\": \"y\"}, {\"line\": {\"color\": \"red\", \"width\": 10}, \"type\": \"line\", \"x0\": \"2020-02-13T07:02:52.200000\", \"x1\": \"2020-02-13T07:02:53.900000\", \"xref\": \"x\", \"y0\": 3.8, \"y1\": 3.8, \"yref\": \"y\"}, {\"line\": {\"color\": \"red\", \"width\": 10}, \"type\": \"line\", \"x0\": \"2020-02-13T07:04:56.500000\", \"x1\": \"2020-02-13T07:04:57.500000\", \"xref\": \"x\", \"y0\": 1.8, \"y1\": 1.8, \"yref\": \"y\"}, {\"line\": {\"color\": \"red\", \"width\": 10}, \"type\": \"line\", \"x0\": \"2020-02-13T07:05:11.600000\", \"x1\": \"2020-02-13T07:05:15\", \"xref\": \"x\", \"y0\": 0.8, \"y1\": 0.8, \"yref\": \"y\"}, {\"line\": {\"color\": \"red\", \"width\": 10}, \"type\": \"line\", \"x0\": \"2020-02-13T07:05:14\", \"x1\": \"2020-02-13T07:05:15\", \"xref\": \"x\", \"y0\": 5.8, \"y1\": 5.8, \"yref\": \"y\"}, {\"line\": {\"color\": \"red\", \"width\": 10}, \"type\": \"line\", \"x0\": \"2020-02-13T07:05:28.100000\", \"x1\": \"2020-02-13T07:05:30.600000\", \"xref\": \"x\", \"y0\": 2.8, \"y1\": 2.8, \"yref\": \"y\"}, {\"line\": {\"color\": \"red\", \"width\": 10}, \"type\": \"line\", \"x0\": \"2020-02-13T07:05:40.500000\", \"x1\": \"2020-02-13T07:05:42.200000\", \"xref\": \"x\", \"y0\": 3.8, \"y1\": 3.8, \"yref\": \"y\"}, {\"line\": {\"color\": \"red\", \"width\": 10}, \"type\": \"line\", \"x0\": \"2020-02-13T07:07:44.200000\", \"x1\": \"2020-02-13T07:07:45.200000\", \"xref\": \"x\", \"y0\": 1.8, \"y1\": 1.8, \"yref\": \"y\"}, {\"line\": {\"color\": \"red\", \"width\": 10}, \"type\": \"line\", \"x0\": \"2020-02-13T07:08:11.700000\", \"x1\": \"2020-02-13T07:08:15.100000\", \"xref\": \"x\", \"y0\": 0.8, \"y1\": 0.8, \"yref\": \"y\"}, {\"line\": {\"color\": \"red\", \"width\": 10}, \"type\": \"line\", \"x0\": \"2020-02-13T07:08:14.100000\", \"x1\": \"2020-02-13T07:08:15.100000\", \"xref\": \"x\", \"y0\": 5.8, \"y1\": 5.8, \"yref\": \"y\"}, {\"line\": {\"color\": \"red\", \"width\": 10}, \"type\": \"line\", \"x0\": \"2020-02-13T07:08:30.200000\", \"x1\": \"2020-02-13T07:08:32.700000\", \"xref\": \"x\", \"y0\": 2.8, \"y1\": 2.8, \"yref\": \"y\"}, {\"line\": {\"color\": \"red\", \"width\": 10}, \"type\": \"line\", \"x0\": \"2020-02-13T07:08:47.200000\", \"x1\": \"2020-02-13T07:08:48.900000\", \"xref\": \"x\", \"y0\": 3.8, \"y1\": 3.8, \"yref\": \"y\"}, {\"line\": {\"color\": \"red\", \"width\": 10}, \"type\": \"line\", \"x0\": \"2020-02-13T07:08:57.800000\", \"x1\": \"2020-02-13T07:09:00.300000\", \"xref\": \"x\", \"y0\": 4.8, \"y1\": 4.8, \"yref\": \"y\"}, {\"line\": {\"color\": \"red\", \"width\": 10}, \"type\": \"line\", \"x0\": \"2020-02-13T07:10:44.200000\", \"x1\": \"2020-02-13T07:10:45.200000\", \"xref\": \"x\", \"y0\": 1.8, \"y1\": 1.8, \"yref\": \"y\"}, {\"line\": {\"color\": \"red\", \"width\": 10}, \"type\": \"line\", \"x0\": \"2020-02-13T07:11:12.700000\", \"x1\": \"2020-02-13T07:11:15.200000\", \"xref\": \"x\", \"y0\": 0.8, \"y1\": 0.8, \"yref\": \"y\"}, {\"line\": {\"color\": \"red\", \"width\": 10}, \"type\": \"line\", \"x0\": \"2020-02-13T07:11:14.100000\", \"x1\": \"2020-02-13T07:11:15.200000\", \"xref\": \"x\", \"y0\": 5.8, \"y1\": 5.8, \"yref\": \"y\"}, {\"line\": {\"color\": \"red\", \"width\": 10}, \"type\": \"line\", \"x0\": \"2020-02-13T07:11:32\", \"x1\": \"2020-02-13T07:11:34.500000\", \"xref\": \"x\", \"y0\": 2.8, \"y1\": 2.8, \"yref\": \"y\"}, {\"line\": {\"color\": \"red\", \"width\": 10}, \"type\": \"line\", \"x0\": \"2020-02-13T07:11:55.100000\", \"x1\": \"2020-02-13T07:11:56.800000\", \"xref\": \"x\", \"y0\": 3.8, \"y1\": 3.8, \"yref\": \"y\"}, {\"line\": {\"color\": \"red\", \"width\": 10}, \"type\": \"line\", \"x0\": \"2020-02-13T07:13:44.200000\", \"x1\": \"2020-02-13T07:13:45.200000\", \"xref\": \"x\", \"y0\": 1.8, \"y1\": 1.8, \"yref\": \"y\"}, {\"line\": {\"color\": \"red\", \"width\": 10}, \"type\": \"line\", \"x0\": \"2020-02-13T07:14:11.700000\", \"x1\": \"2020-02-13T07:14:15.100000\", \"xref\": \"x\", \"y0\": 0.8, \"y1\": 0.8, \"yref\": \"y\"}, {\"line\": {\"color\": \"red\", \"width\": 10}, \"type\": \"line\", \"x0\": \"2020-02-13T07:14:14.100000\", \"x1\": \"2020-02-13T07:14:15.100000\", \"xref\": \"x\", \"y0\": 5.8, \"y1\": 5.8, \"yref\": \"y\"}, {\"line\": {\"color\": \"red\", \"width\": 10}, \"type\": \"line\", \"x0\": \"2020-02-13T07:14:36.600000\", \"x1\": \"2020-02-13T07:14:39.100000\", \"xref\": \"x\", \"y0\": 2.8, \"y1\": 2.8, \"yref\": \"y\"}, {\"line\": {\"color\": \"red\", \"width\": 10}, \"type\": \"line\", \"x0\": \"2020-02-13T07:14:55.700000\", \"x1\": \"2020-02-13T07:14:57.400000\", \"xref\": \"x\", \"y0\": 3.8, \"y1\": 3.8, \"yref\": \"y\"}, {\"line\": {\"color\": \"red\", \"width\": 10}, \"type\": \"line\", \"x0\": \"2020-02-13T07:16:44.200000\", \"x1\": \"2020-02-13T07:16:45.200000\", \"xref\": \"x\", \"y0\": 1.8, \"y1\": 1.8, \"yref\": \"y\"}, {\"line\": {\"color\": \"red\", \"width\": 10}, \"type\": \"line\", \"x0\": \"2020-02-13T07:17:11.700000\", \"x1\": \"2020-02-13T07:17:15.100000\", \"xref\": \"x\", \"y0\": 0.8, \"y1\": 0.8, \"yref\": \"y\"}, {\"line\": {\"color\": \"red\", \"width\": 10}, \"type\": \"line\", \"x0\": \"2020-02-13T07:17:14.100000\", \"x1\": \"2020-02-13T07:17:15.100000\", \"xref\": \"x\", \"y0\": 5.8, \"y1\": 5.8, \"yref\": \"y\"}, {\"line\": {\"color\": \"red\", \"width\": 10}, \"type\": \"line\", \"x0\": \"2020-02-13T07:17:35.600000\", \"x1\": \"2020-02-13T07:17:38.100000\", \"xref\": \"x\", \"y0\": 2.8, \"y1\": 2.8, \"yref\": \"y\"}, {\"line\": {\"color\": \"red\", \"width\": 10}, \"type\": \"line\", \"x0\": \"2020-02-13T07:17:57.100000\", \"x1\": \"2020-02-13T07:17:58.800000\", \"xref\": \"x\", \"y0\": 3.8, \"y1\": 3.8, \"yref\": \"y\"}, {\"line\": {\"color\": \"red\", \"width\": 10}, \"type\": \"line\", \"x0\": \"2020-02-13T07:19:44.200000\", \"x1\": \"2020-02-13T07:19:45.200000\", \"xref\": \"x\", \"y0\": 1.8, \"y1\": 1.8, \"yref\": \"y\"}], \"template\": {\"data\": {\"bar\": [{\"error_x\": {\"color\": \"#2a3f5f\"}, \"error_y\": {\"color\": \"#2a3f5f\"}, \"marker\": {\"line\": {\"color\": \"#E5ECF6\", \"width\": 0.5}}, \"type\": \"bar\"}], \"barpolar\": [{\"marker\": {\"line\": {\"color\": \"#E5ECF6\", \"width\": 0.5}}, \"type\": \"barpolar\"}], \"carpet\": [{\"aaxis\": {\"endlinecolor\": \"#2a3f5f\", \"gridcolor\": \"white\", \"linecolor\": \"white\", \"minorgridcolor\": \"white\", \"startlinecolor\": \"#2a3f5f\"}, \"baxis\": {\"endlinecolor\": \"#2a3f5f\", \"gridcolor\": \"white\", \"linecolor\": \"white\", \"minorgridcolor\": \"white\", \"startlinecolor\": \"#2a3f5f\"}, \"type\": \"carpet\"}], \"choropleth\": [{\"colorbar\": {\"outlinewidth\": 0, \"ticks\": \"\"}, \"type\": \"choropleth\"}], \"contour\": [{\"colorbar\": {\"outlinewidth\": 0, \"ticks\": \"\"}, \"colorscale\": [[0.0, \"#0d0887\"], [0.1111111111111111, \"#46039f\"], [0.2222222222222222, \"#7201a8\"], [0.3333333333333333, \"#9c179e\"], [0.4444444444444444, \"#bd3786\"], [0.5555555555555556, \"#d8576b\"], [0.6666666666666666, \"#ed7953\"], [0.7777777777777778, \"#fb9f3a\"], [0.8888888888888888, \"#fdca26\"], [1.0, \"#f0f921\"]], \"type\": \"contour\"}], \"contourcarpet\": [{\"colorbar\": {\"outlinewidth\": 0, \"ticks\": \"\"}, \"type\": \"contourcarpet\"}], \"heatmap\": [{\"colorbar\": {\"outlinewidth\": 0, \"ticks\": \"\"}, \"colorscale\": [[0.0, \"#0d0887\"], [0.1111111111111111, \"#46039f\"], [0.2222222222222222, \"#7201a8\"], [0.3333333333333333, \"#9c179e\"], [0.4444444444444444, \"#bd3786\"], [0.5555555555555556, \"#d8576b\"], [0.6666666666666666, \"#ed7953\"], [0.7777777777777778, \"#fb9f3a\"], [0.8888888888888888, \"#fdca26\"], [1.0, \"#f0f921\"]], \"type\": \"heatmap\"}], \"heatmapgl\": [{\"colorbar\": {\"outlinewidth\": 0, \"ticks\": \"\"}, \"colorscale\": [[0.0, \"#0d0887\"], [0.1111111111111111, \"#46039f\"], [0.2222222222222222, \"#7201a8\"], [0.3333333333333333, \"#9c179e\"], [0.4444444444444444, \"#bd3786\"], [0.5555555555555556, \"#d8576b\"], [0.6666666666666666, \"#ed7953\"], [0.7777777777777778, \"#fb9f3a\"], [0.8888888888888888, \"#fdca26\"], [1.0, \"#f0f921\"]], \"type\": \"heatmapgl\"}], \"histogram\": [{\"marker\": {\"colorbar\": {\"outlinewidth\": 0, \"ticks\": \"\"}}, \"type\": \"histogram\"}], \"histogram2d\": [{\"colorbar\": {\"outlinewidth\": 0, \"ticks\": \"\"}, \"colorscale\": [[0.0, \"#0d0887\"], [0.1111111111111111, \"#46039f\"], [0.2222222222222222, \"#7201a8\"], [0.3333333333333333, \"#9c179e\"], [0.4444444444444444, \"#bd3786\"], [0.5555555555555556, \"#d8576b\"], [0.6666666666666666, \"#ed7953\"], [0.7777777777777778, \"#fb9f3a\"], [0.8888888888888888, \"#fdca26\"], [1.0, \"#f0f921\"]], \"type\": \"histogram2d\"}], \"histogram2dcontour\": [{\"colorbar\": {\"outlinewidth\": 0, \"ticks\": \"\"}, \"colorscale\": [[0.0, \"#0d0887\"], [0.1111111111111111, \"#46039f\"], [0.2222222222222222, \"#7201a8\"], [0.3333333333333333, \"#9c179e\"], [0.4444444444444444, \"#bd3786\"], [0.5555555555555556, \"#d8576b\"], [0.6666666666666666, \"#ed7953\"], [0.7777777777777778, \"#fb9f3a\"], [0.8888888888888888, \"#fdca26\"], [1.0, \"#f0f921\"]], \"type\": \"histogram2dcontour\"}], \"mesh3d\": [{\"colorbar\": {\"outlinewidth\": 0, \"ticks\": \"\"}, \"type\": \"mesh3d\"}], \"parcoords\": [{\"line\": {\"colorbar\": {\"outlinewidth\": 0, \"ticks\": \"\"}}, \"type\": \"parcoords\"}], \"pie\": [{\"automargin\": true, \"type\": \"pie\"}], \"scatter\": [{\"marker\": {\"colorbar\": {\"outlinewidth\": 0, \"ticks\": \"\"}}, \"type\": \"scatter\"}], \"scatter3d\": [{\"line\": {\"colorbar\": {\"outlinewidth\": 0, \"ticks\": \"\"}}, \"marker\": {\"colorbar\": {\"outlinewidth\": 0, \"ticks\": \"\"}}, \"type\": \"scatter3d\"}], \"scattercarpet\": [{\"marker\": {\"colorbar\": {\"outlinewidth\": 0, \"ticks\": \"\"}}, \"type\": \"scattercarpet\"}], \"scattergeo\": [{\"marker\": {\"colorbar\": {\"outlinewidth\": 0, \"ticks\": \"\"}}, \"type\": \"scattergeo\"}], \"scattergl\": [{\"marker\": {\"colorbar\": {\"outlinewidth\": 0, \"ticks\": \"\"}}, \"type\": \"scattergl\"}], \"scattermapbox\": [{\"marker\": {\"colorbar\": {\"outlinewidth\": 0, \"ticks\": \"\"}}, \"type\": \"scattermapbox\"}], \"scatterpolar\": [{\"marker\": {\"colorbar\": {\"outlinewidth\": 0, \"ticks\": \"\"}}, \"type\": \"scatterpolar\"}], \"scatterpolargl\": [{\"marker\": {\"colorbar\": {\"outlinewidth\": 0, \"ticks\": \"\"}}, \"type\": \"scatterpolargl\"}], \"scatterternary\": [{\"marker\": {\"colorbar\": {\"outlinewidth\": 0, \"ticks\": \"\"}}, \"type\": \"scatterternary\"}], \"surface\": [{\"colorbar\": {\"outlinewidth\": 0, \"ticks\": \"\"}, \"colorscale\": [[0.0, \"#0d0887\"], [0.1111111111111111, \"#46039f\"], [0.2222222222222222, \"#7201a8\"], [0.3333333333333333, \"#9c179e\"], [0.4444444444444444, \"#bd3786\"], [0.5555555555555556, \"#d8576b\"], [0.6666666666666666, \"#ed7953\"], [0.7777777777777778, \"#fb9f3a\"], [0.8888888888888888, \"#fdca26\"], [1.0, \"#f0f921\"]], \"type\": \"surface\"}], \"table\": [{\"cells\": {\"fill\": {\"color\": \"#EBF0F8\"}, \"line\": {\"color\": \"white\"}}, \"header\": {\"fill\": {\"color\": \"#C8D4E3\"}, \"line\": {\"color\": \"white\"}}, \"type\": \"table\"}]}, \"layout\": {\"annotationdefaults\": {\"arrowcolor\": \"#2a3f5f\", \"arrowhead\": 0, \"arrowwidth\": 1}, \"coloraxis\": {\"colorbar\": {\"outlinewidth\": 0, \"ticks\": \"\"}}, \"colorscale\": {\"diverging\": [[0, \"#8e0152\"], [0.1, \"#c51b7d\"], [0.2, \"#de77ae\"], [0.3, \"#f1b6da\"], [0.4, \"#fde0ef\"], [0.5, \"#f7f7f7\"], [0.6, \"#e6f5d0\"], [0.7, \"#b8e186\"], [0.8, \"#7fbc41\"], [0.9, \"#4d9221\"], [1, \"#276419\"]], \"sequential\": [[0.0, \"#0d0887\"], [0.1111111111111111, \"#46039f\"], [0.2222222222222222, \"#7201a8\"], [0.3333333333333333, \"#9c179e\"], [0.4444444444444444, \"#bd3786\"], [0.5555555555555556, \"#d8576b\"], [0.6666666666666666, \"#ed7953\"], [0.7777777777777778, \"#fb9f3a\"], [0.8888888888888888, \"#fdca26\"], [1.0, \"#f0f921\"]], \"sequentialminus\": [[0.0, \"#0d0887\"], [0.1111111111111111, \"#46039f\"], [0.2222222222222222, \"#7201a8\"], [0.3333333333333333, \"#9c179e\"], [0.4444444444444444, \"#bd3786\"], [0.5555555555555556, \"#d8576b\"], [0.6666666666666666, \"#ed7953\"], [0.7777777777777778, \"#fb9f3a\"], [0.8888888888888888, \"#fdca26\"], [1.0, \"#f0f921\"]]}, \"colorway\": [\"#636efa\", \"#EF553B\", \"#00cc96\", \"#ab63fa\", \"#FFA15A\", \"#19d3f3\", \"#FF6692\", \"#B6E880\", \"#FF97FF\", \"#FECB52\"], \"font\": {\"color\": \"#2a3f5f\"}, \"geo\": {\"bgcolor\": \"white\", \"lakecolor\": \"white\", \"landcolor\": \"#E5ECF6\", \"showlakes\": true, \"showland\": true, \"subunitcolor\": \"white\"}, \"hoverlabel\": {\"align\": \"left\"}, \"hovermode\": \"closest\", \"mapbox\": {\"style\": \"light\"}, \"paper_bgcolor\": \"white\", \"plot_bgcolor\": \"#E5ECF6\", \"polar\": {\"angularaxis\": {\"gridcolor\": \"white\", \"linecolor\": \"white\", \"ticks\": \"\"}, \"bgcolor\": \"#E5ECF6\", \"radialaxis\": {\"gridcolor\": \"white\", \"linecolor\": \"white\", \"ticks\": \"\"}}, \"scene\": {\"xaxis\": {\"backgroundcolor\": \"#E5ECF6\", \"gridcolor\": \"white\", \"gridwidth\": 2, \"linecolor\": \"white\", \"showbackground\": true, \"ticks\": \"\", \"zerolinecolor\": \"white\"}, \"yaxis\": {\"backgroundcolor\": \"#E5ECF6\", \"gridcolor\": \"white\", \"gridwidth\": 2, \"linecolor\": \"white\", \"showbackground\": true, \"ticks\": \"\", \"zerolinecolor\": \"white\"}, \"zaxis\": {\"backgroundcolor\": \"#E5ECF6\", \"gridcolor\": \"white\", \"gridwidth\": 2, \"linecolor\": \"white\", \"showbackground\": true, \"ticks\": \"\", \"zerolinecolor\": \"white\"}}, \"shapedefaults\": {\"line\": {\"color\": \"#2a3f5f\"}}, \"ternary\": {\"aaxis\": {\"gridcolor\": \"white\", \"linecolor\": \"white\", \"ticks\": \"\"}, \"baxis\": {\"gridcolor\": \"white\", \"linecolor\": \"white\", \"ticks\": \"\"}, \"bgcolor\": \"#E5ECF6\", \"caxis\": {\"gridcolor\": \"white\", \"linecolor\": \"white\", \"ticks\": \"\"}}, \"title\": {\"x\": 0.05}, \"xaxis\": {\"automargin\": true, \"gridcolor\": \"white\", \"linecolor\": \"white\", \"ticks\": \"\", \"title\": {\"standoff\": 15}, \"zerolinecolor\": \"white\", \"zerolinewidth\": 2}, \"yaxis\": {\"automargin\": true, \"gridcolor\": \"white\", \"linecolor\": \"white\", \"ticks\": \"\", \"title\": {\"standoff\": 15}, \"zerolinecolor\": \"white\", \"zerolinewidth\": 2}}}, \"xaxis\": {\"range\": [\"2020-02-13T07:02:15.100000\", \"2020-02-13T07:19:45.200000\"], \"showspikes\": true}, \"yaxis\": {\"range\": [0, 8]}},\n",
       "                        {\"responsive\": true}\n",
       "                    ).then(function(){\n",
       "                            \n",
       "var gd = document.getElementById('23527f47-d029-4718-bc84-43ad37c4c999');\n",
       "var x = new MutationObserver(function (mutations, observer) {{\n",
       "        var display = window.getComputedStyle(gd).display;\n",
       "        if (!display || display === 'none') {{\n",
       "            console.log([gd, 'removed!']);\n",
       "            Plotly.purge(gd);\n",
       "            observer.disconnect();\n",
       "        }}\n",
       "}});\n",
       "\n",
       "// Listen for the removal of the full notebook cells\n",
       "var notebookContainer = gd.closest('#notebook-container');\n",
       "if (notebookContainer) {{\n",
       "    x.observe(notebookContainer, {childList: true});\n",
       "}}\n",
       "\n",
       "// Listen for the clearing of the current output cell\n",
       "var outputEl = gd.closest('.output');\n",
       "if (outputEl) {{\n",
       "    x.observe(outputEl, {childList: true});\n",
       "}}\n",
       "\n",
       "                        })\n",
       "                };\n",
       "                });\n",
       "            </script>\n",
       "        </div>"
      ]
     },
     "metadata": {},
     "output_type": "display_data"
    }
   ],
   "source": [
    "tl_id = '63069007'\n",
    "\n",
    "lower_time = '02/13/2020 07:00:00.000'\n",
    "upper_time = '02/13/2020 07:20:00.000'\n",
    "\n",
    "upper_time_dt = datetime.datetime.strptime(upper_time, '%m/%d/%Y %H:%M:%S.%f')\n",
    "lower_time_dt = datetime.datetime.strptime(lower_time, '%m/%d/%Y %H:%M:%S.%f')\n",
    "#tls_dict[tl_id].loc[(tls_dict[tl_id]['interval_begin_dt'] > lower_time_dt) and (tls_dict[tl_id]['interval_begin_dt'] <= upper_time_dt)]\n",
    "\n",
    "plot_sumo_df = tls_dict[tl_id].loc[(tls_dict[tl_id]['interval_begin_dt'] > lower_time_dt) & \n",
    "                                   (tls_dict[tl_id]['interval_begin_dt'] < upper_time_dt)] \n",
    "\n",
    "plot_rw_dict = {}\n",
    "\n",
    "\n",
    "state_settings = {'green': {'color': 'green'},\n",
    "                 'yellow': {'color': 'yellow'},\n",
    "                 'red': {'color': 'red'}\n",
    "                 }\n",
    "\n",
    "width = 10\n",
    "\n",
    "plot_rw_dict['green'] = rw_tl_dict[tl_id]['green'].loc[(rw_tl_dict[tl_id]['green'].index > lower_time_dt) & \n",
    "                                   (rw_tl_dict[tl_id]['green'].index < upper_time_dt)]\n",
    "\n",
    "plot_rw_dict['yellow'] = rw_tl_dict[tl_id]['yellow'].loc[(rw_tl_dict[tl_id]['yellow'].index > lower_time_dt) & \n",
    "                                   (rw_tl_dict[tl_id]['yellow'].index < upper_time_dt)]\n",
    "\n",
    "plot_rw_dict['red'] = rw_tl_dict[tl_id]['red'].loc[(rw_tl_dict[tl_id]['red'].index > lower_time_dt) & \n",
    "                                   (rw_tl_dict[tl_id]['red'].index < upper_time_dt)]\n",
    "\n",
    "\n",
    "fig = go.Figure()\n",
    "fig.add_trace(go.Scatter(x=[plot_rw_dict['green'].index[0], plot_rw_dict['green'].index[-1]], opacity=0))\n",
    "\n",
    "fig.update_xaxes(range=[plot_rw_dict['green'].index[0], plot_rw_dict['green'].index[-1]])\n",
    "fig.update_yaxes(range=[0, 8])\n",
    "\n",
    "offset = 0.2\n",
    "\n",
    "for i in range(len(plot_sumo_df.index)):\n",
    "    for j in range(len(plot_sumo_df['green'].iloc[i])): # deals with the 1 or 2 phases\n",
    "        fig.add_shape(\n",
    "                # Line Horizontal\n",
    "                dict(\n",
    "                    type=\"line\",\n",
    "                    x0=plot_sumo_df['interval_begin_dt'].iloc[i],\n",
    "                    y0=plot_sumo_df['green'].iloc[i][j] + offset,\n",
    "                    x1=plot_sumo_df['interval_end_dt'].iloc[i],\n",
    "                    y1=plot_sumo_df['green'].iloc[i][j] + offset,\n",
    "                    line=dict(\n",
    "                        color=\"Green\",\n",
    "                        width=width\n",
    "                    )\n",
    "        )\n",
    "        )\n",
    "        \n",
    "    for j in range(len(plot_sumo_df['yellow'].iloc[i])): \n",
    "        fig.add_shape(\n",
    "                # Line Horizontal\n",
    "                dict(\n",
    "                    type=\"line\",\n",
    "                    x0=plot_sumo_df['interval_begin_dt'].iloc[i],\n",
    "                    y0=plot_sumo_df['yellow'].iloc[i][j] + offset,\n",
    "                    x1=plot_sumo_df['interval_end_dt'].iloc[i],\n",
    "                    y1=plot_sumo_df['yellow'].iloc[i][j] + offset,\n",
    "                    line=dict(\n",
    "                        color=\"yellow\",\n",
    "                        width=width\n",
    "                    )\n",
    "                )\n",
    "        )\n",
    "        \n",
    "    for j in range(len(plot_sumo_df['red'].iloc[i])): \n",
    "        fig.add_shape(\n",
    "                # Line Horizontal\n",
    "                dict(\n",
    "                    type=\"line\",\n",
    "                    x0=plot_sumo_df['interval_begin_dt'].iloc[i],\n",
    "                    y0=plot_sumo_df['red'].iloc[i][j] + offset,\n",
    "                    x1=plot_sumo_df['interval_end_dt'].iloc[i],\n",
    "                    y1=plot_sumo_df['red'].iloc[i][j] + offset,\n",
    "                    line=dict(\n",
    "                        color=\"red\",\n",
    "                        width=width\n",
    "                    )\n",
    "                )\n",
    "    )\n",
    "    for j in range(len(plot_sumo_df['yield'].iloc[i])): \n",
    "        fig.add_shape(\n",
    "                # Line Horizontal\n",
    "                dict(\n",
    "                    type=\"line\",\n",
    "                    x0=plot_sumo_df['interval_begin_dt'].iloc[i],\n",
    "                    y0=plot_sumo_df['yield'].iloc[i][j] + offset,\n",
    "                    x1=plot_sumo_df['interval_end_dt'].iloc[i],\n",
    "                    y1=plot_sumo_df['yield'].iloc[i][j] + offset,\n",
    "                    line=dict(\n",
    "                        color=\"limegreen\",\n",
    "                        width=width\n",
    "                    )\n",
    "                )\n",
    "        )\n",
    "\n",
    "for state in plot_rw_dict.keys():\n",
    "    \n",
    "    for i in range(len(plot_rw_dict[state].index)):\n",
    "        \n",
    "        for j in range(1,3):\n",
    "            \n",
    "            if plot_rw_dict[state]['phase_' + str(j)].iloc[i] != \"\":\n",
    "                \n",
    "                phase = plot_rw_dict[state]['phase_' + str(j)].iloc[i]\n",
    "                end_time = plot_rw_dict[state]['phase_' + str(j) + '_off_time'].iloc[i]\n",
    "                \n",
    "                fig.add_shape(\n",
    "                    dict(\n",
    "                        type=\"line\",\n",
    "                        x0=plot_rw_dict[state].index[i],\n",
    "                        y0=phase - offset,\n",
    "                        x1=end_time,\n",
    "                        y1=phase - offset,\n",
    "                        line=dict(\n",
    "                            color=state_settings[state]['color'],\n",
    "                            width=width\n",
    "                        )\n",
    "                    )\n",
    "                )\n",
    "                   \n",
    "fig.update_layout({'hovermode': 'closest', 'xaxis': {'showspikes': True}\n",
    "    })\n",
    "    \n",
    "fig.update_shapes(dict(xref='x', yref='y'))\n",
    "fig.show()\n",
    "\n"
   ]
  },
  {
   "cell_type": "code",
   "execution_count": null,
   "metadata": {
    "ExecuteTime": {
     "end_time": "2020-05-12T19:53:37.696095Z",
     "start_time": "2020-05-12T19:53:37.573798Z"
    },
    "scrolled": true
   },
   "outputs": [],
   "source": [
    "from IPython.display import display_html \n",
    "\n",
    "#light_event_dict[tl_id][1].head(50)\n",
    "\n",
    "# df1_styler = light_event_dict[tl_id][0].to_frame().style.set_table_attributes(\"style='display:inline'\").set_caption('Green')\n",
    "# df2_styler = light_event_dict[tl_id][1][1:].to_frame().style.set_table_attributes(\"style='display:inline'\").set_caption('Yellow')\n",
    "# df3_styler = light_event_dict[tl_id][2][1:].to_frame().style.set_table_attributes(\"style='display:inline'\").set_caption('Red')\n",
    "\n",
    "# display_html(df1_styler._repr_html_()+df2_styler._repr_html_()+df3_styler._repr_html_(), raw=True)\n",
    "\n",
    "\n",
    "tl_id = '63069007'\n",
    "\n",
    "green_df = light_event_dict[tl_id][0].to_frame()\n",
    "green_df['State'] = 'G'\n",
    "yellow_df = light_event_dict[tl_id][1].to_frame()\n",
    "yellow_df['State'] = 'Y'\n",
    "red_df = light_event_dict[tl_id][2].to_frame()\n",
    "red_df['State'] = 'R'\n",
    "\n",
    "combined_df = green_df.append(yellow_df, sort=True)\n",
    "combined_df = combined_df.append(red_df, sort=True)\n",
    "combined_df.sort_index(inplace=True)\n",
    "\n",
    "combined_styler = combined_df.style.set_table_attributes(\"style='display:inline'\")\n",
    "\n",
    "#display_html(combined_styler)\n",
    "\n",
    "ind_styler = rw_tl_dict['63069007']['yellow'].style.set_table_attributes(\"style='display:inline'\")\n",
    "\n",
    "display_html(ind_styler._repr_html_(), raw=True)"
   ]
  }
 ],
 "metadata": {
  "kernelspec": {
   "display_name": "Python 3",
   "language": "python",
   "name": "python3"
  },
  "language_info": {
   "codemirror_mode": {
    "name": "ipython",
    "version": 3
   },
   "file_extension": ".py",
   "mimetype": "text/x-python",
   "name": "python",
   "nbconvert_exporter": "python",
   "pygments_lexer": "ipython3",
   "version": "3.6.9"
  },
  "toc": {
   "base_numbering": 1,
   "nav_menu": {},
   "number_sections": true,
   "sideBar": true,
   "skip_h1_title": false,
   "title_cell": "Table of Contents",
   "title_sidebar": "Contents",
   "toc_cell": false,
   "toc_position": {
    "height": "calc(100% - 180px)",
    "left": "10px",
    "top": "150px",
    "width": "280.8px"
   },
   "toc_section_display": true,
   "toc_window_display": true
  },
  "toc-showcode": false,
  "toc-showmarkdowntxt": true,
  "varInspector": {
   "cols": {
    "lenName": 16,
    "lenType": 16,
    "lenVar": 40
   },
   "kernels_config": {
    "python": {
     "delete_cmd_postfix": "",
     "delete_cmd_prefix": "del ",
     "library": "var_list.py",
     "varRefreshCmd": "print(var_dic_list())"
    },
    "r": {
     "delete_cmd_postfix": ") ",
     "delete_cmd_prefix": "rm(",
     "library": "var_list.r",
     "varRefreshCmd": "cat(var_dic_list()) "
    }
   },
   "oldHeight": 377.85,
   "position": {
    "height": "40px",
    "left": "1134px",
    "right": "20px",
    "top": "120px",
    "width": "250px"
   },
   "types_to_exclude": [
    "module",
    "function",
    "builtin_function_or_method",
    "instance",
    "_Feature"
   ],
   "varInspector_section_display": "none",
   "window_display": true
  }
 },
 "nbformat": 4,
 "nbformat_minor": 4
}
