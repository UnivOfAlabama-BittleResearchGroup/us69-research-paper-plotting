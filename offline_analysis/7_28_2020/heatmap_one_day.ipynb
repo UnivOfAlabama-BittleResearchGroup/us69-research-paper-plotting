{
 "cells": [
  {
   "cell_type": "code",
   "execution_count": 1,
   "metadata": {},
   "outputs": [],
   "source": [
    "import sys\n",
    "import os\n",
    "sys.path.append(os.path.split(os.path.split(sys.path[0])[0])[0])"
   ]
  },
  {
   "cell_type": "code",
   "execution_count": 2,
   "metadata": {},
   "outputs": [],
   "source": [
    "import plotly.graph_objects as go\n",
    "from plotly.subplots import make_subplots\n",
    "import plotly.io as pio\n",
    "import numpy as np\n",
    "import plotly_template as pt\n",
    "from functions import emissions, func, mp_funcs\n",
    "import definitions\n",
    "import pandas as pd\n",
    "import pickle\n",
    "import math\n",
    "import numpy as np\n",
    "\n",
    "# pio.renderers.default = \"browser\""
   ]
  },
  {
   "cell_type": "markdown",
   "metadata": {},
   "source": [
    "# Generating Iterations of the Heatmaps"
   ]
  },
  {
   "cell_type": "markdown",
   "metadata": {},
   "source": [
    "### Creating the emissions plot function"
   ]
  },
  {
   "cell_type": "markdown",
   "metadata": {},
   "source": [
    "### File locations and constants"
   ]
  },
  {
   "cell_type": "code",
   "execution_count": 3,
   "metadata": {
    "collapsed": false,
    "jupyter": {
     "outputs_hidden": false
    },
    "pycharm": {
     "name": "#%%\n"
    }
   },
   "outputs": [],
   "source": [
    "DATA_FOLDER = '2020-02-13_2'\n",
    "DATA_DAY = '2020-02-13'\n",
    "DATA_DIR = r'Z:\\6 ACTION Project\\SUMO\\Sim_Output_Data\\7-28-2020' \n",
    "# DATA_DIR_FULL_PATH = os.path.join(definitions.DATA_DIR, DATA_FOLDER)\n",
    "DATA_DIR_FULL_PATH = os.path.join(DATA_DIR, DATA_FOLDER)\n",
    "RAW_DATA_FILE = 'data.csv'\n",
    "RAW_DATA_SUMMARY = 'data_summary.csv'"
   ]
  },
  {
   "cell_type": "markdown",
   "metadata": {},
   "source": [
    "### Bining the Emissions Data"
   ]
  },
  {
   "cell_type": "markdown",
   "metadata": {},
   "source": [
    "The time is >=time[i] & < time[i+1]"
   ]
  },
  {
   "cell_type": "code",
   "execution_count": 4,
   "metadata": {},
   "outputs": [],
   "source": [
    "resample_period = '120T' # aka the bin size\n",
    "bin_size = 5"
   ]
  },
  {
   "cell_type": "code",
   "execution_count": 5,
   "metadata": {},
   "outputs": [
    {
     "name": "stderr",
     "output_type": "stream",
     "text": [
      "c:\\users\\spraychamber\\us69-research-paper-plotting\\venv\\lib\\site-packages\\numpy\\lib\\arraysetops.py:569: FutureWarning: elementwise comparison failed; returning scalar instead, but in the future will perform elementwise comparison\n",
      "  mask |= (ar1 == a)\n"
     ]
    },
    {
     "name": "stdout",
     "output_type": "stream",
     "text": [
      "Saving to .csv\n"
     ]
    }
   ],
   "source": [
    "df = pd.read_csv(os.path.join(DATA_DIR_FULL_PATH, RAW_DATA_FILE), low_memory=False, index_col=0)\n",
    "#df['timestep_time'] = pd.to_datetime(df['timestep_time'])\n",
    "\n",
    "\n",
    "start_time = \"02/12/2020 23:00:00.000\"\n",
    "\n",
    "if df['timestep_time'].dtype.name == 'float64':\n",
    "    \"\"\" These don't work on Windows. Take that back. They do not work in scientifc mode with PyCharm \"\"\"\n",
    "    # print(\"Calling mp apply\")\n",
    "    df.loc[:, 'timestep_time'] = mp_funcs.apply_by_multiprocessing(df['timestep_time'], func, start_time=start_time)\n",
    "    # raw_data_df.loc[:, 'timestep_time'] = pd.to_datetime(raw_data_df.loc[:, 'timestep_time'])\n",
    "    # raw_data_df['timestep_time'] = raw_data_df['timestep_time'].apply(func=func)\n",
    "    df.loc[:, 'timestep_time'] = pd.to_datetime(df.loc[:, 'timestep_time'])\n",
    "    print(\"Saving to .csv\")\n",
    "    df.to_csv(os.path.join(DATA_DIR_FULL_PATH, RAW_DATA_FILE))\n",
    "    \n",
    "elif df['timestep_time'].dtype.name == 'object':\n",
    "    df.loc[:, 'timestep_time'] = pd.to_datetime(df.loc[:, 'timestep_time'])"
   ]
  },
  {
   "cell_type": "code",
   "execution_count": 12,
   "metadata": {},
   "outputs": [
    {
     "name": "stdout",
     "output_type": "stream",
     "text": [
      "func:bin_2D_sum took: 5.78083062171936 sec\n"
     ]
    },
    {
     "data": {
      "text/plain": [
       "(None, 5.78083062171936)"
      ]
     },
     "execution_count": 12,
     "metadata": {},
     "output_type": "execute_result"
    }
   ],
   "source": [
    "mask = df['vehicle_fuel'] <= 0.000076\n",
    "df.loc[mask, 'vehicle_fuel'] = 0.000077\n",
    "\n",
    "emissions.bin_2D_sum(emissions_df=df, bin_column=['vehicle_fuel'], resample_period=resample_period, bin_size=5, processor_num=1)"
   ]
  },
  {
   "cell_type": "markdown",
   "metadata": {},
   "source": [
    "### Grabbing the Data"
   ]
  },
  {
   "cell_type": "code",
   "execution_count": 7,
   "metadata": {},
   "outputs": [],
   "source": [
    "binned_emissions_dict = pickle.load(open(os.path.join(definitions.DATA_DIR, 'emissions_dict.pkl'), 'rb'))"
   ]
  },
  {
   "cell_type": "markdown",
   "metadata": {},
   "source": [
    "### Plotting the Data"
   ]
  },
  {
   "cell_type": "markdown",
   "metadata": {},
   "source": [
    "#### Plot Constants"
   ]
  },
  {
   "cell_type": "code",
   "execution_count": 8,
   "metadata": {},
   "outputs": [],
   "source": [
    "plot_radius = 10\n",
    "mapbox_key = \"pk.eyJ1IjoibWF4LXNjaHJhZGVyIiwiYSI6ImNrOHQxZ2s3bDAwdXQzbG81NjZpZm96bDEifQ.etUi4OK4ozzaP_P8foZn_A\"\n",
    "\n",
    "colorscale = [\n",
    "              [0.0, \"rgba(0, 255, 204, 0)\"],\n",
    "              [0.2, \"rgb(0, 255, 51)\"],\n",
    "              [0.4, \"rgb(204, 255, 0)\"],\n",
    "              [0.6, \"rgb(255, 204, 51)\"],\n",
    "              [0.8, \"rgb(255, 102, 51)\"],\n",
    "              [1.0, \"rgb(204,0,0)\"],\n",
    "            ]\n",
    "\n",
    "color_axis = dict(\n",
    "            cmin=0,\n",
    "            cmax=None,\n",
    "            showscale=True,\n",
    "            colorscale=colorscale,\n",
    "            colorbar=dict(\n",
    "                outlinecolor=\"black\",\n",
    "                outlinewidth=2,\n",
    "                ticks=\"outside\",\n",
    "                # tickfont=pt.font_dict,\n",
    "                tickvals=None, # tickvalues,\n",
    "                ticktext=None,\n",
    "                # title=\"[$gal/25m^2$]<br /> <br />\",\n",
    "                title=\"[gal/25m^2] <br /> <br />\",\n",
    "                tickformat=\"e\",\n",
    "                # titlefont=pt.font_dict,\n",
    "            )\n",
    ")"
   ]
  },
  {
   "cell_type": "code",
   "execution_count": 9,
   "metadata": {},
   "outputs": [],
   "source": [
    "plot_time_list = [pd.to_datetime('2020-02-13T05:00:00'), pd.to_datetime('2020-02-13T07:00:00'), pd.to_datetime('2020-02-13T15:00:00'), pd.to_datetime('2020-02-13T17:00:00')]\n",
    "plot_titles = ['5AM - 7AM', '7AM - 9AM', '3PM - 5PM', '5PM - 7PM']\n",
    "plot_titles = [plot_titles[i] + f\"<br /> Total Fuel Consumed: {round(binned_emissions_dict[time]['interval_sum'], 2)} gallons\" for i, time in enumerate(plot_time_list)]\n",
    "num_plots = len(plot_time_list)\n",
    "fig = make_subplots(rows=1, cols=num_plots,\n",
    "                    specs=[[{'type': 'mapbox', }] * num_plots],\n",
    "                    subplot_titles=plot_titles,\n",
    "                    column_widths=[(1 - 0.1 * (num_plots / 2)) / num_plots]*num_plots,\n",
    "                    horizontal_spacing=0.05,)\n",
    "\n",
    "mapbox_dict = {'mapbox': dict(accesstoken=mapbox_key,\n",
    "                                bearing=0,\n",
    "                                style='mapbox://styles/max-schrader/ck8t1cmmc02wk1it9rv28iyte',\n",
    "                                center=go.layout.mapbox.Center(\n",
    "                                    lat=33.126275,\n",
    "                                    lon=-87.54891\n",
    "                                ),\n",
    "                                pitch=0,\n",
    "                                zoom=14.35),}\n",
    "\n",
    "max_value = -20\n",
    "for i, time in enumerate(plot_time_list):\n",
    "    \n",
    "    z_data = binned_emissions_dict[time]['data']\n",
    "    lat_edges = binned_emissions_dict[time]['lat']\n",
    "    lon_edges = binned_emissions_dict[time]['lon']\n",
    "    max_value = binned_emissions_dict[time]['max_value'] if binned_emissions_dict[time]['max_value'] > max_value else max_value\n",
    "    \n",
    "    fig.add_trace(go.Densitymapbox(lat=lat_edges,\n",
    "                                    lon=lon_edges,\n",
    "                                    z=z_data,\n",
    "                                    # customdata=summed_array[0][2],\n",
    "                                    # hovertemplate='%{customdata}' if sum else None,\n",
    "                                    radius=plot_radius,\n",
    "                                    hoverinfo='z',\n",
    "                                    coloraxis=\"coloraxis\",\n",
    "                                    ),\n",
    "                    row=1,\n",
    "                    col=i+1)\n",
    "    \n",
    "    mapbox_dict['mapbox'+ str(i+2)] =  mapbox_dict['mapbox']\n",
    "    \n",
    "color_axis['cmax'] = math.ceil(max_value * 1000) / 1000\n",
    "\n",
    "len_of_max = len(str(color_axis['cmax']))\n",
    "# tickvalues = np.around(np.linspace(0, np.round(color_axis['cmax'], len_of_max-1), 7), 3)\n",
    "tickvalues = np.around(np.linspace(0, np.round(color_axis['cmax'], len_of_max), 7), 3)\n",
    "ticktext = [str(val) for val in tickvalues]\n",
    "\n",
    "color_axis['colorbar']['tickvals'] = tickvalues\n",
    "color_axis['colorbar']['ticktext'] = ticktext"
   ]
  },
  {
   "cell_type": "code",
   "execution_count": 10,
   "metadata": {},
   "outputs": [],
   "source": [
    "fig.update_layout(mapbox_dict)\n",
    "\n",
    "fig.update_layout(\n",
    "    title={\"text\": \"Fuel Consumption\", 'yanchor': 'middle', 'xanchor': 'center'},\n",
    "    hovermode='closest',\n",
    "#     mapbox=dict(\n",
    "#         accesstoken=mapbox_key,\n",
    "#         bearing=0,\n",
    "#         style='mapbox://styles/max-schrader/ck8t1cmmc02wk1it9rv28iyte',\n",
    "#         center=go.layout.mapbox.Center(\n",
    "#             lat=33.12627,\n",
    "#             lon=-87.54891\n",
    "#         ),\n",
    "#         pitch=0,\n",
    "#         zoom=14.1,\n",
    "#     ),\n",
    "    coloraxis=color_axis\n",
    ")\n",
    "fig.update_layout(template='simple_white', font_family='helvetica', font_size=16,) #height=600, width=1200,)\n",
    "\n",
    "fig.show('browser')\n",
    "# pio.write_json(fig, os.path.join(definitions.ROOT, 'raw_plots', 'mapbox.plotly'))"
   ]
  },
  {
   "cell_type": "code",
   "execution_count": null,
   "metadata": {},
   "outputs": [],
   "source": []
  }
 ],
 "metadata": {
  "kernelspec": {
   "display_name": "US69-plotting",
   "language": "python",
   "name": "us69-plotting"
  },
  "language_info": {
   "codemirror_mode": {
    "name": "ipython",
    "version": 3
   },
   "file_extension": ".py",
   "mimetype": "text/x-python",
   "name": "python",
   "nbconvert_exporter": "python",
   "pygments_lexer": "ipython3",
   "version": "3.7.8"
  }
 },
 "nbformat": 4,
 "nbformat_minor": 4
}
