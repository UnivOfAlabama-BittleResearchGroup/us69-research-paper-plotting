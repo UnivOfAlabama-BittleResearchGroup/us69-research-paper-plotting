{
 "cells": [
  {
   "cell_type": "code",
   "execution_count": 1,
   "metadata": {},
   "outputs": [],
   "source": [
    "import sys\n",
    "import os\n",
    "sys.path.append(\"../\")"
   ]
  },
  {
   "cell_type": "code",
   "execution_count": 2,
   "metadata": {},
   "outputs": [],
   "source": [
    "import plotly.graph_objects as go\n",
    "from plotly.subplots import make_subplots\n",
    "import plotly.io as pio\n",
    "import numpy as np\n",
    "import plotly_template as pt\n",
    "from functions import emissions\n",
    "import definitions\n",
    "import pandas as pd\n",
    "import pickle\n",
    "import math\n",
    "import numpy as np\n",
    "\n",
    "# pio.renderers.default = \"browser\""
   ]
  },
  {
   "cell_type": "markdown",
   "metadata": {},
   "source": [
    "# Generating Iterations of the Heatmaps"
   ]
  },
  {
   "cell_type": "markdown",
   "metadata": {},
   "source": [
    "### Creating the emissions plot function"
   ]
  },
  {
   "cell_type": "markdown",
   "metadata": {},
   "source": [
    "### File locations and constants"
   ]
  },
  {
   "cell_type": "code",
   "execution_count": 3,
   "metadata": {
    "collapsed": false,
    "jupyter": {
     "outputs_hidden": false
    },
    "pycharm": {
     "name": "#%%\n"
    }
   },
   "outputs": [],
   "source": [
    "DATA_FOLDER = '2020-02-13'\n",
    "DATA_DIR = r'Z:\\6 ACTION Project\\SUMO\\Sim_Output_Data\\7-14-2020' \n",
    "# DATA_DIR_FULL_PATH = os.path.join(definitions.DATA_DIR, DATA_FOLDER)\n",
    "DATA_DIR_FULL_PATH = os.path.join(DATA_DIR, DATA_FOLDER)\n",
    "RAW_DATA_FILE = 'data.csv'\n",
    "RAW_DATA_SUMMARY = 'data_summary.csv'"
   ]
  },
  {
   "cell_type": "markdown",
   "metadata": {},
   "source": [
    "### Bining the Emissions Data"
   ]
  },
  {
   "cell_type": "markdown",
   "metadata": {},
   "source": [
    "The time is >=time[i] & < time[i+1]"
   ]
  },
  {
   "cell_type": "code",
   "execution_count": 4,
   "metadata": {},
   "outputs": [],
   "source": [
    "resample_period = '120T' # aka the bin size\n",
    "bin_size = 5"
   ]
  },
  {
   "cell_type": "code",
   "execution_count": 41,
   "metadata": {},
   "outputs": [
    {
     "name": "stderr",
     "output_type": "stream",
     "text": [
      "c:\\users\\spraychamber\\us69-research-paper-plotting\\venv\\lib\\site-packages\\numpy\\lib\\arraysetops.py:569: FutureWarning:\n",
      "\n",
      "elementwise comparison failed; returning scalar instead, but in the future will perform elementwise comparison\n",
      "\n"
     ]
    }
   ],
   "source": [
    "df = pd.read_csv(os.path.join(DATA_DIR_FULL_PATH, RAW_DATA_FILE), low_memory=False, index_col=0)\n",
    "df['timestep_time'] = pd.to_datetime(df['timestep_time'])"
   ]
  },
  {
   "cell_type": "code",
   "execution_count": 43,
   "metadata": {},
   "outputs": [
    {
     "data": {
      "text/html": [
       "<div>\n",
       "<style scoped>\n",
       "    .dataframe tbody tr th:only-of-type {\n",
       "        vertical-align: middle;\n",
       "    }\n",
       "\n",
       "    .dataframe tbody tr th {\n",
       "        vertical-align: top;\n",
       "    }\n",
       "\n",
       "    .dataframe thead th {\n",
       "        text-align: right;\n",
       "    }\n",
       "</style>\n",
       "<table border=\"1\" class=\"dataframe\">\n",
       "  <thead>\n",
       "    <tr style=\"text-align: right;\">\n",
       "      <th></th>\n",
       "      <th>timestep_time</th>\n",
       "      <th>vehicle_CO</th>\n",
       "      <th>vehicle_CO2</th>\n",
       "      <th>vehicle_HC</th>\n",
       "      <th>vehicle_NOx</th>\n",
       "      <th>vehicle_PMx</th>\n",
       "      <th>vehicle_angle</th>\n",
       "      <th>vehicle_eclass</th>\n",
       "      <th>vehicle_electricity</th>\n",
       "      <th>vehicle_fuel</th>\n",
       "      <th>...</th>\n",
       "      <th>vehicle_speed</th>\n",
       "      <th>vehicle_type</th>\n",
       "      <th>vehicle_waiting</th>\n",
       "      <th>vehicle_x</th>\n",
       "      <th>vehicle_y</th>\n",
       "      <th>distance</th>\n",
       "      <th>norm_time</th>\n",
       "      <th>accel</th>\n",
       "      <th>vehicle_x_geo</th>\n",
       "      <th>vehicle_y_geo</th>\n",
       "    </tr>\n",
       "  </thead>\n",
       "  <tbody>\n",
       "    <tr>\n",
       "      <th>0</th>\n",
       "      <td>2020-02-12 23:00:00</td>\n",
       "      <td>0.00339</td>\n",
       "      <td>3.06246</td>\n",
       "      <td>0.00007</td>\n",
       "      <td>0.00068</td>\n",
       "      <td>0.00001</td>\n",
       "      <td>202.53</td>\n",
       "      <td>PHEMlight/PC_G_EU4</td>\n",
       "      <td>0.0</td>\n",
       "      <td>0.000343</td>\n",
       "      <td>...</td>\n",
       "      <td>53.641821</td>\n",
       "      <td>vehDist4</td>\n",
       "      <td>0.0</td>\n",
       "      <td>281.45</td>\n",
       "      <td>938.24</td>\n",
       "      <td>0.000000</td>\n",
       "      <td>0.0</td>\n",
       "      <td>0.000000</td>\n",
       "      <td>-87.545945</td>\n",
       "      <td>33.134742</td>\n",
       "    </tr>\n",
       "    <tr>\n",
       "      <th>1</th>\n",
       "      <td>2020-02-12 23:00:01</td>\n",
       "      <td>0.03119</td>\n",
       "      <td>6.26000</td>\n",
       "      <td>0.00040</td>\n",
       "      <td>0.00301</td>\n",
       "      <td>0.00011</td>\n",
       "      <td>202.53</td>\n",
       "      <td>PHEMlight/PC_G_EU4</td>\n",
       "      <td>0.0</td>\n",
       "      <td>0.000708</td>\n",
       "      <td>...</td>\n",
       "      <td>53.529974</td>\n",
       "      <td>vehDist4</td>\n",
       "      <td>0.0</td>\n",
       "      <td>272.32</td>\n",
       "      <td>916.23</td>\n",
       "      <td>0.014806</td>\n",
       "      <td>1.0</td>\n",
       "      <td>-0.111847</td>\n",
       "      <td>-87.546042</td>\n",
       "      <td>33.134543</td>\n",
       "    </tr>\n",
       "    <tr>\n",
       "      <th>2</th>\n",
       "      <td>2020-02-12 23:00:02</td>\n",
       "      <td>0.09466</td>\n",
       "      <td>9.31419</td>\n",
       "      <td>0.00098</td>\n",
       "      <td>0.00477</td>\n",
       "      <td>0.00037</td>\n",
       "      <td>202.53</td>\n",
       "      <td>PHEMlight/PC_G_EU4</td>\n",
       "      <td>0.0</td>\n",
       "      <td>0.001065</td>\n",
       "      <td>...</td>\n",
       "      <td>53.440497</td>\n",
       "      <td>vehDist4</td>\n",
       "      <td>0.0</td>\n",
       "      <td>263.25</td>\n",
       "      <td>894.35</td>\n",
       "      <td>0.029524</td>\n",
       "      <td>2.0</td>\n",
       "      <td>-0.089478</td>\n",
       "      <td>-87.546138</td>\n",
       "      <td>33.134345</td>\n",
       "    </tr>\n",
       "    <tr>\n",
       "      <th>3</th>\n",
       "      <td>2020-02-12 23:00:03</td>\n",
       "      <td>0.00318</td>\n",
       "      <td>2.75824</td>\n",
       "      <td>0.00007</td>\n",
       "      <td>0.00062</td>\n",
       "      <td>0.00001</td>\n",
       "      <td>202.53</td>\n",
       "      <td>PHEMlight/PC_G_EU4</td>\n",
       "      <td>0.0</td>\n",
       "      <td>0.000312</td>\n",
       "      <td>...</td>\n",
       "      <td>52.545721</td>\n",
       "      <td>vehDist4</td>\n",
       "      <td>0.0</td>\n",
       "      <td>254.24</td>\n",
       "      <td>872.64</td>\n",
       "      <td>0.044129</td>\n",
       "      <td>3.0</td>\n",
       "      <td>-0.894776</td>\n",
       "      <td>-87.546233</td>\n",
       "      <td>33.134149</td>\n",
       "    </tr>\n",
       "    <tr>\n",
       "      <th>4</th>\n",
       "      <td>2020-02-12 23:00:04</td>\n",
       "      <td>0.00000</td>\n",
       "      <td>0.00000</td>\n",
       "      <td>0.00000</td>\n",
       "      <td>0.00000</td>\n",
       "      <td>0.00000</td>\n",
       "      <td>202.53</td>\n",
       "      <td>PHEMlight/PC_G_EU4</td>\n",
       "      <td>0.0</td>\n",
       "      <td>0.000000</td>\n",
       "      <td>...</td>\n",
       "      <td>52.679937</td>\n",
       "      <td>vehDist4</td>\n",
       "      <td>0.0</td>\n",
       "      <td>245.18</td>\n",
       "      <td>850.79</td>\n",
       "      <td>0.058827</td>\n",
       "      <td>4.0</td>\n",
       "      <td>0.134216</td>\n",
       "      <td>-87.546329</td>\n",
       "      <td>33.133952</td>\n",
       "    </tr>\n",
       "  </tbody>\n",
       "</table>\n",
       "<p>5 rows × 25 columns</p>\n",
       "</div>"
      ],
      "text/plain": [
       "        timestep_time  vehicle_CO  vehicle_CO2  vehicle_HC  vehicle_NOx  \\\n",
       "0 2020-02-12 23:00:00     0.00339      3.06246     0.00007      0.00068   \n",
       "1 2020-02-12 23:00:01     0.03119      6.26000     0.00040      0.00301   \n",
       "2 2020-02-12 23:00:02     0.09466      9.31419     0.00098      0.00477   \n",
       "3 2020-02-12 23:00:03     0.00318      2.75824     0.00007      0.00062   \n",
       "4 2020-02-12 23:00:04     0.00000      0.00000     0.00000      0.00000   \n",
       "\n",
       "   vehicle_PMx  vehicle_angle      vehicle_eclass  vehicle_electricity  \\\n",
       "0      0.00001         202.53  PHEMlight/PC_G_EU4                  0.0   \n",
       "1      0.00011         202.53  PHEMlight/PC_G_EU4                  0.0   \n",
       "2      0.00037         202.53  PHEMlight/PC_G_EU4                  0.0   \n",
       "3      0.00001         202.53  PHEMlight/PC_G_EU4                  0.0   \n",
       "4      0.00000         202.53  PHEMlight/PC_G_EU4                  0.0   \n",
       "\n",
       "   vehicle_fuel  ... vehicle_speed vehicle_type  vehicle_waiting  vehicle_x  \\\n",
       "0      0.000343  ...     53.641821     vehDist4              0.0     281.45   \n",
       "1      0.000708  ...     53.529974     vehDist4              0.0     272.32   \n",
       "2      0.001065  ...     53.440497     vehDist4              0.0     263.25   \n",
       "3      0.000312  ...     52.545721     vehDist4              0.0     254.24   \n",
       "4      0.000000  ...     52.679937     vehDist4              0.0     245.18   \n",
       "\n",
       "  vehicle_y  distance norm_time     accel  vehicle_x_geo  vehicle_y_geo  \n",
       "0    938.24  0.000000       0.0  0.000000     -87.545945      33.134742  \n",
       "1    916.23  0.014806       1.0 -0.111847     -87.546042      33.134543  \n",
       "2    894.35  0.029524       2.0 -0.089478     -87.546138      33.134345  \n",
       "3    872.64  0.044129       3.0 -0.894776     -87.546233      33.134149  \n",
       "4    850.79  0.058827       4.0  0.134216     -87.546329      33.133952  \n",
       "\n",
       "[5 rows x 25 columns]"
      ]
     },
     "execution_count": 43,
     "metadata": {},
     "output_type": "execute_result"
    }
   ],
   "source": [
    "df.loc[:, 'vehicle_fuel'] = df.loc[:, 'vehicle_fuel'] / 3600\n",
    "df.head()"
   ]
  },
  {
   "cell_type": "code",
   "execution_count": 44,
   "metadata": {},
   "outputs": [
    {
     "name": "stdout",
     "output_type": "stream",
     "text": [
      "func:bin_2D_sum took: 5.821041107177734 sec\n"
     ]
    },
    {
     "data": {
      "text/plain": [
       "(None, 5.821041107177734)"
      ]
     },
     "execution_count": 44,
     "metadata": {},
     "output_type": "execute_result"
    }
   ],
   "source": [
    "mask = df['vehicle_fuel'] <= 0.000076\n",
    "df.loc[mask, 'vehicle_fuel'] = 0.000077\n",
    "\n",
    "emissions.bin_2D_sum(emissions_df=df, bin_column=['vehicle_fuel'], resample_period=resample_period, bin_size=5, processor_num=1)"
   ]
  },
  {
   "cell_type": "markdown",
   "metadata": {},
   "source": [
    "### Grabbing the Data"
   ]
  },
  {
   "cell_type": "code",
   "execution_count": 45,
   "metadata": {},
   "outputs": [],
   "source": [
    "binned_emissions_dict = pickle.load(open(os.path.join(definitions.DATA_DIR, 'emissions_dict.pkl'), 'rb'))"
   ]
  },
  {
   "cell_type": "markdown",
   "metadata": {},
   "source": [
    "### Plotting the Data"
   ]
  },
  {
   "cell_type": "markdown",
   "metadata": {},
   "source": [
    "#### Plot Constants"
   ]
  },
  {
   "cell_type": "code",
   "execution_count": 34,
   "metadata": {},
   "outputs": [],
   "source": [
    "plot_radius = 10\n",
    "mapbox_key = \"pk.eyJ1IjoibWF4LXNjaHJhZGVyIiwiYSI6ImNrOHQxZ2s3bDAwdXQzbG81NjZpZm96bDEifQ.etUi4OK4ozzaP_P8foZn_A\"\n",
    "\n",
    "colorscale = [\n",
    "              [0.0, \"rgba(0, 255, 204, 0)\"],\n",
    "              [0.2, \"rgb(0, 255, 51)\"],\n",
    "              [0.4, \"rgb(204, 255, 0)\"],\n",
    "              [0.6, \"rgb(255, 204, 51)\"],\n",
    "              [0.8, \"rgb(255, 102, 51)\"],\n",
    "              [1.0, \"rgb(204,0,0)\"],\n",
    "            ]\n",
    "\n",
    "color_axis = dict(\n",
    "            cmin=0,\n",
    "            cmax=None,\n",
    "            showscale=True,\n",
    "            colorscale=colorscale,\n",
    "            colorbar=dict(\n",
    "                outlinecolor=\"black\",\n",
    "                outlinewidth=2,\n",
    "                ticks=\"outside\",\n",
    "                # tickfont=pt.font_dict,\n",
    "                tickvals=None, # tickvalues,\n",
    "                ticktext=None,\n",
    "                # title=\"[$gal/25m^2$]<br /> <br />\",\n",
    "                title=\"[gal/25m^2] <br /> <br />\",\n",
    "                tickformat=\"e\",\n",
    "                # titlefont=pt.font_dict,\n",
    "            )\n",
    ")"
   ]
  },
  {
   "cell_type": "code",
   "execution_count": 46,
   "metadata": {},
   "outputs": [],
   "source": [
    "plot_time_list = [pd.to_datetime('2020-02-13T05:00:00'), pd.to_datetime('2020-02-13T07:00:00'), pd.to_datetime('2020-02-13T15:00:00'), pd.to_datetime('2020-02-13T17:00:00')]\n",
    "plot_titles = ['5AM - 7AM', '7AM - 9AM', '3PM - 5PM', '5PM - 7PM']\n",
    "plot_titles = [plot_titles[i] + f\"<br /> Total Fuel Consumed: {round(binned_emissions_dict[time]['interval_sum'], 2)} gallons\" for i, time in enumerate(plot_time_list)]\n",
    "num_plots = len(plot_time_list)\n",
    "fig = make_subplots(rows=1, cols=num_plots,\n",
    "                    specs=[[{'type': 'mapbox', }] * num_plots],\n",
    "                    subplot_titles=plot_titles,\n",
    "                    column_widths=[(1 - 0.1 * (num_plots / 2)) / num_plots]*num_plots,\n",
    "                    horizontal_spacing=0.05,)\n",
    "\n",
    "mapbox_dict = {'mapbox': dict(accesstoken=mapbox_key,\n",
    "                                bearing=0,\n",
    "                                style='mapbox://styles/max-schrader/ck8t1cmmc02wk1it9rv28iyte',\n",
    "                                center=go.layout.mapbox.Center(\n",
    "                                    lat=33.126275,\n",
    "                                    lon=-87.54891\n",
    "                                ),\n",
    "                                pitch=0,\n",
    "                                zoom=14.35),}\n",
    "\n",
    "max_value = -20\n",
    "for i, time in enumerate(plot_time_list):\n",
    "    \n",
    "    z_data = binned_emissions_dict[time]['data']\n",
    "    lat_edges = binned_emissions_dict[time]['lat']\n",
    "    lon_edges = binned_emissions_dict[time]['lon']\n",
    "    max_value = binned_emissions_dict[time]['max_value'] if binned_emissions_dict[time]['max_value'] > max_value else max_value\n",
    "    \n",
    "    fig.add_trace(go.Densitymapbox(lat=lat_edges,\n",
    "                                    lon=lon_edges,\n",
    "                                    z=z_data,\n",
    "                                    # customdata=summed_array[0][2],\n",
    "                                    # hovertemplate='%{customdata}' if sum else None,\n",
    "                                    radius=plot_radius,\n",
    "                                    hoverinfo='z',\n",
    "                                    coloraxis=\"coloraxis\",\n",
    "                                    ),\n",
    "                    row=1,\n",
    "                    col=i+1)\n",
    "    \n",
    "    mapbox_dict['mapbox'+ str(i+2)] =  mapbox_dict['mapbox']\n",
    "    \n",
    "color_axis['cmax'] = math.ceil(max_value * 1000) / 1000\n",
    "\n",
    "len_of_max = len(str(color_axis['cmax']))\n",
    "# tickvalues = np.around(np.linspace(0, np.round(color_axis['cmax'], len_of_max-1), 7), 3)\n",
    "tickvalues = np.around(np.linspace(0, np.round(color_axis['cmax'], len_of_max), 7), 3)\n",
    "ticktext = [str(val) for val in tickvalues]\n",
    "\n",
    "color_axis['colorbar']['tickvals'] = tickvalues\n",
    "color_axis['colorbar']['ticktext'] = ticktext"
   ]
  },
  {
   "cell_type": "code",
   "execution_count": 47,
   "metadata": {},
   "outputs": [],
   "source": [
    "fig.update_layout(mapbox_dict)\n",
    "\n",
    "fig.update_layout(\n",
    "    title={\"text\": \"Fuel Consumption\", 'yanchor': 'middle', 'xanchor': 'center'},\n",
    "    hovermode='closest',\n",
    "#     mapbox=dict(\n",
    "#         accesstoken=mapbox_key,\n",
    "#         bearing=0,\n",
    "#         style='mapbox://styles/max-schrader/ck8t1cmmc02wk1it9rv28iyte',\n",
    "#         center=go.layout.mapbox.Center(\n",
    "#             lat=33.12627,\n",
    "#             lon=-87.54891\n",
    "#         ),\n",
    "#         pitch=0,\n",
    "#         zoom=14.1,\n",
    "#     ),\n",
    "    coloraxis=color_axis\n",
    ")\n",
    "fig.update_layout(template='simple_white', font_family='helvetica', font_size=16,) #height=600, width=1200,)\n",
    "\n",
    "fig.show('browser')\n",
    "# pio.write_json(fig, os.path.join(definitions.ROOT, 'raw_plots', 'mapbox.plotly'))"
   ]
  },
  {
   "cell_type": "code",
   "execution_count": null,
   "metadata": {},
   "outputs": [],
   "source": []
  }
 ],
 "metadata": {
  "kernelspec": {
   "display_name": "US69-plotting",
   "language": "python",
   "name": "us69-plotting"
  },
  "language_info": {
   "codemirror_mode": {
    "name": "ipython",
    "version": 3
   },
   "file_extension": ".py",
   "mimetype": "text/x-python",
   "name": "python",
   "nbconvert_exporter": "python",
   "pygments_lexer": "ipython3",
   "version": "3.7.8"
  }
 },
 "nbformat": 4,
 "nbformat_minor": 4
}
